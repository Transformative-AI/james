{
 "cells": [
  {
   "cell_type": "markdown",
   "id": "efbdf3d3-55a8-49b0-bed8-daa30ad8972c",
   "metadata": {},
   "source": [
    "# Basketball Shot Event Identification v1\n",
    "## Make/Miss or OTHER\n",
    "\n",
    "##### In this notebook I will attempt to train a model to identify whether or not a 'Game Event' is a shot given video clips.\n",
    "\n",
    "#### 1. Gather Clips\n",
    "#### 2. Preprocess Clips into Trainable Data\n",
    "#### 3. Build Dataset and Split into Test/Train\n",
    "#### 4. Train the Model\n",
    "#### 5. Verify Results"
   ]
  },
  {
   "cell_type": "code",
   "execution_count": 15,
   "id": "1d5d263d-0c47-4676-b17d-8880760491de",
   "metadata": {},
   "outputs": [],
   "source": [
    "import cv2\n",
    "import requests\n",
    "import numpy as np\n",
    "import os\n",
    "from nba_api.stats.endpoints import leaguegamefinder"
   ]
  },
  {
   "cell_type": "markdown",
   "id": "841129c2-8a05-47b0-865a-e6ba46eb3fde",
   "metadata": {},
   "source": [
    "##### Lets take a subset of games. \n",
    "To do this we will reuse the code from small assignment 2."
   ]
  },
  {
   "cell_type": "code",
   "execution_count": 18,
   "id": "9ec8b7bc-ffa2-40e3-9f06-d5c77ff630a3",
   "metadata": {},
   "outputs": [
    {
     "data": {
      "text/plain": [
       "array(['0041900406', '0041900405', '0041900404', ..., '0011900002',\n",
       "       '0011900004', '0011900001'], dtype=object)"
      ]
     },
     "execution_count": 18,
     "metadata": {},
     "output_type": "execute_result"
    }
   ],
   "source": [
    "def get_season_games(season_year='2019-20'):\n",
    "    gamefinder = leaguegamefinder.LeagueGameFinder(season_nullable=season_year)\n",
    "    games_df = gamefinder.get_data_frames()[0]\n",
    "    return games_df['GAME_ID'].unique()\n",
    "\n",
    "game_ids = get_season_games('2019-20')\n",
    "game_ids"
   ]
  },
  {
   "cell_type": "code",
   "execution_count": 21,
   "id": "c294b5c9-eec7-4484-a68b-e0141fdd362b",
   "metadata": {},
   "outputs": [],
   "source": [
    "subsetGMs=game_ids[525:530]"
   ]
  },
  {
   "cell_type": "markdown",
   "id": "86312d9b-382e-4ea4-a0a0-eb4c2bbfee8e",
   "metadata": {},
   "source": [
    "#### Retrieve Videos\n",
    "During small assignment 5, I tested a solution for accessing nba clips."
   ]
  },
  {
   "cell_type": "code",
   "execution_count": 29,
   "id": "2a3c7acd-56cb-4c40-b1ff-4a1c5c2b69fe",
   "metadata": {},
   "outputs": [],
   "source": [
    "headers = {\n",
    "    'Host': 'stats.nba.com',\n",
    "    'User-Agent': 'Mozilla/5.0 (Windows NT 10.0; Win64; x64; rv:72.0) Gecko/20100101 Firefox/72.0',\n",
    "    'Accept': 'application/json, text/plain, */*',\n",
    "    'Accept-Language': 'en-US,en;q=0.5',\n",
    "    'Accept-Encoding': 'gzip, deflate, br',\n",
    "    'x-nba-stats-origin': 'stats',\n",
    "    'x-nba-stats-token': 'true',\n",
    "    'Connection': 'keep-alive',\n",
    "    'Referer': 'https://stats.nba.com/',\n",
    "    'Pragma': 'no-cache',\n",
    "    'Cache-Control': 'no-cache'\n",
    "}"
   ]
  },
  {
   "cell_type": "code",
   "execution_count": 71,
   "id": "3056bc8d-c458-41b0-8ae7-d0a905f1746d",
   "metadata": {},
   "outputs": [
    {
     "name": "stdout",
     "output_type": "stream",
     "text": [
      "25.0% of 0021900792 complete\n",
      "50.0% of 0021900792 complete\n",
      "75.0% of 0021900792 complete\n",
      "100.0% of 0021900792 complete\n",
      "25.0% of 2021900433 complete\n",
      "50.0% of 2021900433 complete\n",
      "75.0% of 2021900433 complete\n",
      "100.0% of 2021900433 complete\n",
      "25.0% of 0021900786 complete\n",
      "50.0% of 0021900786 complete\n",
      "75.0% of 0021900786 complete\n",
      "100.0% of 0021900786 complete\n",
      "25.0% of 0021900788 complete\n",
      "50.0% of 0021900788 complete\n",
      "75.0% of 0021900788 complete\n",
      "100.0% of 0021900788 complete\n",
      "25.0% of 0021900789 complete\n",
      "50.0% of 0021900789 complete\n",
      "75.0% of 0021900789 complete\n",
      "100.0% of 0021900789 complete\n"
     ]
    }
   ],
   "source": [
    "successful_video_events=[]\n",
    "# video_count=0\n",
    "for gid in subsetGMs:\n",
    "    # if video_count:\n",
    "    #     print (video_count, 'events during', gid)\n",
    "    for i in range(200):\n",
    "        if (i+1)%50 == 0:\n",
    "            print(str((i+1)/2)+'% of', gid ,'complete')\n",
    "        video_count=0\n",
    "        event_id = i\n",
    "        game_id = gid\n",
    "        url = 'https://stats.nba.com/stats/videoeventsasset?GameEventID={}&GameID={}'.format(\n",
    "            event_id, game_id)\n",
    "        \n",
    "        try:\n",
    "            r = requests.get(url, headers=headers)\n",
    "            json = r.json()\n",
    "            \n",
    "            # Accessing the keys safely\n",
    "            video_urls = json['resultSets']['Meta'].get('videoUrls', [])\n",
    "            playlist = json['resultSets'].get('playlist', [])\n",
    "            \n",
    "            if video_urls and playlist:  # Ensure there are items before accessing\n",
    "                video_event = {'video': video_urls[0]['lurl'], 'desc': playlist[0]['dsc']}\n",
    "                successful_video_events.append(video_event)\n",
    "                # video_count+=1\n",
    "            #     print(video_event)\n",
    "            # else:\n",
    "            #     print(f\"No video URLs or playlist found for event ID {event_id}\")\n",
    "    \n",
    "        except KeyError as e:\n",
    "            print(f\"KeyError encountered for event ID {event_id}: {e}\")\n",
    "        except Exception as e:\n",
    "            print(f\"An error occurred for event ID {event_id}: {e}\")"
   ]
  },
  {
   "cell_type": "code",
   "execution_count": 73,
   "id": "b19b011a-da10-4238-b315-3a860221b123",
   "metadata": {},
   "outputs": [
    {
     "data": {
      "text/plain": [
       "716"
      ]
     },
     "execution_count": 73,
     "metadata": {},
     "output_type": "execute_result"
    }
   ],
   "source": [
    "print('before pruning',len(successful_video_events))"
   ]
  },
  {
   "cell_type": "code",
   "execution_count": 75,
   "id": "e8a456c4-00c8-466a-9ad7-ca0c0c10ee2d",
   "metadata": {},
   "outputs": [],
   "source": [
    "for i in successful_video_events:\n",
    "    if i['video'] == None:\n",
    "        successful_video_events.remove(i)"
   ]
  },
  {
   "cell_type": "code",
   "execution_count": 77,
   "id": "46d2581b-d9d5-444a-9ff1-ea78d1a7c797",
   "metadata": {},
   "outputs": [
    {
     "data": {
      "text/plain": [
       "570"
      ]
     },
     "execution_count": 77,
     "metadata": {},
     "output_type": "execute_result"
    }
   ],
   "source": [
    "len(successful_video_events)"
   ]
  },
  {
   "cell_type": "markdown",
   "id": "7967c313-8427-4f9d-ba9a-bf55266f6eb6",
   "metadata": {},
   "source": [
    "#### We are going to split the video events into shots and non-shots."
   ]
  },
  {
   "cell_type": "code",
   "execution_count": 88,
   "id": "e83aa26b-93e2-4c8a-aec3-a01fac7a05fa",
   "metadata": {},
   "outputs": [
    {
     "name": "stdout",
     "output_type": "stream",
     "text": [
      "142 428 570\n"
     ]
    }
   ],
   "source": [
    "sve=successful_video_events #make a copy\n",
    "shot_urls=[]\n",
    "for i in successful_video_events:\n",
    "    if 'Shot' in i['desc']:\n",
    "        shot_urls.append(i['video'])\n",
    "        sve.remove(i)\n",
    "nonShot_urls=sve\n",
    "print(len(shot_urls), len(nonShot_urls), len(shot_urls)+len(nonShot_urls))"
   ]
  },
  {
   "cell_type": "markdown",
   "id": "54259713-0ece-4d6f-bcc1-d129ab56468c",
   "metadata": {},
   "source": [
    "I have just realized that clips in the non-shot pile might also feature shot attempts, therefore I am changing my approach to identifying makes and misses on shot attempts."
   ]
  },
  {
   "cell_type": "markdown",
   "id": "3dec565e-c762-417e-9817-e82cbaecf8ab",
   "metadata": {},
   "source": [
    "For the sake of time and space (storage), we will train get the data from the first 100 events "
   ]
  },
  {
   "cell_type": "code",
   "execution_count": null,
   "id": "4ba79107-222a-4814-8215-76384a48bdf3",
   "metadata": {},
   "outputs": [],
   "source": []
  },
  {
   "cell_type": "code",
   "execution_count": null,
   "id": "d61c0bcf-28f8-4da4-aaad-a8c1500f16fd",
   "metadata": {},
   "outputs": [],
   "source": []
  },
  {
   "cell_type": "code",
   "execution_count": 102,
   "id": "368378c1-2340-43c1-97fd-d0649fcd4abd",
   "metadata": {},
   "outputs": [
    {
     "data": {
      "text/plain": [
       "False"
      ]
     },
     "execution_count": 102,
     "metadata": {},
     "output_type": "execute_result"
    }
   ],
   "source": [
    "True == None"
   ]
  },
  {
   "cell_type": "code",
   "execution_count": 104,
   "id": "b2241774-1500-43f9-947e-bda3abef0d73",
   "metadata": {},
   "outputs": [
    {
     "data": {
      "text/plain": [
       "True"
      ]
     },
     "execution_count": 104,
     "metadata": {},
     "output_type": "execute_result"
    }
   ],
   "source": [
    "True== 1"
   ]
  },
  {
   "cell_type": "code",
   "execution_count": null,
   "id": "deded0ab-cf52-4959-81d6-c442fa988485",
   "metadata": {},
   "outputs": [],
   "source": []
  }
 ],
 "metadata": {
  "kernelspec": {
   "display_name": "Python 3 (ipykernel)",
   "language": "python",
   "name": "python3"
  },
  "language_info": {
   "codemirror_mode": {
    "name": "ipython",
    "version": 3
   },
   "file_extension": ".py",
   "mimetype": "text/x-python",
   "name": "python",
   "nbconvert_exporter": "python",
   "pygments_lexer": "ipython3",
   "version": "3.11.5"
  }
 },
 "nbformat": 4,
 "nbformat_minor": 5
}
