{
 "cells": [
  {
   "cell_type": "markdown",
   "id": "207698c6-8b9b-435b-b6bf-5e89ca345797",
   "metadata": {},
   "source": [
    "We are going to take all of the games in a season - about 1200. We need to collect the shot data of each team... this will come from two places\n",
    "\n",
    "1. play by play -- the key information here is the shot_type. eventmsgactiontype gives a shot type in the form of a number. \n",
    "there are several types of shots these can be categorized further but this may be future work \n",
    "\n",
    "2. shot chart detail -- this lets us gather details about the shots for a specific team for a specific season\n",
    "\n",
    "In order to successfully merge these two repositories, we need to gather key information first.\n",
    "\n",
    "1. We want to gather all of the team ids. 30 teams.\n",
    "   • this gives us a way to categorize the rest of the information.\n",
    "   • we can run into issues requesting so much data...\n",
    "\n",
    "2. After gathering a list of teams, we will get the shot chart data for every game in a season for each team. We can gather the unique game_ids and game events to merge with our other shot data.\n",
    "\n",
    "    • What is the necessary data for training?\n",
    "\n",
    "       1. shot distance\n",
    "\n",
    "       2. shot location? \n",
    "\n",
    "3. Using the unique games_ids, we want to get the play by play data. We can pin point the data for a specific team using the game event id.\n",
    "\n",
    "    • What is the data we need from here? Primarily interested in shot type.\n",
    "\n",
    "       There are over 30 shot types possibly 40. These can likely be split further.\n",
    "\n",
    "# to put our minds at ease about the moving parts, lets import our important libraries"
   ]
  },
  {
   "cell_type": "code",
   "execution_count": 1,
   "id": "48372cf9-260e-4052-a6de-fbe468ca42c3",
   "metadata": {},
   "outputs": [],
   "source": [
    "from nba_api.stats.endpoints import leaguegamefinder, playbyplayv2, ShotChartDetail\n",
    "from nba_api.stats.static import teams\n",
    "import pandas as pd\n",
    "import time\n",
    "import numpy as np\n"
   ]
  },
  {
   "cell_type": "markdown",
   "id": "a68ba6b0-87fb-484a-9d70-8bb15e45ef20",
   "metadata": {},
   "source": [
    "1. Gather team ids"
   ]
  },
  {
   "cell_type": "code",
   "execution_count": 5,
   "id": "e1e26d55-110f-47a7-8a33-3327c9254717",
   "metadata": {},
   "outputs": [
    {
     "name": "stdout",
     "output_type": "stream",
     "text": [
      "30 {'id': 1610612737, 'full_name': 'Atlanta Hawks', 'abbreviation': 'ATL', 'nickname': 'Hawks', 'city': 'Atlanta', 'state': 'Georgia', 'year_founded': 1949}\n"
     ]
    }
   ],
   "source": [
    "nba_teams = teams.get_teams()\n",
    "print(len(nba_teams), nba_teams[0])\n"
   ]
  },
  {
   "cell_type": "code",
   "execution_count": 7,
   "id": "d48282b7-4d84-498f-8f79-2b7c7edd0961",
   "metadata": {},
   "outputs": [
    {
     "name": "stdout",
     "output_type": "stream",
     "text": [
      "{1610612737: 'Atlanta Hawks', 1610612738: 'Boston Celtics', 1610612739: 'Cleveland Cavaliers', 1610612740: 'New Orleans Pelicans', 1610612741: 'Chicago Bulls', 1610612742: 'Dallas Mavericks', 1610612743: 'Denver Nuggets', 1610612744: 'Golden State Warriors', 1610612745: 'Houston Rockets', 1610612746: 'Los Angeles Clippers', 1610612747: 'Los Angeles Lakers', 1610612748: 'Miami Heat', 1610612749: 'Milwaukee Bucks', 1610612750: 'Minnesota Timberwolves', 1610612751: 'Brooklyn Nets', 1610612752: 'New York Knicks', 1610612753: 'Orlando Magic', 1610612754: 'Indiana Pacers', 1610612755: 'Philadelphia 76ers', 1610612756: 'Phoenix Suns', 1610612757: 'Portland Trail Blazers', 1610612758: 'Sacramento Kings', 1610612759: 'San Antonio Spurs', 1610612760: 'Oklahoma City Thunder', 1610612761: 'Toronto Raptors', 1610612762: 'Utah Jazz', 1610612763: 'Memphis Grizzlies', 1610612764: 'Washington Wizards', 1610612765: 'Detroit Pistons', 1610612766: 'Charlotte Hornets'}\n"
     ]
    }
   ],
   "source": [
    "tIDs={}\n",
    "for tm in nba_teams:\n",
    "    tIDs[tm['id']]=tm['full_name']\n",
    "print(tIDs)"
   ]
  },
  {
   "cell_type": "code",
   "execution_count": null,
   "id": "2a914dca-3396-42c2-ae72-8922365d4084",
   "metadata": {},
   "outputs": [],
   "source": [
    "2. Now we will get the shot data for each team in the 23-24 season"
   ]
  },
  {
   "cell_type": "code",
   "execution_count": 9,
   "id": "191a5a6f-d920-47c4-8053-8b81c812a3dc",
   "metadata": {},
   "outputs": [],
   "source": [
    "def get_shot_chart_data(player_id, team_id, season_type):\n",
    "    try:\n",
    "        # Fetch data using nba_api's ShotChartDetail endpoint\n",
    "        shotchart = ShotChartDetail(\n",
    "            player_id=player_id,\n",
    "            team_id=team_id,\n",
    "            context_measure_simple='FGA',\n",
    "            season_type_all_star=season_type,  # Adjust season type (e.g., 'Regular Season', 'Playoffs')\n",
    "            season_nullable='2023-24'\n",
    "        )\n",
    "        \n",
    "        # Get the shot chart data from the API response\n",
    "        shot_data = shotchart.get_data_frames()[0]  # Data is returned as a list of dataframes\n",
    "        return shot_data\n",
    "    except Exception as e:\n",
    "        print(f\"An error occurred: {e}\")\n",
    "        return pd.DataFrame()  # Return an empty DataFrame on error"
   ]
  },
  {
   "cell_type": "code",
   "execution_count": 14,
   "id": "bb0234df-c70d-4a60-a313-6954eb60764a",
   "metadata": {
    "scrolled": true
   },
   "outputs": [
    {
     "name": "stdout",
     "output_type": "stream",
     "text": [
      "              GRID_TYPE     GAME_ID  GAME_EVENT_ID  PLAYER_ID  \\\n",
      "0     Shot Chart Detail  0022300009             11    1630163   \n",
      "1     Shot Chart Detail  0022300009             15    1629023   \n",
      "2     Shot Chart Detail  0022300009             19    1630163   \n",
      "3     Shot Chart Detail  0022300009             24    1641706   \n",
      "4     Shot Chart Detail  0022300009             28    1631109   \n",
      "...                 ...         ...            ...        ...   \n",
      "7128  Shot Chart Detail  0022301216            587     202330   \n",
      "7129  Shot Chart Detail  0022301216            596    1628970   \n",
      "7130  Shot Chart Detail  0022301216            598    1641706   \n",
      "7131  Shot Chart Detail  0022301216            617    1641706   \n",
      "7132  Shot Chart Detail  0022301216            621    1626179   \n",
      "\n",
      "          PLAYER_NAME     TEAM_ID          TEAM_NAME  PERIOD  \\\n",
      "0         LaMelo Ball  1610612766  Charlotte Hornets       1   \n",
      "1     P.J. Washington  1610612766  Charlotte Hornets       1   \n",
      "2         LaMelo Ball  1610612766  Charlotte Hornets       1   \n",
      "3      Brandon Miller  1610612766  Charlotte Hornets       1   \n",
      "4       Mark Williams  1610612766  Charlotte Hornets       1   \n",
      "...               ...         ...                ...     ...   \n",
      "7128   Gordon Hayward  1610612766  Charlotte Hornets       4   \n",
      "7129    Miles Bridges  1610612766  Charlotte Hornets       4   \n",
      "7130   Brandon Miller  1610612766  Charlotte Hornets       4   \n",
      "7131   Brandon Miller  1610612766  Charlotte Hornets       4   \n",
      "7132     Terry Rozier  1610612766  Charlotte Hornets       4   \n",
      "\n",
      "      MINUTES_REMAINING  SECONDS_REMAINING  ...         SHOT_ZONE_AREA  \\\n",
      "0                    11                 15  ...  Right Side Center(RC)   \n",
      "1                    10                 49  ...          Right Side(R)   \n",
      "2                    10                 15  ...  Right Side Center(RC)   \n",
      "3                     9                 45  ...   Left Side Center(LC)   \n",
      "4                     9                 16  ...              Center(C)   \n",
      "...                 ...                ...  ...                    ...   \n",
      "7128                  3                 35  ...              Center(C)   \n",
      "7129                  2                 38  ...              Center(C)   \n",
      "7130                  1                 58  ...   Left Side Center(LC)   \n",
      "7131                  0                 57  ...              Center(C)   \n",
      "7132                  0                 22  ...   Left Side Center(LC)   \n",
      "\n",
      "      SHOT_ZONE_RANGE SHOT_DISTANCE LOC_X LOC_Y SHOT_ATTEMPTED_FLAG  \\\n",
      "0             24+ ft.            27   214   172                   1   \n",
      "1             24+ ft.            22   228   -24                   1   \n",
      "2             24+ ft.            25   235    95                   1   \n",
      "3             24+ ft.            28  -120   264                   1   \n",
      "4            8-16 ft.             9   -38    85                   1   \n",
      "...               ...           ...   ...   ...                 ...   \n",
      "7128  Less Than 8 ft.             2    -2    21                   1   \n",
      "7129        16-24 ft.            23     1   231                   1   \n",
      "7130          24+ ft.            26  -158   218                   1   \n",
      "7131  Less Than 8 ft.             7   -13    75                   1   \n",
      "7132        16-24 ft.            22  -146   167                   1   \n",
      "\n",
      "      SHOT_MADE_FLAG  GAME_DATE  HTM  VTM  \n",
      "0                  0   20231110  WAS  CHA  \n",
      "1                  0   20231110  WAS  CHA  \n",
      "2                  0   20231110  WAS  CHA  \n",
      "3                  0   20231110  WAS  CHA  \n",
      "4                  0   20231110  WAS  CHA  \n",
      "...              ...        ...  ...  ...  \n",
      "7128               1   20231208  CHA  TOR  \n",
      "7129               1   20231208  CHA  TOR  \n",
      "7130               1   20231208  CHA  TOR  \n",
      "7131               0   20231208  CHA  TOR  \n",
      "7132               1   20231208  CHA  TOR  \n",
      "\n",
      "[7133 rows x 24 columns]\n",
      "dict_keys([1610612737, 1610612738, 1610612739, 1610612740, 1610612741, 1610612742, 1610612743, 1610612744, 1610612745, 1610612746, 1610612747, 1610612748, 1610612749, 1610612750, 1610612751, 1610612752, 1610612753, 1610612754, 1610612755, 1610612756, 1610612757, 1610612758, 1610612759, 1610612760, 1610612761, 1610612762, 1610612763, 1610612764, 1610612765, 1610612766])\n"
     ]
    }
   ],
   "source": [
    "player_id = 0  # Replace with the actual Player ID\n",
    "season_type = 'Regular Season'\n",
    "season_data={}\n",
    "for tid in tIDs:\n",
    "    \n",
    "# Fetch and display shot chart data\n",
    "    season_data[tid]=get_shot_chart_data(player_id, tid, season_type)\n",
    "\n",
    "# Display the first few rows of the shot data\n",
    "print(season_data[i])\n",
    "print(season_data.keys())"
   ]
  },
  {
   "cell_type": "code",
   "execution_count": 8,
   "id": "0504db7e-3ca6-4f88-aad1-03de28889723",
   "metadata": {},
   "outputs": [
    {
     "name": "stdout",
     "output_type": "stream",
     "text": [
      "1610612737\n",
      "1610612738\n",
      "1610612739\n",
      "1610612740\n",
      "1610612741\n",
      "1610612742\n",
      "1610612743\n",
      "1610612744\n",
      "1610612745\n",
      "1610612746\n",
      "1610612747\n",
      "1610612748\n",
      "1610612749\n",
      "1610612750\n",
      "1610612751\n",
      "1610612752\n",
      "1610612753\n",
      "1610612754\n",
      "1610612755\n",
      "1610612756\n",
      "1610612757\n",
      "1610612758\n",
      "1610612759\n",
      "1610612760\n",
      "1610612761\n",
      "1610612762\n",
      "1610612763\n",
      "1610612764\n",
      "1610612765\n",
      "1610612766\n"
     ]
    }
   ],
   "source": [
    "for i in tIDs:\n",
    "    print(i)"
   ]
  },
  {
   "cell_type": "code",
   "execution_count": 33,
   "id": "3eab0a58-4ac6-4f05-b7a0-1a9253d15aca",
   "metadata": {},
   "outputs": [
    {
     "data": {
      "text/plain": [
       "array(['0042300405', '0042300404', '0042300403', ..., '0012300001',\n",
       "       '2012300002', '2012300001'], dtype=object)"
      ]
     },
     "execution_count": 33,
     "metadata": {},
     "output_type": "execute_result"
    }
   ],
   "source": [
    "def get_season_games(season_year='2023-24'):\n",
    "    gamefinder = leaguegamefinder.LeagueGameFinder(season_nullable=season_year)\n",
    "    games_df = gamefinder.get_data_frames()[0]\n",
    "    return games_df['GAME_ID'].unique()\n",
    "game_ids = get_season_games('2023-24')\n",
    "game_ids"
   ]
  },
  {
   "cell_type": "code",
   "execution_count": 34,
   "id": "4bf108de-8ba9-46ae-b7c9-d16417441bcd",
   "metadata": {},
   "outputs": [
    {
     "data": {
      "text/plain": [
       "2191"
      ]
     },
     "execution_count": 34,
     "metadata": {},
     "output_type": "execute_result"
    }
   ],
   "source": [
    "len(game_ids)"
   ]
  },
  {
   "cell_type": "code",
   "execution_count": 35,
   "id": "5816668e-b529-4b76-bb4c-849d9398b3b0",
   "metadata": {
    "scrolled": true
   },
   "outputs": [
    {
     "data": {
      "text/plain": [
       "array(['0022300009', '0022300017', '0022300027', '0022300057',\n",
       "       '0022300063', '0022300077', '0022300101', '0022300122',\n",
       "       '0022300133', '0022300143', '0022300157', '0022300177',\n",
       "       '0022300202', '0022300217', '0022300225', '0022300248',\n",
       "       '0022300266', '0022300281', '0022300292', '0022300312',\n",
       "       '0022300326', '0022300335', '0022300354', '0022300365',\n",
       "       '0022300390', '0022300414', '0022300428', '0022300436',\n",
       "       '0022300455', '0022300464', '0022300484', '0022300506',\n",
       "       '0022300518', '0022300541', '0022300551', '0022300575',\n",
       "       '0022300584', '0022300593', '0022300610', '0022300619',\n",
       "       '0022300635', '0022300647', '0022300657', '0022300674',\n",
       "       '0022300695', '0022300707', '0022300713', '0022300726',\n",
       "       '0022300745', '0022300751', '0022300761', '0022300777',\n",
       "       '0022300801', '0022300811', '0022300826', '0022300840',\n",
       "       '0022300849', '0022300858', '0022300875', '0022300885',\n",
       "       '0022300910', '0022300918', '0022300933', '0022300950',\n",
       "       '0022300961', '0022300969', '0022300991', '0022301021',\n",
       "       '0022301033', '0022301048', '0022301062', '0022301079',\n",
       "       '0022301087', '0022301102', '0022301115', '0022301135',\n",
       "       '0022301144', '0022301159', '0022301173', '0022301187',\n",
       "       '0022301211', '0022301216'], dtype=object)"
      ]
     },
     "execution_count": 35,
     "metadata": {},
     "output_type": "execute_result"
    }
   ],
   "source": [
    "check=season_data[i]['GAME_ID'].unique()\n",
    "len(check)\n",
    "\n",
    "check"
   ]
  },
  {
   "cell_type": "code",
   "execution_count": 22,
   "id": "b8e6b11f-7b50-4018-ac23-87726d720c2a",
   "metadata": {},
   "outputs": [
    {
     "data": {
      "text/plain": [
       "82"
      ]
     },
     "execution_count": 22,
     "metadata": {},
     "output_type": "execute_result"
    }
   ],
   "source": [
    "len(check)"
   ]
  },
  {
   "cell_type": "code",
   "execution_count": 28,
   "id": "1d20e1bd-7a9c-4e10-8200-4434d54fbac6",
   "metadata": {},
   "outputs": [
    {
     "name": "stdout",
     "output_type": "stream",
     "text": [
      "30\n",
      "1230\n"
     ]
    }
   ],
   "source": [
    "temp=[]\n",
    "gameSet=set()\n",
    "for tm in season_data:\n",
    "    check=season_data[tm]['GAME_ID'].unique()\n",
    "    temp.append(check)\n",
    "    gameSet.update(check)\n",
    "print(len(temp))\n",
    "print(len(gameSet))"
   ]
  },
  {
   "cell_type": "code",
   "execution_count": 31,
   "id": "cb66901e-b568-4a54-96e5-b8b02395c61f",
   "metadata": {},
   "outputs": [],
   "source": [
    "def get_play_by_play_data(gameSet):\n",
    "    all_play_by_play_data = []\n",
    "    dloadProg=0\n",
    "    for game_id in gameSet:\n",
    "        dloadProg+=1\n",
    "        if dloadProg%20 == 0:\n",
    "            print(str(dloadProg/1230*100)+'%')\n",
    "        try:\n",
    "            pbp = playbyplayv2.PlayByPlayV2(game_id=game_id)\n",
    "            pbp_df = pbp.get_data_frames()[0]\n",
    "            pbp_df['GAME_ID'] = game_id\n",
    "            all_play_by_play_data.append(pbp_df)\n",
    "            time.sleep(1)  # To avoid hitting rate limits\n",
    "        except Exception as e:\n",
    "            print(f\"Error fetching data for game {game_id}: {e}\")\n",
    "    \n",
    "    combined_df = pd.concat(all_play_by_play_data, ignore_index=True)\n",
    "    return combined_df"
   ]
  },
  {
   "cell_type": "code",
   "execution_count": 32,
   "id": "4d538259-ecdf-4adc-be39-67c65ef80d4d",
   "metadata": {},
   "outputs": [
    {
     "name": "stdout",
     "output_type": "stream",
     "text": [
      "1.6260162601626018%\n",
      "3.2520325203252036%\n",
      "4.878048780487805%\n",
      "6.504065040650407%\n",
      "8.130081300813007%\n",
      "9.75609756097561%\n",
      "11.38211382113821%\n",
      "13.008130081300814%\n",
      "14.634146341463413%\n",
      "16.260162601626014%\n",
      "17.88617886178862%\n",
      "19.51219512195122%\n",
      "21.138211382113823%\n",
      "22.76422764227642%\n",
      "24.390243902439025%\n",
      "26.01626016260163%\n",
      "27.64227642276423%\n",
      "29.268292682926827%\n",
      "30.89430894308943%\n",
      "32.52032520325203%\n",
      "34.146341463414636%\n",
      "35.77235772357724%\n",
      "37.39837398373984%\n",
      "39.02439024390244%\n",
      "40.65040650406504%\n",
      "42.27642276422765%\n",
      "43.90243902439025%\n",
      "45.52845528455284%\n",
      "47.15447154471545%\n",
      "48.78048780487805%\n",
      "50.40650406504065%\n",
      "52.03252032520326%\n",
      "53.65853658536586%\n",
      "55.28455284552846%\n",
      "56.91056910569105%\n",
      "58.536585365853654%\n",
      "60.16260162601627%\n",
      "61.78861788617886%\n",
      "63.41463414634146%\n",
      "65.04065040650406%\n",
      "66.66666666666666%\n",
      "68.29268292682927%\n",
      "69.91869918699187%\n",
      "Error fetching data for game 0022301219: Expecting value: line 1 column 1 (char 0)\n",
      "71.54471544715447%\n",
      "73.17073170731707%\n",
      "74.79674796747967%\n",
      "76.42276422764228%\n",
      "78.04878048780488%\n",
      "79.67479674796748%\n",
      "81.30081300813008%\n",
      "82.92682926829268%\n",
      "84.5528455284553%\n",
      "86.1788617886179%\n",
      "87.8048780487805%\n",
      "89.43089430894308%\n",
      "91.05691056910568%\n",
      "92.6829268292683%\n",
      "94.3089430894309%\n",
      "95.9349593495935%\n",
      "97.5609756097561%\n",
      "99.1869918699187%\n"
     ]
    }
   ],
   "source": [
    "pbp_all = get_play_by_play_data(gameSet)"
   ]
  },
  {
   "cell_type": "markdown",
   "id": "bce4e587-65ef-4f92-a37c-7ac2a332bcbe",
   "metadata": {},
   "source": [
    "Now that we have all of our data. We need to merge what we want and omit\n",
    "what we dont need. we have a dictionary of season data for each team. the contents\n",
    "of each key is a df. we can merge the individual dfs i think. lets try"
   ]
  },
  {
   "cell_type": "code",
   "execution_count": 36,
   "id": "ed64c6b5-4c9f-4916-9959-7ddeb4a68c25",
   "metadata": {},
   "outputs": [
    {
     "data": {
      "text/plain": [
       "567185"
      ]
     },
     "execution_count": 36,
     "metadata": {},
     "output_type": "execute_result"
    }
   ],
   "source": [
    "len(pbp_all)"
   ]
  },
  {
   "cell_type": "code",
   "execution_count": null,
   "id": "a4419d16-af44-42a8-acdd-49f1e814a791",
   "metadata": {},
   "outputs": [],
   "source": []
  },
  {
   "cell_type": "code",
   "execution_count": 37,
   "id": "9c8877c8-6418-4aa7-ac4f-c48a4b227959",
   "metadata": {},
   "outputs": [
    {
     "data": {
      "text/plain": [
       "1229"
      ]
     },
     "execution_count": 37,
     "metadata": {},
     "output_type": "execute_result"
    }
   ],
   "source": [
    "len(pbp_all['GAME_ID'].unique())"
   ]
  },
  {
   "cell_type": "code",
   "execution_count": null,
   "id": "f745b59a-6ff6-4667-83c9-7a2082fb9348",
   "metadata": {},
   "outputs": [],
   "source": []
  },
  {
   "cell_type": "code",
   "execution_count": null,
   "id": "9b9fe4bd-00ac-47c8-94cb-d2503ed4e939",
   "metadata": {},
   "outputs": [],
   "source": []
  },
  {
   "cell_type": "code",
   "execution_count": null,
   "id": "6907fa1c-3c46-4231-a851-48c331ad4c36",
   "metadata": {},
   "outputs": [],
   "source": []
  },
  {
   "cell_type": "code",
   "execution_count": 40,
   "id": "f0fcd975-197e-47a4-917b-80f390f435dd",
   "metadata": {},
   "outputs": [
    {
     "data": {
      "text/plain": [
       "GAME_ID                                              0022300583\n",
       "EVENTNUM                                                      2\n",
       "EVENTMSGTYPE                                                 12\n",
       "EVENTMSGACTIONTYPE                                            0\n",
       "PERIOD                                                        1\n",
       "WCTIMESTRING                                           10:11 PM\n",
       "PCTIMESTRING                                              12:00\n",
       "HOMEDESCRIPTION                                            None\n",
       "NEUTRALDESCRIPTION           Start of 1st Period (10:11 PM EST)\n",
       "VISITORDESCRIPTION                                         None\n",
       "SCORE                                                      None\n",
       "SCOREMARGIN                                                None\n",
       "PERSON1TYPE                                                   0\n",
       "PLAYER1_ID                                                    0\n",
       "PLAYER1_NAME                                               None\n",
       "PLAYER1_TEAM_ID                                             NaN\n",
       "PLAYER1_TEAM_CITY                                          None\n",
       "PLAYER1_TEAM_NICKNAME                                      None\n",
       "PLAYER1_TEAM_ABBREVIATION                                  None\n",
       "PERSON2TYPE                                                   0\n",
       "PLAYER2_ID                                                    0\n",
       "PLAYER2_NAME                                               None\n",
       "PLAYER2_TEAM_ID                                             NaN\n",
       "PLAYER2_TEAM_CITY                                          None\n",
       "PLAYER2_TEAM_NICKNAME                                      None\n",
       "PLAYER2_TEAM_ABBREVIATION                                  None\n",
       "PERSON3TYPE                                                   0\n",
       "PLAYER3_ID                                                    0\n",
       "PLAYER3_NAME                                               None\n",
       "PLAYER3_TEAM_ID                                             NaN\n",
       "PLAYER3_TEAM_CITY                                          None\n",
       "PLAYER3_TEAM_NICKNAME                                      None\n",
       "PLAYER3_TEAM_ABBREVIATION                                  None\n",
       "VIDEO_AVAILABLE_FLAG                                          0\n",
       "Name: 0, dtype: object"
      ]
     },
     "execution_count": 40,
     "metadata": {},
     "output_type": "execute_result"
    }
   ],
   "source": [
    "#pick a random game to test\n",
    "pbp_all.iloc[0]"
   ]
  },
  {
   "cell_type": "code",
   "execution_count": 44,
   "id": "d1bf7156-fa81-47ed-b635-6bb819811fd7",
   "metadata": {},
   "outputs": [],
   "source": [
    "pbp_shots = pbp_all[pbp_all['EVENTMSGTYPE'].isin([1, 2])]"
   ]
  },
  {
   "cell_type": "code",
   "execution_count": null,
   "id": "3acbeeb6-bfe9-41ee-9b15-c7eeebbe6730",
   "metadata": {},
   "outputs": [],
   "source": []
  },
  {
   "cell_type": "code",
   "execution_count": 45,
   "id": "dd587364-2db5-4429-8964-59ee134eb2fd",
   "metadata": {},
   "outputs": [
    {
     "data": {
      "text/plain": [
       "218510"
      ]
     },
     "execution_count": 45,
     "metadata": {},
     "output_type": "execute_result"
    }
   ],
   "source": [
    "len(pbp_shots)"
   ]
  },
  {
   "cell_type": "code",
   "execution_count": null,
   "id": "3545dadb-896a-4289-b8af-c678cd97ffe2",
   "metadata": {},
   "outputs": [],
   "source": []
  },
  {
   "cell_type": "code",
   "execution_count": null,
   "id": "32135702-1160-4936-a9b4-a38a97860af4",
   "metadata": {},
   "outputs": [],
   "source": []
  },
  {
   "cell_type": "code",
   "execution_count": 43,
   "id": "ca2bf09e-96a6-4be9-8c6b-c2ae1e4124fe",
   "metadata": {},
   "outputs": [
    {
     "data": {
      "text/plain": [
       "pandas.core.frame.DataFrame"
      ]
     },
     "execution_count": 43,
     "metadata": {},
     "output_type": "execute_result"
    }
   ],
   "source": [
    "type(pbp_all)"
   ]
  },
  {
   "cell_type": "code",
   "execution_count": 48,
   "id": "29ffda31-954c-40f8-adea-957f5686277d",
   "metadata": {},
   "outputs": [
    {
     "data": {
      "text/plain": [
       "GAME_ID                                                             0022300583\n",
       "EVENTNUM                                                                     7\n",
       "EVENTMSGTYPE                                                                 1\n",
       "EVENTMSGACTIONTYPE                                                          98\n",
       "PERIOD                                                                       1\n",
       "WCTIMESTRING                                                          10:12 PM\n",
       "PCTIMESTRING                                                             11:44\n",
       "HOMEDESCRIPTION                                                           None\n",
       "NEUTRALDESCRIPTION                                                        None\n",
       "VISITORDESCRIPTION           Hield 5' Cutting Layup Shot (2 PTS) (Turner 1 ...\n",
       "SCORE                                                                    2 - 0\n",
       "SCOREMARGIN                                                                 -2\n",
       "PERSON1TYPE                                                                  5\n",
       "PLAYER1_ID                                                             1627741\n",
       "PLAYER1_NAME                                                       Buddy Hield\n",
       "PLAYER1_TEAM_ID                                                   1610612754.0\n",
       "PLAYER1_TEAM_CITY                                                      Indiana\n",
       "PLAYER1_TEAM_NICKNAME                                                   Pacers\n",
       "PLAYER1_TEAM_ABBREVIATION                                                  IND\n",
       "PERSON2TYPE                                                                  5\n",
       "PLAYER2_ID                                                             1626167\n",
       "PLAYER2_NAME                                                      Myles Turner\n",
       "PLAYER2_TEAM_ID                                                   1610612754.0\n",
       "PLAYER2_TEAM_CITY                                                      Indiana\n",
       "PLAYER2_TEAM_NICKNAME                                                   Pacers\n",
       "PLAYER2_TEAM_ABBREVIATION                                                  IND\n",
       "PERSON3TYPE                                                                  0\n",
       "PLAYER3_ID                                                                   0\n",
       "PLAYER3_NAME                                                              None\n",
       "PLAYER3_TEAM_ID                                                            NaN\n",
       "PLAYER3_TEAM_CITY                                                         None\n",
       "PLAYER3_TEAM_NICKNAME                                                     None\n",
       "PLAYER3_TEAM_ABBREVIATION                                                 None\n",
       "VIDEO_AVAILABLE_FLAG                                                         1\n",
       "Name: 2, dtype: object"
      ]
     },
     "execution_count": 48,
     "metadata": {},
     "output_type": "execute_result"
    }
   ],
   "source": [
    "pbp_shots.iloc[0]"
   ]
  },
  {
   "cell_type": "code",
   "execution_count": 46,
   "id": "71affbc8-5ac5-467e-98f0-a1c2ed1e0207",
   "metadata": {},
   "outputs": [],
   "source": [
    "#i am going to assign game events to each unique id i think\n",
    "\n",
    "testDF1=season_data[1610612740]\n",
    "testDF2=pbp_shots"
   ]
  },
  {
   "cell_type": "code",
   "execution_count": 47,
   "id": "801a750d-fcef-4b6f-9520-8b672475e8c7",
   "metadata": {},
   "outputs": [
    {
     "name": "stdout",
     "output_type": "stream",
     "text": [
      "0     0022300011\n",
      "1     0022300011\n",
      "2     0022300011\n",
      "3     0022300011\n",
      "4     0022300011\n",
      "5     0022300011\n",
      "6     0022300011\n",
      "7     0022300011\n",
      "8     0022300011\n",
      "9     0022300011\n",
      "10    0022300011\n",
      "11    0022300011\n",
      "12    0022300011\n",
      "13    0022300011\n",
      "14    0022300011\n",
      "15    0022300011\n",
      "16    0022300011\n",
      "17    0022300011\n",
      "18    0022300011\n",
      "19    0022300011\n",
      "Name: GAME_ID, dtype: object\n",
      "2     0022300583\n",
      "3     0022300583\n",
      "4     0022300583\n",
      "6     0022300583\n",
      "7     0022300583\n",
      "8     0022300583\n",
      "9     0022300583\n",
      "10    0022300583\n",
      "12    0022300583\n",
      "14    0022300583\n",
      "16    0022300583\n",
      "17    0022300583\n",
      "19    0022300583\n",
      "20    0022300583\n",
      "22    0022300583\n",
      "24    0022300583\n",
      "29    0022300583\n",
      "31    0022300583\n",
      "34    0022300583\n",
      "35    0022300583\n",
      "Name: GAME_ID, dtype: object\n"
     ]
    }
   ],
   "source": [
    "print(testDF1['GAME_ID'][:20])\n",
    "print(testDF2['GAME_ID'][:20])"
   ]
  },
  {
   "cell_type": "code",
   "execution_count": 54,
   "id": "bb6ff6f3-9bf3-484b-a942-891736a1f6c2",
   "metadata": {},
   "outputs": [
    {
     "name": "stdout",
     "output_type": "stream",
     "text": [
      "      GAME_ID  GAME_EVENT_ID  SHOT_DISTANCE  SHOT_ATTEMPTED_FLAG  \\\n",
      "0  0022300011             18              1                    1   \n",
      "1  0022300011             22             24                    1   \n",
      "2  0022300011             40              9                    1   \n",
      "3  0022300011             46              1                    1   \n",
      "4  0022300011             53              7                    1   \n",
      "5  0022300011             61              1                    1   \n",
      "6  0022300011             66             11                    1   \n",
      "7  0022300011             69             26                    1   \n",
      "8  0022300011             73             11                    1   \n",
      "9  0022300011             75              1                    1   \n",
      "\n",
      "   SHOT_MADE_FLAG  \n",
      "0               1  \n",
      "1               1  \n",
      "2               1  \n",
      "3               1  \n",
      "4               1  \n",
      "5               1  \n",
      "6               1  \n",
      "7               0  \n",
      "8               0  \n",
      "9               1  \n"
     ]
    }
   ],
   "source": [
    "df1Filter=testDF1[['GAME_ID','GAME_EVENT_ID','SHOT_DISTANCE','SHOT_ATTEMPTED_FLAG','SHOT_MADE_FLAG']]\n",
    "df2Filter=testDF2[['GAME_ID','EVENTNUM','EVENTMSGACTIONTYPE','PERIOD']]\n",
    "print(df1Filter.iloc[:10])\n",
    "# print(df2Filter.iloc[0])"
   ]
  },
  {
   "cell_type": "code",
   "execution_count": 55,
   "id": "07ee4148-5481-4bbd-95c8-f1eae5846df7",
   "metadata": {},
   "outputs": [
    {
     "name": "stdout",
     "output_type": "stream",
     "text": [
      "      GAME_ID  GAME_EVENT_ID  SHOT_DISTANCE  SHOT_ATTEMPTED_FLAG  \\\n",
      "0  0022300011             18              1                    1   \n",
      "1  0022300011             22             24                    1   \n",
      "2  0022300011             40              9                    1   \n",
      "3  0022300011             46              1                    1   \n",
      "4  0022300011             53              7                    1   \n",
      "5  0022300011             61              1                    1   \n",
      "6  0022300011             66             11                    1   \n",
      "7  0022300011             69             26                    1   \n",
      "8  0022300011             73             11                    1   \n",
      "9  0022300011             75              1                    1   \n",
      "\n",
      "   SHOT_MADE_FLAG  EVENTNUM  EVENTMSGACTIONTYPE  PERIOD  \n",
      "0               1        18                 108       1  \n",
      "1               1        22                   1       1  \n",
      "2               1        40                  86       1  \n",
      "3               1        46                   6       1  \n",
      "4               1        53                 101       1  \n",
      "5               1        61                   6       1  \n",
      "6               1        66                 101       1  \n",
      "7               0        69                   1       1  \n",
      "8               0        73                 101       1  \n",
      "9               1        75                  72       1  \n"
     ]
    }
   ],
   "source": [
    "merged_df = pd.merge(df1Filter, df2Filter, \n",
    "                     left_on=['GAME_ID', 'GAME_EVENT_ID'],  # Columns from df1\n",
    "                     right_on=['GAME_ID', 'EVENTNUM'])  # Columns from df2\n",
    "\n",
    "print(merged_df.iloc[:10])"
   ]
  },
  {
   "cell_type": "code",
   "execution_count": 56,
   "id": "e96a99e7-00f7-4703-86de-b1beee95a9ab",
   "metadata": {},
   "outputs": [
    {
     "data": {
      "text/html": [
       "<div>\n",
       "<style scoped>\n",
       "    .dataframe tbody tr th:only-of-type {\n",
       "        vertical-align: middle;\n",
       "    }\n",
       "\n",
       "    .dataframe tbody tr th {\n",
       "        vertical-align: top;\n",
       "    }\n",
       "\n",
       "    .dataframe thead th {\n",
       "        text-align: right;\n",
       "    }\n",
       "</style>\n",
       "<table border=\"1\" class=\"dataframe\">\n",
       "  <thead>\n",
       "    <tr style=\"text-align: right;\">\n",
       "      <th></th>\n",
       "      <th>GRID_TYPE</th>\n",
       "      <th>GAME_ID</th>\n",
       "      <th>GAME_EVENT_ID</th>\n",
       "      <th>PLAYER_ID</th>\n",
       "      <th>PLAYER_NAME</th>\n",
       "      <th>TEAM_ID</th>\n",
       "      <th>TEAM_NAME</th>\n",
       "      <th>PERIOD</th>\n",
       "      <th>MINUTES_REMAINING</th>\n",
       "      <th>SECONDS_REMAINING</th>\n",
       "      <th>...</th>\n",
       "      <th>SHOT_ZONE_AREA</th>\n",
       "      <th>SHOT_ZONE_RANGE</th>\n",
       "      <th>SHOT_DISTANCE</th>\n",
       "      <th>LOC_X</th>\n",
       "      <th>LOC_Y</th>\n",
       "      <th>SHOT_ATTEMPTED_FLAG</th>\n",
       "      <th>SHOT_MADE_FLAG</th>\n",
       "      <th>GAME_DATE</th>\n",
       "      <th>HTM</th>\n",
       "      <th>VTM</th>\n",
       "    </tr>\n",
       "  </thead>\n",
       "  <tbody>\n",
       "    <tr>\n",
       "      <th>0</th>\n",
       "      <td>Shot Chart Detail</td>\n",
       "      <td>0022300011</td>\n",
       "      <td>18</td>\n",
       "      <td>202685</td>\n",
       "      <td>Jonas Valanciunas</td>\n",
       "      <td>1610612740</td>\n",
       "      <td>New Orleans Pelicans</td>\n",
       "      <td>1</td>\n",
       "      <td>11</td>\n",
       "      <td>13</td>\n",
       "      <td>...</td>\n",
       "      <td>Center(C)</td>\n",
       "      <td>Less Than 8 ft.</td>\n",
       "      <td>1</td>\n",
       "      <td>-13</td>\n",
       "      <td>7</td>\n",
       "      <td>1</td>\n",
       "      <td>1</td>\n",
       "      <td>20231110</td>\n",
       "      <td>HOU</td>\n",
       "      <td>NOP</td>\n",
       "    </tr>\n",
       "    <tr>\n",
       "      <th>1</th>\n",
       "      <td>Shot Chart Detail</td>\n",
       "      <td>0022300011</td>\n",
       "      <td>22</td>\n",
       "      <td>202685</td>\n",
       "      <td>Jonas Valanciunas</td>\n",
       "      <td>1610612740</td>\n",
       "      <td>New Orleans Pelicans</td>\n",
       "      <td>1</td>\n",
       "      <td>10</td>\n",
       "      <td>43</td>\n",
       "      <td>...</td>\n",
       "      <td>Center(C)</td>\n",
       "      <td>24+ ft.</td>\n",
       "      <td>24</td>\n",
       "      <td>76</td>\n",
       "      <td>235</td>\n",
       "      <td>1</td>\n",
       "      <td>1</td>\n",
       "      <td>20231110</td>\n",
       "      <td>HOU</td>\n",
       "      <td>NOP</td>\n",
       "    </tr>\n",
       "    <tr>\n",
       "      <th>2</th>\n",
       "      <td>Shot Chart Detail</td>\n",
       "      <td>0022300011</td>\n",
       "      <td>40</td>\n",
       "      <td>1627742</td>\n",
       "      <td>Brandon Ingram</td>\n",
       "      <td>1610612740</td>\n",
       "      <td>New Orleans Pelicans</td>\n",
       "      <td>1</td>\n",
       "      <td>9</td>\n",
       "      <td>37</td>\n",
       "      <td>...</td>\n",
       "      <td>Right Side(R)</td>\n",
       "      <td>8-16 ft.</td>\n",
       "      <td>9</td>\n",
       "      <td>87</td>\n",
       "      <td>29</td>\n",
       "      <td>1</td>\n",
       "      <td>1</td>\n",
       "      <td>20231110</td>\n",
       "      <td>HOU</td>\n",
       "      <td>NOP</td>\n",
       "    </tr>\n",
       "    <tr>\n",
       "      <th>3</th>\n",
       "      <td>Shot Chart Detail</td>\n",
       "      <td>0022300011</td>\n",
       "      <td>46</td>\n",
       "      <td>1629627</td>\n",
       "      <td>Zion Williamson</td>\n",
       "      <td>1610612740</td>\n",
       "      <td>New Orleans Pelicans</td>\n",
       "      <td>1</td>\n",
       "      <td>9</td>\n",
       "      <td>2</td>\n",
       "      <td>...</td>\n",
       "      <td>Center(C)</td>\n",
       "      <td>Less Than 8 ft.</td>\n",
       "      <td>1</td>\n",
       "      <td>12</td>\n",
       "      <td>2</td>\n",
       "      <td>1</td>\n",
       "      <td>1</td>\n",
       "      <td>20231110</td>\n",
       "      <td>HOU</td>\n",
       "      <td>NOP</td>\n",
       "    </tr>\n",
       "    <tr>\n",
       "      <th>4</th>\n",
       "      <td>Shot Chart Detail</td>\n",
       "      <td>0022300011</td>\n",
       "      <td>53</td>\n",
       "      <td>1629627</td>\n",
       "      <td>Zion Williamson</td>\n",
       "      <td>1610612740</td>\n",
       "      <td>New Orleans Pelicans</td>\n",
       "      <td>1</td>\n",
       "      <td>8</td>\n",
       "      <td>21</td>\n",
       "      <td>...</td>\n",
       "      <td>Center(C)</td>\n",
       "      <td>Less Than 8 ft.</td>\n",
       "      <td>7</td>\n",
       "      <td>-11</td>\n",
       "      <td>78</td>\n",
       "      <td>1</td>\n",
       "      <td>1</td>\n",
       "      <td>20231110</td>\n",
       "      <td>HOU</td>\n",
       "      <td>NOP</td>\n",
       "    </tr>\n",
       "    <tr>\n",
       "      <th>...</th>\n",
       "      <td>...</td>\n",
       "      <td>...</td>\n",
       "      <td>...</td>\n",
       "      <td>...</td>\n",
       "      <td>...</td>\n",
       "      <td>...</td>\n",
       "      <td>...</td>\n",
       "      <td>...</td>\n",
       "      <td>...</td>\n",
       "      <td>...</td>\n",
       "      <td>...</td>\n",
       "      <td>...</td>\n",
       "      <td>...</td>\n",
       "      <td>...</td>\n",
       "      <td>...</td>\n",
       "      <td>...</td>\n",
       "      <td>...</td>\n",
       "      <td>...</td>\n",
       "      <td>...</td>\n",
       "      <td>...</td>\n",
       "      <td>...</td>\n",
       "    </tr>\n",
       "    <tr>\n",
       "      <th>7160</th>\n",
       "      <td>Shot Chart Detail</td>\n",
       "      <td>0022301230</td>\n",
       "      <td>636</td>\n",
       "      <td>1641722</td>\n",
       "      <td>Jordan Hawkins</td>\n",
       "      <td>1610612740</td>\n",
       "      <td>New Orleans Pelicans</td>\n",
       "      <td>4</td>\n",
       "      <td>2</td>\n",
       "      <td>35</td>\n",
       "      <td>...</td>\n",
       "      <td>Right Side(R)</td>\n",
       "      <td>16-24 ft.</td>\n",
       "      <td>16</td>\n",
       "      <td>152</td>\n",
       "      <td>64</td>\n",
       "      <td>1</td>\n",
       "      <td>1</td>\n",
       "      <td>20231207</td>\n",
       "      <td>LAL</td>\n",
       "      <td>NOP</td>\n",
       "    </tr>\n",
       "    <tr>\n",
       "      <th>7161</th>\n",
       "      <td>Shot Chart Detail</td>\n",
       "      <td>0022301230</td>\n",
       "      <td>642</td>\n",
       "      <td>1630526</td>\n",
       "      <td>Jeremiah Robinson-Earl</td>\n",
       "      <td>1610612740</td>\n",
       "      <td>New Orleans Pelicans</td>\n",
       "      <td>4</td>\n",
       "      <td>1</td>\n",
       "      <td>58</td>\n",
       "      <td>...</td>\n",
       "      <td>Left Side Center(LC)</td>\n",
       "      <td>16-24 ft.</td>\n",
       "      <td>18</td>\n",
       "      <td>-98</td>\n",
       "      <td>151</td>\n",
       "      <td>1</td>\n",
       "      <td>0</td>\n",
       "      <td>20231207</td>\n",
       "      <td>LAL</td>\n",
       "      <td>NOP</td>\n",
       "    </tr>\n",
       "    <tr>\n",
       "      <th>7162</th>\n",
       "      <td>Shot Chart Detail</td>\n",
       "      <td>0022301230</td>\n",
       "      <td>646</td>\n",
       "      <td>1641722</td>\n",
       "      <td>Jordan Hawkins</td>\n",
       "      <td>1610612740</td>\n",
       "      <td>New Orleans Pelicans</td>\n",
       "      <td>4</td>\n",
       "      <td>1</td>\n",
       "      <td>31</td>\n",
       "      <td>...</td>\n",
       "      <td>Left Side(L)</td>\n",
       "      <td>16-24 ft.</td>\n",
       "      <td>21</td>\n",
       "      <td>-206</td>\n",
       "      <td>71</td>\n",
       "      <td>1</td>\n",
       "      <td>0</td>\n",
       "      <td>20231207</td>\n",
       "      <td>LAL</td>\n",
       "      <td>NOP</td>\n",
       "    </tr>\n",
       "    <tr>\n",
       "      <th>7163</th>\n",
       "      <td>Shot Chart Detail</td>\n",
       "      <td>0022301230</td>\n",
       "      <td>649</td>\n",
       "      <td>1641722</td>\n",
       "      <td>Jordan Hawkins</td>\n",
       "      <td>1610612740</td>\n",
       "      <td>New Orleans Pelicans</td>\n",
       "      <td>4</td>\n",
       "      <td>0</td>\n",
       "      <td>59</td>\n",
       "      <td>...</td>\n",
       "      <td>Center(C)</td>\n",
       "      <td>16-24 ft.</td>\n",
       "      <td>18</td>\n",
       "      <td>-32</td>\n",
       "      <td>179</td>\n",
       "      <td>1</td>\n",
       "      <td>0</td>\n",
       "      <td>20231207</td>\n",
       "      <td>LAL</td>\n",
       "      <td>NOP</td>\n",
       "    </tr>\n",
       "    <tr>\n",
       "      <th>7164</th>\n",
       "      <td>Shot Chart Detail</td>\n",
       "      <td>0022301230</td>\n",
       "      <td>652</td>\n",
       "      <td>1630700</td>\n",
       "      <td>Dyson Daniels</td>\n",
       "      <td>1610612740</td>\n",
       "      <td>New Orleans Pelicans</td>\n",
       "      <td>4</td>\n",
       "      <td>0</td>\n",
       "      <td>24</td>\n",
       "      <td>...</td>\n",
       "      <td>Right Side Center(RC)</td>\n",
       "      <td>24+ ft.</td>\n",
       "      <td>28</td>\n",
       "      <td>154</td>\n",
       "      <td>236</td>\n",
       "      <td>1</td>\n",
       "      <td>0</td>\n",
       "      <td>20231207</td>\n",
       "      <td>LAL</td>\n",
       "      <td>NOP</td>\n",
       "    </tr>\n",
       "  </tbody>\n",
       "</table>\n",
       "<p>7165 rows × 24 columns</p>\n",
       "</div>"
      ],
      "text/plain": [
       "              GRID_TYPE     GAME_ID  GAME_EVENT_ID  PLAYER_ID  \\\n",
       "0     Shot Chart Detail  0022300011             18     202685   \n",
       "1     Shot Chart Detail  0022300011             22     202685   \n",
       "2     Shot Chart Detail  0022300011             40    1627742   \n",
       "3     Shot Chart Detail  0022300011             46    1629627   \n",
       "4     Shot Chart Detail  0022300011             53    1629627   \n",
       "...                 ...         ...            ...        ...   \n",
       "7160  Shot Chart Detail  0022301230            636    1641722   \n",
       "7161  Shot Chart Detail  0022301230            642    1630526   \n",
       "7162  Shot Chart Detail  0022301230            646    1641722   \n",
       "7163  Shot Chart Detail  0022301230            649    1641722   \n",
       "7164  Shot Chart Detail  0022301230            652    1630700   \n",
       "\n",
       "                 PLAYER_NAME     TEAM_ID             TEAM_NAME  PERIOD  \\\n",
       "0          Jonas Valanciunas  1610612740  New Orleans Pelicans       1   \n",
       "1          Jonas Valanciunas  1610612740  New Orleans Pelicans       1   \n",
       "2             Brandon Ingram  1610612740  New Orleans Pelicans       1   \n",
       "3            Zion Williamson  1610612740  New Orleans Pelicans       1   \n",
       "4            Zion Williamson  1610612740  New Orleans Pelicans       1   \n",
       "...                      ...         ...                   ...     ...   \n",
       "7160          Jordan Hawkins  1610612740  New Orleans Pelicans       4   \n",
       "7161  Jeremiah Robinson-Earl  1610612740  New Orleans Pelicans       4   \n",
       "7162          Jordan Hawkins  1610612740  New Orleans Pelicans       4   \n",
       "7163          Jordan Hawkins  1610612740  New Orleans Pelicans       4   \n",
       "7164           Dyson Daniels  1610612740  New Orleans Pelicans       4   \n",
       "\n",
       "      MINUTES_REMAINING  SECONDS_REMAINING  ...         SHOT_ZONE_AREA  \\\n",
       "0                    11                 13  ...              Center(C)   \n",
       "1                    10                 43  ...              Center(C)   \n",
       "2                     9                 37  ...          Right Side(R)   \n",
       "3                     9                  2  ...              Center(C)   \n",
       "4                     8                 21  ...              Center(C)   \n",
       "...                 ...                ...  ...                    ...   \n",
       "7160                  2                 35  ...          Right Side(R)   \n",
       "7161                  1                 58  ...   Left Side Center(LC)   \n",
       "7162                  1                 31  ...           Left Side(L)   \n",
       "7163                  0                 59  ...              Center(C)   \n",
       "7164                  0                 24  ...  Right Side Center(RC)   \n",
       "\n",
       "      SHOT_ZONE_RANGE SHOT_DISTANCE LOC_X LOC_Y SHOT_ATTEMPTED_FLAG  \\\n",
       "0     Less Than 8 ft.             1   -13     7                   1   \n",
       "1             24+ ft.            24    76   235                   1   \n",
       "2            8-16 ft.             9    87    29                   1   \n",
       "3     Less Than 8 ft.             1    12     2                   1   \n",
       "4     Less Than 8 ft.             7   -11    78                   1   \n",
       "...               ...           ...   ...   ...                 ...   \n",
       "7160        16-24 ft.            16   152    64                   1   \n",
       "7161        16-24 ft.            18   -98   151                   1   \n",
       "7162        16-24 ft.            21  -206    71                   1   \n",
       "7163        16-24 ft.            18   -32   179                   1   \n",
       "7164          24+ ft.            28   154   236                   1   \n",
       "\n",
       "      SHOT_MADE_FLAG  GAME_DATE  HTM  VTM  \n",
       "0                  1   20231110  HOU  NOP  \n",
       "1                  1   20231110  HOU  NOP  \n",
       "2                  1   20231110  HOU  NOP  \n",
       "3                  1   20231110  HOU  NOP  \n",
       "4                  1   20231110  HOU  NOP  \n",
       "...              ...        ...  ...  ...  \n",
       "7160               1   20231207  LAL  NOP  \n",
       "7161               0   20231207  LAL  NOP  \n",
       "7162               0   20231207  LAL  NOP  \n",
       "7163               0   20231207  LAL  NOP  \n",
       "7164               0   20231207  LAL  NOP  \n",
       "\n",
       "[7165 rows x 24 columns]"
      ]
     },
     "execution_count": 56,
     "metadata": {},
     "output_type": "execute_result"
    }
   ],
   "source": [
    "season_data[1610612740]"
   ]
  },
  {
   "cell_type": "code",
   "execution_count": 58,
   "id": "8705eee8-8c44-41d5-be5e-0020798784c9",
   "metadata": {},
   "outputs": [
    {
     "name": "stdout",
     "output_type": "stream",
     "text": [
      "         GAME_ID  GAME_EVENT_ID  SHOT_DISTANCE  SHOT_ATTEMPTED_FLAG  \\\n",
      "7155  0022301230            603             26                    1   \n",
      "7156  0022301230            607              2                    1   \n",
      "7157  0022301230            613             26                    1   \n",
      "7158  0022301230            627              2                    1   \n",
      "7159  0022301230            631              9                    1   \n",
      "7160  0022301230            636             16                    1   \n",
      "7161  0022301230            642             18                    1   \n",
      "7162  0022301230            646             21                    1   \n",
      "7163  0022301230            649             18                    1   \n",
      "7164  0022301230            652             28                    1   \n",
      "\n",
      "      SHOT_MADE_FLAG  EVENTNUM  EVENTMSGACTIONTYPE  PERIOD  \n",
      "7155               0       603                 103       4  \n",
      "7156               1       607                   6       4  \n",
      "7157               0       613                   1       4  \n",
      "7158               0       627                  99       4  \n",
      "7159               0       631                  47       4  \n",
      "7160               1       636                  79       4  \n",
      "7161               0       642                  79       4  \n",
      "7162               0       646                  79       4  \n",
      "7163               0       649                  79       4  \n",
      "7164               0       652                  79       4  \n"
     ]
    }
   ],
   "source": [
    "print(merged_df.iloc[-10:])"
   ]
  },
  {
   "cell_type": "markdown",
   "id": "abaec019-1087-4f71-8d4f-11fe1f556752",
   "metadata": {},
   "source": [
    "ok we can now do this for every team"
   ]
  },
  {
   "cell_type": "code",
   "execution_count": 62,
   "id": "2025781c-e8a7-4a51-93cb-4b45be43d4a4",
   "metadata": {},
   "outputs": [],
   "source": [
    "pbpShotFILT=pbp_shots[['GAME_ID','EVENTNUM','EVENTMSGACTIONTYPE','PERIOD']]\n",
    "seasonFILT={}"
   ]
  },
  {
   "cell_type": "code",
   "execution_count": null,
   "id": "a51c1447-20f5-4478-9d9e-23253c2f4156",
   "metadata": {},
   "outputs": [],
   "source": []
  },
  {
   "cell_type": "code",
   "execution_count": 74,
   "id": "4b0faa3e-7a53-4446-92e5-03febe3a42fa",
   "metadata": {},
   "outputs": [],
   "source": [
    "for tm in season_data:\n",
    "    tmFILT=season_data[tm][['GAME_ID','GAME_EVENT_ID','SHOT_DISTANCE','SHOT_MADE_FLAG']]\n",
    "    mf=pd.merge(tmFILT, pbpShotFILT, \n",
    "                     left_on=['GAME_ID', 'GAME_EVENT_ID'],  # Columns from df1: pbpShotFILT\n",
    "                     right_on=['GAME_ID', 'EVENTNUM'])\n",
    "    seasonFILT[tm]=mf.drop(columns='GAME_EVENT_ID')"
   ]
  },
  {
   "cell_type": "code",
   "execution_count": 75,
   "id": "d0101635-918e-4d19-a843-2b822527dbee",
   "metadata": {},
   "outputs": [
    {
     "name": "stdout",
     "output_type": "stream",
     "text": [
      "         GAME_ID  SHOT_DISTANCE  SHOT_MADE_FLAG  EVENTNUM  EVENTMSGACTIONTYPE  \\\n",
      "0     0022300018              6               1        12                  78   \n",
      "1     0022300018             26               1        16                   1   \n",
      "2     0022300018             15               1        25                  79   \n",
      "3     0022300018              3               1        28                   5   \n",
      "4     0022300018              2               1        32                   5   \n",
      "...          ...            ...             ...       ...                 ...   \n",
      "7579  0022301218             27               0       662                   1   \n",
      "7580  0022301218              9               0       665                  97   \n",
      "7581  0022301218              4               1       667                   1   \n",
      "7582  0022301218             29               1       676                  79   \n",
      "7583  0022301218             28               0       683                  79   \n",
      "\n",
      "      PERIOD  \n",
      "0          1  \n",
      "1          1  \n",
      "2          1  \n",
      "3          1  \n",
      "4          1  \n",
      "...      ...  \n",
      "7579       4  \n",
      "7580       4  \n",
      "7581       4  \n",
      "7582       4  \n",
      "7583       4  \n",
      "\n",
      "[7584 rows x 6 columns]\n"
     ]
    }
   ],
   "source": [
    "print(seasonFILT[list(seasonFILT.keys())[0]])"
   ]
  },
  {
   "cell_type": "code",
   "execution_count": null,
   "id": "d9987295-17d5-49f2-a7a5-1811bbab6223",
   "metadata": {},
   "outputs": [],
   "source": []
  },
  {
   "cell_type": "code",
   "execution_count": 91,
   "id": "b8ff370e-931f-47df-9641-008d9fdaa5dc",
   "metadata": {},
   "outputs": [
    {
     "data": {
      "text/plain": [
       "numpy.int64"
      ]
     },
     "execution_count": 91,
     "metadata": {},
     "output_type": "execute_result"
    }
   ],
   "source": [
    "type(seasonFILT[list(seasonFILT.keys())[0]]['PERIOD'][0])"
   ]
  },
  {
   "cell_type": "code",
   "execution_count": 68,
   "id": "e348ed03-ad6f-4f1a-a65a-9463eb470d83",
   "metadata": {},
   "outputs": [],
   "source": [
    "# I could add a win/loss ratio to this to help rank instead of just categorize. \n",
    "    #there is also more positional data i could incorporate..."
   ]
  },
  {
   "cell_type": "markdown",
   "id": "4cf56dc6-e1bd-444f-ae8b-1c3d15dde823",
   "metadata": {},
   "source": [
    "seasonFILT now has every shot from the season separated by each team. At this point we may be able to train our model"
   ]
  },
  {
   "cell_type": "markdown",
   "id": "52a82ba9-e791-4b6c-81c6-39b5113c7a06",
   "metadata": {},
   "source": [
    "At first I was considering giving a stat line or some ratio/expected value of shot selections. Instead I will elect to classify which team has the shot profile that most accurately aligns with the input/tested/selected shot/parameters (in a specific matchup?)."
   ]
  },
  {
   "cell_type": "code",
   "execution_count": 97,
   "id": "e19704c7-d27a-4dd9-9ad2-ea4513e8d041",
   "metadata": {
    "scrolled": true
   },
   "outputs": [
    {
     "name": "stdout",
     "output_type": "stream",
     "text": [
      "           GAME_ID  SHOT_DISTANCE  SHOT_MADE_FLAG  EVENTNUM  \\\n",
      "0       0022300018              6               1        12   \n",
      "1       0022300018             26               1        16   \n",
      "2       0022300018             15               1        25   \n",
      "3       0022300018              3               1        28   \n",
      "4       0022300018              2               1        32   \n",
      "...            ...            ...             ...       ...   \n",
      "218503  0022301216              2               1       587   \n",
      "218504  0022301216             23               1       596   \n",
      "218505  0022301216             26               1       598   \n",
      "218506  0022301216              7               0       617   \n",
      "218507  0022301216             22               1       621   \n",
      "\n",
      "        EVENTMSGACTIONTYPE  PERIOD     TEAM_ID  FITS_PROFILE  \n",
      "0                       78       1  1610612737             0  \n",
      "1                        1       1  1610612737             0  \n",
      "2                       79       1  1610612737             0  \n",
      "3                        5       1  1610612737             0  \n",
      "4                        5       1  1610612737             0  \n",
      "...                    ...     ...         ...           ...  \n",
      "218503                   6       4  1610612766             1  \n",
      "218504                  79       4  1610612766             0  \n",
      "218505                   1       4  1610612766             0  \n",
      "218506                 101       4  1610612766             0  \n",
      "218507                  80       4  1610612766             0  \n",
      "\n",
      "[218508 rows x 8 columns]\n"
     ]
    }
   ],
   "source": [
    "dfs = []\n",
    "\n",
    "# Iterate through the dictionary and add a new column with the dictionary keys\n",
    "for key, df in seasonFILT.items():\n",
    "    df['TEAM_ID'] = key  # Add the key as a new column\n",
    "    dfs.append(df)      # Add the DataFrame to the list\n",
    "\n",
    "# Concatenate all DataFrames in the list into a single DataFrame\n",
    "sznFILTdf = pd.concat(dfs, ignore_index=True)\n",
    "\n",
    "# Display the resulting DataFrame\n",
    "print(sznFILTdf)"
   ]
  },
  {
   "cell_type": "code",
   "execution_count": 98,
   "id": "5967e428-5673-4cc1-a05f-d1d0dda02549",
   "metadata": {
    "scrolled": true
   },
   "outputs": [
    {
     "name": "stdout",
     "output_type": "stream",
     "text": [
      "Team: 1610612737\n",
      "   SHOT_DISTANCE  EVENTMSGACTIONTYPE  MEAN_SHOT_SUCCESS_RATE  COUNT\n",
      "0              0                   3                0.500000      2\n",
      "1              0                   5                0.800000     20\n",
      "2              0                   6                0.603774     53\n",
      "3              0                   7                0.923077     26\n",
      "4              0                   9                0.950000     20\n",
      "Team: 1610612738\n",
      "   SHOT_DISTANCE  EVENTMSGACTIONTYPE  MEAN_SHOT_SUCCESS_RATE  COUNT\n",
      "0              0                   3                1.000000      1\n",
      "1              0                   5                0.909091     11\n",
      "2              0                   6                0.769231     39\n",
      "3              0                   7                1.000000      5\n",
      "4              0                   9                0.945946     37\n",
      "Team: 1610612739\n",
      "   SHOT_DISTANCE  EVENTMSGACTIONTYPE  MEAN_SHOT_SUCCESS_RATE  COUNT\n",
      "0              0                   3                0.750000      4\n",
      "1              0                   5                0.791667     24\n",
      "2              0                   6                0.652174    115\n",
      "3              0                   7                1.000000     18\n",
      "4              0                   9                0.833333     18\n",
      "Team: 1610612740\n",
      "   SHOT_DISTANCE  EVENTMSGACTIONTYPE  MEAN_SHOT_SUCCESS_RATE  COUNT\n",
      "0              0                   3                1.000000      1\n",
      "1              0                   5                0.833333      6\n",
      "2              0                   6                0.820513     39\n",
      "3              0                   7                1.000000     20\n",
      "4              0                   9                0.967742     31\n",
      "Team: 1610612741\n",
      "   SHOT_DISTANCE  EVENTMSGACTIONTYPE  MEAN_SHOT_SUCCESS_RATE  COUNT\n",
      "0              0                   3                1.000000      1\n",
      "1              0                   5                0.695652     23\n",
      "2              0                   6                0.790698     86\n",
      "3              0                   7                0.869565     23\n",
      "4              0                   9                0.800000     35\n",
      "Team: 1610612742\n",
      "   SHOT_DISTANCE  EVENTMSGACTIONTYPE  MEAN_SHOT_SUCCESS_RATE  COUNT\n",
      "0              0                   3                1.000000      1\n",
      "1              0                   5                0.750000     12\n",
      "2              0                   6                0.837209     43\n",
      "3              0                   7                0.941176     17\n",
      "4              0                   9                0.933333     30\n",
      "Team: 1610612743\n",
      "   SHOT_DISTANCE  EVENTMSGACTIONTYPE  MEAN_SHOT_SUCCESS_RATE  COUNT\n",
      "0              0                   1                1.000000      1\n",
      "1              0                   3                0.000000      1\n",
      "2              0                   5                0.840000     25\n",
      "3              0                   6                0.536585     41\n",
      "4              0                   7                0.941176     17\n",
      "Team: 1610612744\n",
      "   SHOT_DISTANCE  EVENTMSGACTIONTYPE  MEAN_SHOT_SUCCESS_RATE  COUNT\n",
      "0              0                   5                0.833333     18\n",
      "1              0                   6                0.821429     28\n",
      "2              0                   7                1.000000      9\n",
      "3              0                   9                1.000000     12\n",
      "4              0                  41                0.714286     14\n",
      "Team: 1610612745\n",
      "   SHOT_DISTANCE  EVENTMSGACTIONTYPE  MEAN_SHOT_SUCCESS_RATE  COUNT\n",
      "0              0                   3                0.000000      2\n",
      "1              0                   5                0.875000      8\n",
      "2              0                   6                0.566667     30\n",
      "3              0                   7                0.875000      8\n",
      "4              0                   9                0.941176     17\n",
      "Team: 1610612746\n",
      "   SHOT_DISTANCE  EVENTMSGACTIONTYPE  MEAN_SHOT_SUCCESS_RATE  COUNT\n",
      "0              0                   3                0.000000      1\n",
      "1              0                   5                0.800000      5\n",
      "2              0                   6                0.714286     28\n",
      "3              0                   7                1.000000     19\n",
      "4              0                   9                0.888889     18\n",
      "Team: 1610612747\n",
      "   SHOT_DISTANCE  EVENTMSGACTIONTYPE  MEAN_SHOT_SUCCESS_RATE  COUNT\n",
      "0              0                   5                0.818182     11\n",
      "1              0                   6                0.821429     28\n",
      "2              0                   7                1.000000     14\n",
      "3              0                   9                0.904762     21\n",
      "4              0                  41                0.842105     19\n",
      "Team: 1610612748\n",
      "   SHOT_DISTANCE  EVENTMSGACTIONTYPE  MEAN_SHOT_SUCCESS_RATE  COUNT\n",
      "0              0                   3                0.000000      1\n",
      "1              0                   5                0.923077     13\n",
      "2              0                   6                0.714286     21\n",
      "3              0                   7                1.000000      6\n",
      "4              0                   9                0.857143     14\n",
      "Team: 1610612749\n",
      "   SHOT_DISTANCE  EVENTMSGACTIONTYPE  MEAN_SHOT_SUCCESS_RATE  COUNT\n",
      "0              0                   5                0.846154     13\n",
      "1              0                   6                0.791667     48\n",
      "2              0                   7                1.000000     12\n",
      "3              0                   9                0.954545     22\n",
      "4              0                  41                0.965517     29\n",
      "Team: 1610612750\n",
      "   SHOT_DISTANCE  EVENTMSGACTIONTYPE  MEAN_SHOT_SUCCESS_RATE  COUNT\n",
      "0              0                   5                0.600000     10\n",
      "1              0                   6                0.777778     63\n",
      "2              0                   7                0.947368     19\n",
      "3              0                   9                0.960000     25\n",
      "4              0                  41                0.818182     22\n",
      "Team: 1610612751\n",
      "   SHOT_DISTANCE  EVENTMSGACTIONTYPE  MEAN_SHOT_SUCCESS_RATE  COUNT\n",
      "0              0                   3                1.000000      2\n",
      "1              0                   5                0.857143      7\n",
      "2              0                   6                0.800000     50\n",
      "3              0                   7                1.000000     18\n",
      "4              0                   9                0.937500     16\n",
      "Team: 1610612752\n",
      "   SHOT_DISTANCE  EVENTMSGACTIONTYPE  MEAN_SHOT_SUCCESS_RATE  COUNT\n",
      "0              0                   3                0.500000      2\n",
      "1              0                   5                0.823529     17\n",
      "2              0                   6                0.651163     86\n",
      "3              0                   7                0.962963     27\n",
      "4              0                   9                0.793103     29\n",
      "Team: 1610612753\n",
      "   SHOT_DISTANCE  EVENTMSGACTIONTYPE  MEAN_SHOT_SUCCESS_RATE  COUNT\n",
      "0              0                   5                0.666667      9\n",
      "1              0                   6                0.790698     43\n",
      "2              0                   7                1.000000     11\n",
      "3              0                   9                0.952381     21\n",
      "4              0                  41                0.708333     24\n",
      "Team: 1610612754\n",
      "   SHOT_DISTANCE  EVENTMSGACTIONTYPE  MEAN_SHOT_SUCCESS_RATE  COUNT\n",
      "0              0                   2                1.000000      1\n",
      "1              0                   5                0.722222     18\n",
      "2              0                   6                0.613636     44\n",
      "3              0                   7                0.937500     16\n",
      "4              0                   9                0.950000     20\n",
      "Team: 1610612755\n",
      "   SHOT_DISTANCE  EVENTMSGACTIONTYPE  MEAN_SHOT_SUCCESS_RATE  COUNT\n",
      "0              0                   3                1.000000      1\n",
      "1              0                   5                0.625000     16\n",
      "2              0                   6                0.660377     53\n",
      "3              0                   7                1.000000     18\n",
      "4              0                   9                0.909091     22\n",
      "Team: 1610612756\n",
      "   SHOT_DISTANCE  EVENTMSGACTIONTYPE  MEAN_SHOT_SUCCESS_RATE  COUNT\n",
      "0              0                   3                0.200000      5\n",
      "1              0                   5                0.631579     19\n",
      "2              0                   6                0.684932     73\n",
      "3              0                   7                0.937500     16\n",
      "4              0                   9                0.875000     16\n",
      "Team: 1610612757\n",
      "   SHOT_DISTANCE  EVENTMSGACTIONTYPE  MEAN_SHOT_SUCCESS_RATE  COUNT\n",
      "0              0                   3                0.000000      2\n",
      "1              0                   5                0.625000      8\n",
      "2              0                   6                0.763636     55\n",
      "3              0                   7                0.888889      9\n",
      "4              0                   9                0.818182     22\n",
      "Team: 1610612758\n",
      "   SHOT_DISTANCE  EVENTMSGACTIONTYPE  MEAN_SHOT_SUCCESS_RATE  COUNT\n",
      "0              0                   1                0.000000      1\n",
      "1              0                   5                0.750000     16\n",
      "2              0                   6                0.695652     46\n",
      "3              0                   7                0.900000     10\n",
      "4              0                   9                0.909091     11\n",
      "Team: 1610612759\n",
      "   SHOT_DISTANCE  EVENTMSGACTIONTYPE  MEAN_SHOT_SUCCESS_RATE  COUNT\n",
      "0              0                   3                1.000000      1\n",
      "1              0                   5                0.666667     12\n",
      "2              0                   6                0.725490     51\n",
      "3              0                   7                1.000000     24\n",
      "4              0                   9                1.000000     30\n",
      "Team: 1610612760\n",
      "   SHOT_DISTANCE  EVENTMSGACTIONTYPE  MEAN_SHOT_SUCCESS_RATE  COUNT\n",
      "0              0                   1                0.000000      1\n",
      "1              0                   3                1.000000      1\n",
      "2              0                   5                0.666667     12\n",
      "3              0                   6                0.733333     60\n",
      "4              0                   7                1.000000     15\n",
      "Team: 1610612761\n",
      "   SHOT_DISTANCE  EVENTMSGACTIONTYPE  MEAN_SHOT_SUCCESS_RATE  COUNT\n",
      "0              0                   3                1.000000      1\n",
      "1              0                   5                0.692308     39\n",
      "2              0                   6                0.785714     42\n",
      "3              0                   7                0.769231     13\n",
      "4              0                   9                0.925926     27\n",
      "Team: 1610612762\n",
      "   SHOT_DISTANCE  EVENTMSGACTIONTYPE  MEAN_SHOT_SUCCESS_RATE  COUNT\n",
      "0              0                   3                1.000000      2\n",
      "1              0                   5                0.833333      6\n",
      "2              0                   6                0.520000     25\n",
      "3              0                   7                0.933333     15\n",
      "4              0                   9                1.000000     13\n",
      "Team: 1610612763\n",
      "   SHOT_DISTANCE  EVENTMSGACTIONTYPE  MEAN_SHOT_SUCCESS_RATE  COUNT\n",
      "0              0                   3                1.000000      3\n",
      "1              0                   5                0.545455     22\n",
      "2              0                   6                0.761905     63\n",
      "3              0                   7                1.000000     12\n",
      "4              0                   9                0.833333     24\n",
      "Team: 1610612764\n",
      "   SHOT_DISTANCE  EVENTMSGACTIONTYPE  MEAN_SHOT_SUCCESS_RATE  COUNT\n",
      "0              0                   5                0.666667      9\n",
      "1              0                   6                0.810811     37\n",
      "2              0                   7                1.000000      8\n",
      "3              0                   9                0.950000     20\n",
      "4              0                  41                0.909091     33\n",
      "Team: 1610612765\n",
      "   SHOT_DISTANCE  EVENTMSGACTIONTYPE  MEAN_SHOT_SUCCESS_RATE  COUNT\n",
      "0              0                   3                0.500000      2\n",
      "1              0                   5                0.772727     22\n",
      "2              0                   6                0.787879     33\n",
      "3              0                   7                0.952381     21\n",
      "4              0                   9                0.846154     13\n",
      "Team: 1610612766\n",
      "   SHOT_DISTANCE  EVENTMSGACTIONTYPE  MEAN_SHOT_SUCCESS_RATE  COUNT\n",
      "0              0                   1                0.000000      1\n",
      "1              0                   3                0.000000      1\n",
      "2              0                   5                0.800000     20\n",
      "3              0                   6                0.595745     47\n",
      "4              0                   7                0.909091     11\n"
     ]
    }
   ],
   "source": [
    "\n",
    "# Example DataFrame setup\n",
    "# Replace this with your actual `sznFILTdf` DataFrame\n",
    "# sznFILTdf = pd.read_csv('path_to_your_file.csv')\n",
    "\n",
    "# Step 1: Create a team shot profile based on shot distance and shot type\n",
    "team_profiles = {}\n",
    "\n",
    "# Group data by team_id\n",
    "for team_id, df in sznFILTdf.groupby('TEAM_ID'):\n",
    "    # Get shot distance and shot type stats per team\n",
    "    shot_stats = df.groupby(['SHOT_DISTANCE', 'EVENTMSGACTIONTYPE']).agg({\n",
    "        'SHOT_MADE_FLAG': ['mean', 'count']  # Mean shot success rate and count of attempts\n",
    "    }).reset_index()\n",
    "    \n",
    "    # Rename columns for clarity\n",
    "    shot_stats.columns = ['SHOT_DISTANCE', 'EVENTMSGACTIONTYPE', 'MEAN_SHOT_SUCCESS_RATE', 'COUNT']\n",
    "    \n",
    "    # Store the profile in the dictionary\n",
    "    team_profiles[team_id] = shot_stats\n",
    "\n",
    "# Example to show the output\n",
    "for team_id, profile in team_profiles.items():\n",
    "    print(f\"Team: {team_id}\")\n",
    "    print(profile.head())  # Displaying only the first few rows for brevity\n"
   ]
  },
  {
   "cell_type": "code",
   "execution_count": 99,
   "id": "5ef91883-f9c3-4752-bc1b-25b6a7c3fd94",
   "metadata": {
    "scrolled": true
   },
   "outputs": [
    {
     "name": "stdout",
     "output_type": "stream",
     "text": [
      "      GAME_ID  SHOT_DISTANCE  SHOT_MADE_FLAG  EVENTNUM  EVENTMSGACTIONTYPE  \\\n",
      "0  0022300018              6               1        12                  78   \n",
      "1  0022300018             26               1        16                   1   \n",
      "2  0022300018             15               1        25                  79   \n",
      "3  0022300018              3               1        28                   5   \n",
      "4  0022300018              2               1        32                   5   \n",
      "\n",
      "   PERIOD     TEAM_ID  FITS_PROFILE  \n",
      "0       1  1610612737             0  \n",
      "1       1  1610612737             0  \n",
      "2       1  1610612737             0  \n",
      "3       1  1610612737             0  \n",
      "4       1  1610612737             0  \n"
     ]
    }
   ],
   "source": [
    "# Step 2: Define a function to compare a shot to a team's profile (including shot type)\n",
    "def does_shot_fit_profile(shot, team_id, team_profiles):\n",
    "    shot_distance = shot['SHOT_DISTANCE']\n",
    "    shot_type = shot['EVENTMSGACTIONTYPE']\n",
    "    \n",
    "    # Get the team's profile for shot distance and type\n",
    "    team_profile = team_profiles.get(team_id)\n",
    "    \n",
    "    if team_profile is not None:\n",
    "        # Match both shot distance and shot type\n",
    "        closest_match = team_profile[\n",
    "            (team_profile['SHOT_DISTANCE'] == shot_distance) & \n",
    "            (team_profile['EVENTMSGACTIONTYPE'] == shot_type)\n",
    "        ]\n",
    "        \n",
    "        if not closest_match.empty:\n",
    "            # Define the rule for fitting the profile (e.g., success rate > 50%)\n",
    "            if closest_match['MEAN_SHOT_SUCCESS_RATE'].values[0] > 0.5:  # Example rule\n",
    "                return 1  # Shot fits the profile\n",
    "            else:\n",
    "                return 0  # Shot does not fit\n",
    "    return 0  # Default: Does not fit\n",
    "\n",
    "# Step 3: Apply the function to generate the target column 'FITS_PROFILE'\n",
    "def generate_profile_labels(df, team_profiles):\n",
    "    df['FITS_PROFILE'] = df.apply(lambda row: does_shot_fit_profile(row, row['TEAM_ID'], team_profiles), axis=1)\n",
    "    return df\n",
    "\n",
    "# Apply to the whole dataset (sznFILTdf)\n",
    "# Group data by team_id\n",
    "team_profiles = {}\n",
    "\n",
    "for team_id, df in sznFILTdf.groupby('TEAM_ID'):\n",
    "    # Get shot distance and shot type stats per team\n",
    "    shot_stats = df.groupby(['SHOT_DISTANCE', 'EVENTMSGACTIONTYPE']).agg({\n",
    "        'SHOT_MADE_FLAG': ['mean', 'count']  # Mean shot success rate and count of attempts\n",
    "    }).reset_index()\n",
    "    \n",
    "    # Rename columns for clarity\n",
    "    shot_stats.columns = ['SHOT_DISTANCE', 'EVENTMSGACTIONTYPE', 'MEAN_SHOT_SUCCESS_RATE', 'COUNT']\n",
    "    \n",
    "    # Store the profile in the dictionary\n",
    "    team_profiles[team_id] = shot_stats\n",
    "\n",
    "# Apply to the whole dataset (sznFILTdf)\n",
    "sznFILTdf = generate_profile_labels(sznFILTdf, team_profiles)\n",
    "\n",
    "# Check the results\n",
    "print(sznFILTdf.head())\n"
   ]
  },
  {
   "cell_type": "code",
   "execution_count": 100,
   "id": "b7cfb4c4-6d09-4414-90c2-adb8955bdd0e",
   "metadata": {},
   "outputs": [
    {
     "name": "stdout",
     "output_type": "stream",
     "text": [
      "           GAME_ID  SHOT_DISTANCE  SHOT_MADE_FLAG  EVENTNUM  \\\n",
      "0       0022300018              6               1        12   \n",
      "1       0022300018             26               1        16   \n",
      "2       0022300018             15               1        25   \n",
      "3       0022300018              3               1        28   \n",
      "4       0022300018              2               1        32   \n",
      "...            ...            ...             ...       ...   \n",
      "218503  0022301216              2               1       587   \n",
      "218504  0022301216             23               1       596   \n",
      "218505  0022301216             26               1       598   \n",
      "218506  0022301216              7               0       617   \n",
      "218507  0022301216             22               1       621   \n",
      "\n",
      "        EVENTMSGACTIONTYPE  PERIOD     TEAM_ID  FITS_PROFILE  \n",
      "0                       78       1  1610612737             0  \n",
      "1                        1       1  1610612737             0  \n",
      "2                       79       1  1610612737             0  \n",
      "3                        5       1  1610612737             0  \n",
      "4                        5       1  1610612737             0  \n",
      "...                    ...     ...         ...           ...  \n",
      "218503                   6       4  1610612766             1  \n",
      "218504                  79       4  1610612766             0  \n",
      "218505                   1       4  1610612766             0  \n",
      "218506                 101       4  1610612766             0  \n",
      "218507                  80       4  1610612766             0  \n",
      "\n",
      "[218508 rows x 8 columns]\n"
     ]
    }
   ],
   "source": [
    "# Check the results\n",
    "print(sznFILTdf)"
   ]
  },
  {
   "cell_type": "code",
   "execution_count": 101,
   "id": "dc1d7802-7d4d-4596-9939-4cefdb6d4611",
   "metadata": {},
   "outputs": [
    {
     "name": "stdout",
     "output_type": "stream",
     "text": [
      "FITS_PROFILE\n",
      "0    147702\n",
      "1     70806\n",
      "Name: count, dtype: int64\n"
     ]
    }
   ],
   "source": [
    "# Check the number of instances where shots fit the profile\n",
    "fit_counts = sznFILTdf['FITS_PROFILE'].value_counts()\n",
    "\n",
    "# Print the counts\n",
    "print(fit_counts)\n"
   ]
  },
  {
   "cell_type": "code",
   "execution_count": 103,
   "id": "1bde9b31-7615-461d-92ae-552a5d7a67a1",
   "metadata": {},
   "outputs": [
    {
     "data": {
      "text/plain": [
       "0.3240430556318304"
      ]
     },
     "execution_count": 103,
     "metadata": {},
     "output_type": "execute_result"
    }
   ],
   "source": [
    "cont_names = ['SHOT_DISTANCE']  # Continuous variables\n",
    "cat_names = ['EVENTMSGACTIONTYPE', 'PERIOD', 'TEAM_ID']  # Categorical variables including team_id\n",
    "y_names = 'FITS_PROFILE'  # Target variable\n",
    "\n",
    "# Create DataLoaders\n",
    "dataloaders = TabularDataLoaders.from_df(train_df, \n",
    "                                         valid_df=valid_df, \n",
    "                                         path='.', \n",
    "                                         procs=[Categorify, FillMissing, Normalize], \n",
    "                                         cat_names=cat_names, \n",
    "                                         cont_names=cont_names, \n",
    "                                         y_names=y_names, \n",
    "                                         bs=64)  # Adjust batch size as needed\n",
    "\n"
   ]
  },
  {
   "cell_type": "code",
   "execution_count": 124,
   "id": "bae326fd-6d72-459b-b7c4-99c8b6050eb3",
   "metadata": {},
   "outputs": [],
   "source": [
    "cont_names = ['SHOT_DISTANCE']  # Continuous variables\n",
    "cat_names = ['EVENTMSGACTIONTYPE', 'PERIOD', 'TEAM_ID']  # Categorical variables including team_id\n",
    "y_names = 'FITS_PROFILE'  # Target variable\n",
    "\n",
    "\n",
    "# Create DataLoaders\n",
    "dataloaders = TabularDataLoaders.from_df(sznFILTdf, \n",
    "                                         path='.', \n",
    "                                         procs=[Categorify,FillMissing], \n",
    "                                         cat_names=cat_names, \n",
    "                                         cont_names=cont_names, \n",
    "                                         y_names=y_names,\n",
    "                                         valid_pct=0.2,\n",
    "                                         bs=128)  # Adjust batch size as needed\n"
   ]
  },
  {
   "cell_type": "code",
   "execution_count": 125,
   "id": "d79d1f9f-8276-45c3-9d10-0b7484e18e36",
   "metadata": {},
   "outputs": [
    {
     "data": {
      "text/html": [
       "\n",
       "<style>\n",
       "    /* Turns off some styling */\n",
       "    progress {\n",
       "        /* gets rid of default border in Firefox and Opera. */\n",
       "        border: none;\n",
       "        /* Needs to be in here for Safari polyfill so background images work as expected. */\n",
       "        background-size: auto;\n",
       "    }\n",
       "    progress:not([value]), progress:not([value])::-webkit-progress-bar {\n",
       "        background: repeating-linear-gradient(45deg, #7e7e7e, #7e7e7e 10px, #5c5c5c 10px, #5c5c5c 20px);\n",
       "    }\n",
       "    .progress-bar-interrupted, .progress-bar-interrupted::-webkit-progress-bar {\n",
       "        background: #F44336;\n",
       "    }\n",
       "</style>\n"
      ],
      "text/plain": [
       "<IPython.core.display.HTML object>"
      ]
     },
     "metadata": {},
     "output_type": "display_data"
    },
    {
     "data": {
      "text/html": [
       "<table border=\"1\" class=\"dataframe\">\n",
       "  <thead>\n",
       "    <tr style=\"text-align: left;\">\n",
       "      <th>epoch</th>\n",
       "      <th>train_loss</th>\n",
       "      <th>valid_loss</th>\n",
       "      <th>accuracy</th>\n",
       "      <th>time</th>\n",
       "    </tr>\n",
       "  </thead>\n",
       "  <tbody>\n",
       "    <tr>\n",
       "      <td>0</td>\n",
       "      <td>0.092699</td>\n",
       "      <td>0.089324</td>\n",
       "      <td>0.675774</td>\n",
       "      <td>00:13</td>\n",
       "    </tr>\n",
       "    <tr>\n",
       "      <td>1</td>\n",
       "      <td>0.086600</td>\n",
       "      <td>0.085361</td>\n",
       "      <td>0.675774</td>\n",
       "      <td>00:13</td>\n",
       "    </tr>\n",
       "    <tr>\n",
       "      <td>2</td>\n",
       "      <td>0.079786</td>\n",
       "      <td>0.079189</td>\n",
       "      <td>0.675774</td>\n",
       "      <td>00:13</td>\n",
       "    </tr>\n",
       "    <tr>\n",
       "      <td>3</td>\n",
       "      <td>0.077913</td>\n",
       "      <td>0.079610</td>\n",
       "      <td>0.675774</td>\n",
       "      <td>00:13</td>\n",
       "    </tr>\n",
       "    <tr>\n",
       "      <td>4</td>\n",
       "      <td>0.076814</td>\n",
       "      <td>0.080899</td>\n",
       "      <td>0.675774</td>\n",
       "      <td>00:13</td>\n",
       "    </tr>\n",
       "  </tbody>\n",
       "</table>"
      ],
      "text/plain": [
       "<IPython.core.display.HTML object>"
      ]
     },
     "metadata": {},
     "output_type": "display_data"
    }
   ],
   "source": [
    "# Create a TabularLearner\n",
    "learn = tabular_learner(dataloaders, \n",
    "                        metrics=accuracy)  # You can use different metrics as needed\n",
    "\n",
    "# Train the model\n",
    "learn.fit_one_cycle(5)  # Number of epochs\n"
   ]
  },
  {
   "cell_type": "code",
   "execution_count": 126,
   "id": "091bcc50-d984-4ad7-aa02-e71a06e1d756",
   "metadata": {
    "scrolled": true
   },
   "outputs": [
    {
     "data": {
      "text/html": [
       "\n",
       "<style>\n",
       "    /* Turns off some styling */\n",
       "    progress {\n",
       "        /* gets rid of default border in Firefox and Opera. */\n",
       "        border: none;\n",
       "        /* Needs to be in here for Safari polyfill so background images work as expected. */\n",
       "        background-size: auto;\n",
       "    }\n",
       "    progress:not([value]), progress:not([value])::-webkit-progress-bar {\n",
       "        background: repeating-linear-gradient(45deg, #7e7e7e, #7e7e7e 10px, #5c5c5c 10px, #5c5c5c 20px);\n",
       "    }\n",
       "    .progress-bar-interrupted, .progress-bar-interrupted::-webkit-progress-bar {\n",
       "        background: #F44336;\n",
       "    }\n",
       "</style>\n"
      ],
      "text/plain": [
       "<IPython.core.display.HTML object>"
      ]
     },
     "metadata": {},
     "output_type": "display_data"
    },
    {
     "data": {
      "text/html": [],
      "text/plain": [
       "<IPython.core.display.HTML object>"
      ]
     },
     "metadata": {},
     "output_type": "display_data"
    },
    {
     "data": {
      "text/html": [
       "<table border=\"1\" class=\"dataframe\">\n",
       "  <thead>\n",
       "    <tr style=\"text-align: right;\">\n",
       "      <th></th>\n",
       "      <th>EVENTMSGACTIONTYPE</th>\n",
       "      <th>PERIOD</th>\n",
       "      <th>TEAM_ID</th>\n",
       "      <th>SHOT_DISTANCE</th>\n",
       "      <th>FITS_PROFILE</th>\n",
       "      <th>FITS_PROFILE_pred</th>\n",
       "    </tr>\n",
       "  </thead>\n",
       "  <tbody>\n",
       "    <tr>\n",
       "      <th>0</th>\n",
       "      <td>11.0</td>\n",
       "      <td>1.0</td>\n",
       "      <td>29.0</td>\n",
       "      <td>6.0</td>\n",
       "      <td>0.0</td>\n",
       "      <td>0.252126</td>\n",
       "    </tr>\n",
       "    <tr>\n",
       "      <th>1</th>\n",
       "      <td>1.0</td>\n",
       "      <td>1.0</td>\n",
       "      <td>25.0</td>\n",
       "      <td>25.0</td>\n",
       "      <td>0.0</td>\n",
       "      <td>0.001477</td>\n",
       "    </tr>\n",
       "    <tr>\n",
       "      <th>2</th>\n",
       "      <td>10.0</td>\n",
       "      <td>1.0</td>\n",
       "      <td>29.0</td>\n",
       "      <td>2.0</td>\n",
       "      <td>1.0</td>\n",
       "      <td>0.901876</td>\n",
       "    </tr>\n",
       "    <tr>\n",
       "      <th>3</th>\n",
       "      <td>27.0</td>\n",
       "      <td>2.0</td>\n",
       "      <td>10.0</td>\n",
       "      <td>15.0</td>\n",
       "      <td>0.0</td>\n",
       "      <td>0.027947</td>\n",
       "    </tr>\n",
       "    <tr>\n",
       "      <th>4</th>\n",
       "      <td>36.0</td>\n",
       "      <td>4.0</td>\n",
       "      <td>20.0</td>\n",
       "      <td>2.0</td>\n",
       "      <td>1.0</td>\n",
       "      <td>0.934489</td>\n",
       "    </tr>\n",
       "    <tr>\n",
       "      <th>5</th>\n",
       "      <td>4.0</td>\n",
       "      <td>3.0</td>\n",
       "      <td>29.0</td>\n",
       "      <td>4.0</td>\n",
       "      <td>0.0</td>\n",
       "      <td>0.165376</td>\n",
       "    </tr>\n",
       "    <tr>\n",
       "      <th>6</th>\n",
       "      <td>28.0</td>\n",
       "      <td>1.0</td>\n",
       "      <td>10.0</td>\n",
       "      <td>25.0</td>\n",
       "      <td>0.0</td>\n",
       "      <td>0.006840</td>\n",
       "    </tr>\n",
       "    <tr>\n",
       "      <th>7</th>\n",
       "      <td>5.0</td>\n",
       "      <td>2.0</td>\n",
       "      <td>23.0</td>\n",
       "      <td>1.0</td>\n",
       "      <td>1.0</td>\n",
       "      <td>1.008828</td>\n",
       "    </tr>\n",
       "    <tr>\n",
       "      <th>8</th>\n",
       "      <td>1.0</td>\n",
       "      <td>1.0</td>\n",
       "      <td>18.0</td>\n",
       "      <td>27.0</td>\n",
       "      <td>0.0</td>\n",
       "      <td>0.019377</td>\n",
       "    </tr>\n",
       "  </tbody>\n",
       "</table>"
      ],
      "text/plain": [
       "<IPython.core.display.HTML object>"
      ]
     },
     "metadata": {},
     "output_type": "display_data"
    },
    {
     "data": {
      "text/html": [
       "\n",
       "<style>\n",
       "    /* Turns off some styling */\n",
       "    progress {\n",
       "        /* gets rid of default border in Firefox and Opera. */\n",
       "        border: none;\n",
       "        /* Needs to be in here for Safari polyfill so background images work as expected. */\n",
       "        background-size: auto;\n",
       "    }\n",
       "    progress:not([value]), progress:not([value])::-webkit-progress-bar {\n",
       "        background: repeating-linear-gradient(45deg, #7e7e7e, #7e7e7e 10px, #5c5c5c 10px, #5c5c5c 20px);\n",
       "    }\n",
       "    .progress-bar-interrupted, .progress-bar-interrupted::-webkit-progress-bar {\n",
       "        background: #F44336;\n",
       "    }\n",
       "</style>\n"
      ],
      "text/plain": [
       "<IPython.core.display.HTML object>"
      ]
     },
     "metadata": {},
     "output_type": "display_data"
    },
    {
     "data": {
      "text/html": [],
      "text/plain": [
       "<IPython.core.display.HTML object>"
      ]
     },
     "metadata": {},
     "output_type": "display_data"
    },
    {
     "ename": "AttributeError",
     "evalue": "vocab",
     "output_type": "error",
     "traceback": [
      "\u001b[0;31m---------------------------------------------------------------------------\u001b[0m",
      "\u001b[0;31mAttributeError\u001b[0m                            Traceback (most recent call last)",
      "Cell \u001b[0;32mIn[126], line 5\u001b[0m\n\u001b[1;32m      2\u001b[0m learn\u001b[38;5;241m.\u001b[39mshow_results()\n\u001b[1;32m      4\u001b[0m \u001b[38;5;66;03m# Plot confusion matrix\u001b[39;00m\n\u001b[0;32m----> 5\u001b[0m interp \u001b[38;5;241m=\u001b[39m ClassificationInterpretation\u001b[38;5;241m.\u001b[39mfrom_learner(learn)\n\u001b[1;32m      6\u001b[0m interp\u001b[38;5;241m.\u001b[39mplot_confusion_matrix()\n",
      "File \u001b[0;32m~/anaconda3/lib/python3.11/site-packages/fastai/interpret.py:56\u001b[0m, in \u001b[0;36mInterpretation.from_learner\u001b[0;34m(cls, learn, ds_idx, dl, act)\u001b[0m\n\u001b[1;32m     53\u001b[0m \u001b[38;5;28;01mif\u001b[39;00m dl \u001b[38;5;129;01mis\u001b[39;00m \u001b[38;5;28;01mNone\u001b[39;00m: dl \u001b[38;5;241m=\u001b[39m learn\u001b[38;5;241m.\u001b[39mdls[ds_idx]\u001b[38;5;241m.\u001b[39mnew(shuffle\u001b[38;5;241m=\u001b[39m\u001b[38;5;28;01mFalse\u001b[39;00m, drop_last\u001b[38;5;241m=\u001b[39m\u001b[38;5;28;01mFalse\u001b[39;00m)\n\u001b[1;32m     54\u001b[0m _,_,losses \u001b[38;5;241m=\u001b[39m learn\u001b[38;5;241m.\u001b[39mget_preds(dl\u001b[38;5;241m=\u001b[39mdl, with_input\u001b[38;5;241m=\u001b[39m\u001b[38;5;28;01mFalse\u001b[39;00m, with_loss\u001b[38;5;241m=\u001b[39m\u001b[38;5;28;01mTrue\u001b[39;00m, with_decoded\u001b[38;5;241m=\u001b[39m\u001b[38;5;28;01mFalse\u001b[39;00m,\n\u001b[1;32m     55\u001b[0m                              with_preds\u001b[38;5;241m=\u001b[39m\u001b[38;5;28;01mFalse\u001b[39;00m, with_targs\u001b[38;5;241m=\u001b[39m\u001b[38;5;28;01mFalse\u001b[39;00m, act\u001b[38;5;241m=\u001b[39mact)\n\u001b[0;32m---> 56\u001b[0m \u001b[38;5;28;01mreturn\u001b[39;00m \u001b[38;5;28mcls\u001b[39m(learn, dl, losses, act)\n",
      "File \u001b[0;32m~/anaconda3/lib/python3.11/site-packages/fastai/interpret.py:110\u001b[0m, in \u001b[0;36mClassificationInterpretation.__init__\u001b[0;34m(self, learn, dl, losses, act)\u001b[0m\n\u001b[1;32m    103\u001b[0m \u001b[38;5;28;01mdef\u001b[39;00m \u001b[38;5;21m__init__\u001b[39m(\u001b[38;5;28mself\u001b[39m, \n\u001b[1;32m    104\u001b[0m     learn:Learner, \n\u001b[1;32m    105\u001b[0m     dl:DataLoader, \u001b[38;5;66;03m# `DataLoader` to run inference over\u001b[39;00m\n\u001b[1;32m    106\u001b[0m     losses:TensorBase, \u001b[38;5;66;03m# Losses calculated from `dl`\u001b[39;00m\n\u001b[1;32m    107\u001b[0m     act\u001b[38;5;241m=\u001b[39m\u001b[38;5;28;01mNone\u001b[39;00m \u001b[38;5;66;03m# Activation function for prediction\u001b[39;00m\n\u001b[1;32m    108\u001b[0m ):\n\u001b[1;32m    109\u001b[0m     \u001b[38;5;28msuper\u001b[39m()\u001b[38;5;241m.\u001b[39m\u001b[38;5;21m__init__\u001b[39m(learn, dl, losses, act)\n\u001b[0;32m--> 110\u001b[0m     \u001b[38;5;28mself\u001b[39m\u001b[38;5;241m.\u001b[39mvocab \u001b[38;5;241m=\u001b[39m \u001b[38;5;28mself\u001b[39m\u001b[38;5;241m.\u001b[39mdl\u001b[38;5;241m.\u001b[39mvocab\n\u001b[1;32m    111\u001b[0m     \u001b[38;5;28;01mif\u001b[39;00m is_listy(\u001b[38;5;28mself\u001b[39m\u001b[38;5;241m.\u001b[39mvocab): \u001b[38;5;28mself\u001b[39m\u001b[38;5;241m.\u001b[39mvocab \u001b[38;5;241m=\u001b[39m \u001b[38;5;28mself\u001b[39m\u001b[38;5;241m.\u001b[39mvocab[\u001b[38;5;241m-\u001b[39m\u001b[38;5;241m1\u001b[39m]\n",
      "File \u001b[0;32m~/anaconda3/lib/python3.11/site-packages/fastcore/basics.py:527\u001b[0m, in \u001b[0;36mGetAttr.__getattr__\u001b[0;34m(self, k)\u001b[0m\n\u001b[1;32m    525\u001b[0m \u001b[38;5;28;01mif\u001b[39;00m \u001b[38;5;28mself\u001b[39m\u001b[38;5;241m.\u001b[39m_component_attr_filter(k):\n\u001b[1;32m    526\u001b[0m     attr \u001b[38;5;241m=\u001b[39m \u001b[38;5;28mgetattr\u001b[39m(\u001b[38;5;28mself\u001b[39m,\u001b[38;5;28mself\u001b[39m\u001b[38;5;241m.\u001b[39m_default,\u001b[38;5;28;01mNone\u001b[39;00m)\n\u001b[0;32m--> 527\u001b[0m     \u001b[38;5;28;01mif\u001b[39;00m attr \u001b[38;5;129;01mis\u001b[39;00m \u001b[38;5;129;01mnot\u001b[39;00m \u001b[38;5;28;01mNone\u001b[39;00m: \u001b[38;5;28;01mreturn\u001b[39;00m \u001b[38;5;28mgetattr\u001b[39m(attr,k)\n\u001b[1;32m    528\u001b[0m \u001b[38;5;28;01mraise\u001b[39;00m \u001b[38;5;167;01mAttributeError\u001b[39;00m(k)\n",
      "File \u001b[0;32m~/anaconda3/lib/python3.11/site-packages/fastcore/basics.py:527\u001b[0m, in \u001b[0;36mGetAttr.__getattr__\u001b[0;34m(self, k)\u001b[0m\n\u001b[1;32m    525\u001b[0m \u001b[38;5;28;01mif\u001b[39;00m \u001b[38;5;28mself\u001b[39m\u001b[38;5;241m.\u001b[39m_component_attr_filter(k):\n\u001b[1;32m    526\u001b[0m     attr \u001b[38;5;241m=\u001b[39m \u001b[38;5;28mgetattr\u001b[39m(\u001b[38;5;28mself\u001b[39m,\u001b[38;5;28mself\u001b[39m\u001b[38;5;241m.\u001b[39m_default,\u001b[38;5;28;01mNone\u001b[39;00m)\n\u001b[0;32m--> 527\u001b[0m     \u001b[38;5;28;01mif\u001b[39;00m attr \u001b[38;5;129;01mis\u001b[39;00m \u001b[38;5;129;01mnot\u001b[39;00m \u001b[38;5;28;01mNone\u001b[39;00m: \u001b[38;5;28;01mreturn\u001b[39;00m \u001b[38;5;28mgetattr\u001b[39m(attr,k)\n\u001b[1;32m    528\u001b[0m \u001b[38;5;28;01mraise\u001b[39;00m \u001b[38;5;167;01mAttributeError\u001b[39;00m(k)\n",
      "File \u001b[0;32m~/anaconda3/lib/python3.11/site-packages/fastcore/transform.py:214\u001b[0m, in \u001b[0;36mPipeline.__getattr__\u001b[0;34m(self, k)\u001b[0m\n\u001b[1;32m    212\u001b[0m \u001b[38;5;28;01mdef\u001b[39;00m \u001b[38;5;21m__getitem__\u001b[39m(\u001b[38;5;28mself\u001b[39m,i): \u001b[38;5;28;01mreturn\u001b[39;00m \u001b[38;5;28mself\u001b[39m\u001b[38;5;241m.\u001b[39mfs[i]\n\u001b[1;32m    213\u001b[0m \u001b[38;5;28;01mdef\u001b[39;00m \u001b[38;5;21m__setstate__\u001b[39m(\u001b[38;5;28mself\u001b[39m,data): \u001b[38;5;28mself\u001b[39m\u001b[38;5;241m.\u001b[39m\u001b[38;5;18m__dict__\u001b[39m\u001b[38;5;241m.\u001b[39mupdate(data)\n\u001b[0;32m--> 214\u001b[0m \u001b[38;5;28;01mdef\u001b[39;00m \u001b[38;5;21m__getattr__\u001b[39m(\u001b[38;5;28mself\u001b[39m,k): \u001b[38;5;28;01mreturn\u001b[39;00m gather_attrs(\u001b[38;5;28mself\u001b[39m, k, \u001b[38;5;124m'\u001b[39m\u001b[38;5;124mfs\u001b[39m\u001b[38;5;124m'\u001b[39m)\n\u001b[1;32m    215\u001b[0m \u001b[38;5;28;01mdef\u001b[39;00m \u001b[38;5;21m__dir__\u001b[39m(\u001b[38;5;28mself\u001b[39m): \u001b[38;5;28;01mreturn\u001b[39;00m \u001b[38;5;28msuper\u001b[39m()\u001b[38;5;241m.\u001b[39m\u001b[38;5;21m__dir__\u001b[39m() \u001b[38;5;241m+\u001b[39m gather_attr_names(\u001b[38;5;28mself\u001b[39m, \u001b[38;5;124m'\u001b[39m\u001b[38;5;124mfs\u001b[39m\u001b[38;5;124m'\u001b[39m)\n\u001b[1;32m    217\u001b[0m \u001b[38;5;28;01mdef\u001b[39;00m \u001b[38;5;21mdecode\u001b[39m  (\u001b[38;5;28mself\u001b[39m, o, full\u001b[38;5;241m=\u001b[39m\u001b[38;5;28;01mTrue\u001b[39;00m):\n",
      "File \u001b[0;32m~/anaconda3/lib/python3.11/site-packages/fastcore/transform.py:175\u001b[0m, in \u001b[0;36mgather_attrs\u001b[0;34m(o, k, nm)\u001b[0m\n\u001b[1;32m    173\u001b[0m att \u001b[38;5;241m=\u001b[39m \u001b[38;5;28mgetattr\u001b[39m(o,nm)\n\u001b[1;32m    174\u001b[0m res \u001b[38;5;241m=\u001b[39m [t \u001b[38;5;28;01mfor\u001b[39;00m t \u001b[38;5;129;01min\u001b[39;00m att\u001b[38;5;241m.\u001b[39mattrgot(k) \u001b[38;5;28;01mif\u001b[39;00m t \u001b[38;5;129;01mis\u001b[39;00m \u001b[38;5;129;01mnot\u001b[39;00m \u001b[38;5;28;01mNone\u001b[39;00m]\n\u001b[0;32m--> 175\u001b[0m \u001b[38;5;28;01mif\u001b[39;00m \u001b[38;5;129;01mnot\u001b[39;00m res: \u001b[38;5;28;01mraise\u001b[39;00m \u001b[38;5;167;01mAttributeError\u001b[39;00m(k)\n\u001b[1;32m    176\u001b[0m \u001b[38;5;28;01mreturn\u001b[39;00m res[\u001b[38;5;241m0\u001b[39m] \u001b[38;5;28;01mif\u001b[39;00m \u001b[38;5;28mlen\u001b[39m(res)\u001b[38;5;241m==\u001b[39m\u001b[38;5;241m1\u001b[39m \u001b[38;5;28;01melse\u001b[39;00m L(res)\n",
      "\u001b[0;31mAttributeError\u001b[0m: vocab"
     ]
    }
   ],
   "source": [
    "# Check accuracy\n",
    "learn.show_results()\n",
    "\n",
    "# Plot confusion matrix\n",
    "interp = ClassificationInterpretation.from_learner(learn)\n",
    "interp.plot_confusion_matrix()\n"
   ]
  },
  {
   "cell_type": "code",
   "execution_count": 132,
   "id": "0378aef5-c25b-4091-91ff-84ae340cfc87",
   "metadata": {},
   "outputs": [
    {
     "data": {
      "text/html": [
       "\n",
       "<style>\n",
       "    /* Turns off some styling */\n",
       "    progress {\n",
       "        /* gets rid of default border in Firefox and Opera. */\n",
       "        border: none;\n",
       "        /* Needs to be in here for Safari polyfill so background images work as expected. */\n",
       "        background-size: auto;\n",
       "    }\n",
       "    progress:not([value]), progress:not([value])::-webkit-progress-bar {\n",
       "        background: repeating-linear-gradient(45deg, #7e7e7e, #7e7e7e 10px, #5c5c5c 10px, #5c5c5c 20px);\n",
       "    }\n",
       "    .progress-bar-interrupted, .progress-bar-interrupted::-webkit-progress-bar {\n",
       "        background: #F44336;\n",
       "    }\n",
       "</style>\n"
      ],
      "text/plain": [
       "<IPython.core.display.HTML object>"
      ]
     },
     "metadata": {},
     "output_type": "display_data"
    },
    {
     "data": {
      "text/html": [],
      "text/plain": [
       "<IPython.core.display.HTML object>"
      ]
     },
     "metadata": {},
     "output_type": "display_data"
    },
    {
     "name": "stdout",
     "output_type": "stream",
     "text": [
      "tensor([[0.5698]])\n"
     ]
    }
   ],
   "source": [
    "# Example of making predictions\n",
    "new_data = pd.DataFrame({\n",
    "    'SHOT_DISTANCE': [4],\n",
    "    'EVENTMSGACTIONTYPE': [7],\n",
    "    'PERIOD': [2],\n",
    "    'TEAM_ID':[5.0]\n",
    "})\n",
    "\n",
    "# Convert to DataLoader format\n",
    "new_dl = learn.dls.test_dl(new_data)\n",
    "\n",
    "# Make predictions\n",
    "preds, _ = learn.get_preds(dl=new_dl)\n",
    "print(preds)\n"
   ]
  },
  {
   "cell_type": "code",
   "execution_count": null,
   "id": "3975576d-4371-461c-804e-bd4e296ecc2b",
   "metadata": {},
   "outputs": [],
   "source": []
  },
  {
   "cell_type": "code",
   "execution_count": null,
   "id": "5b637141-2c39-46e4-95a5-934004e5f5a5",
   "metadata": {},
   "outputs": [],
   "source": []
  },
  {
   "cell_type": "code",
   "execution_count": null,
   "id": "194f5de4-1d8f-440c-9c10-e6b7aaa665f8",
   "metadata": {},
   "outputs": [],
   "source": []
  },
  {
   "cell_type": "code",
   "execution_count": null,
   "id": "40534c57-cec6-4474-96d0-92cfc5bcaf98",
   "metadata": {},
   "outputs": [],
   "source": []
  },
  {
   "cell_type": "code",
   "execution_count": null,
   "id": "d6864f5e-4764-4acf-a6df-e8f74e312d96",
   "metadata": {},
   "outputs": [],
   "source": []
  },
  {
   "cell_type": "code",
   "execution_count": null,
   "id": "d69a3ef8-333d-4aa8-9d07-20e34be688b7",
   "metadata": {},
   "outputs": [],
   "source": []
  },
  {
   "cell_type": "code",
   "execution_count": null,
   "id": "af287928-641e-4cbb-8e02-9c54b6b1195c",
   "metadata": {},
   "outputs": [],
   "source": []
  },
  {
   "cell_type": "code",
   "execution_count": null,
   "id": "e26b4d99-f81c-4023-a1ac-516ef0829517",
   "metadata": {},
   "outputs": [],
   "source": []
  },
  {
   "cell_type": "code",
   "execution_count": null,
   "id": "1f005319-ab0b-4b23-9b5d-43eb337e684e",
   "metadata": {},
   "outputs": [],
   "source": []
  },
  {
   "cell_type": "code",
   "execution_count": null,
   "id": "5ab42b85-279d-425c-90d3-7e5be7114e71",
   "metadata": {},
   "outputs": [],
   "source": []
  }
 ],
 "metadata": {
  "kernelspec": {
   "display_name": "Python 3 (ipykernel)",
   "language": "python",
   "name": "python3"
  },
  "language_info": {
   "codemirror_mode": {
    "name": "ipython",
    "version": 3
   },
   "file_extension": ".py",
   "mimetype": "text/x-python",
   "name": "python",
   "nbconvert_exporter": "python",
   "pygments_lexer": "ipython3",
   "version": "3.11.5"
  }
 },
 "nbformat": 4,
 "nbformat_minor": 5
}
