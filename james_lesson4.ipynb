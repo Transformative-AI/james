{
 "cells": [
  {
   "cell_type": "markdown",
   "id": "e3170f55-3ff9-4456-b2ff-b072bfe48a82",
   "metadata": {},
   "source": [
    "# Subreddit Classification\n",
    "## r/saltierthancrait vs r/saltierthankrayt\n",
    "#### Using sentiment analysis, we will determine which posts live on which subreddit.\n",
    "##### How do opposing communities compare? Language/Vocab... Topics of Discussion... Racism & Sexism?"
   ]
  },
  {
   "cell_type": "code",
   "execution_count": null,
   "id": "c74ba033-1e12-4de5-b079-13041d654654",
   "metadata": {},
   "outputs": [],
   "source": []
  },
  {
   "cell_type": "code",
   "execution_count": 3,
   "id": "1339230c-233b-422a-ae7f-797d7d5f7cfa",
   "metadata": {},
   "outputs": [
    {
     "name": "stdout",
     "output_type": "stream",
     "text": [
      "Data scraping completed and saved as star_wars_subreddits.csv\n"
     ]
    }
   ],
   "source": [
    "import praw\n",
    "import pandas as pd\n",
    "\n",
    "# Authentication credentials\n",
    "reddit = praw.Reddit(\n",
    "    client_id='GnRQM1oh9j_vXEC9RSbgPw',\n",
    "    client_secret='BxwThEnfKppNkJWy8BEVxxmADGwt7w',\n",
    "    user_agent='StarWarsSentiment v0.0 by jqsiv'\n",
    ")\n",
    "\n",
    "# Subreddits to scrape\n",
    "subreddits = {\n",
    "    'saltierthancrait': 1,  # Label 1\n",
    "    'saltierthankrayt': 0   # Label 0\n",
    "}\n",
    "num_posts = 500  # Number of posts per subreddit\n",
    "\n",
    "# Data storage\n",
    "data = {\n",
    "    'subreddit': [],\n",
    "    'label': [],\n",
    "    'title': [],\n",
    "    'body': [],\n",
    "    'url': [],\n",
    "    'score': [],\n",
    "    'num_comments': []\n",
    "}\n",
    "\n",
    "# Scrape posts\n",
    "for subreddit_name, label in subreddits.items():\n",
    "    subreddit = reddit.subreddit(subreddit_name)\n",
    "    \n",
    "    # Use the 'hot' sort as an example\n",
    "    posts = subreddit.hot(limit=num_posts)\n",
    "    \n",
    "    for post in posts:\n",
    "        data['subreddit'].append(subreddit_name)\n",
    "        data['label'].append(label)\n",
    "        data['title'].append(post.title)\n",
    "        data['body'].append(post.selftext)\n",
    "        data['url'].append(post.url)\n",
    "        data['score'].append(post.score)\n",
    "        data['num_comments'].append(post.num_comments)\n",
    "\n",
    "# Convert the data into a DataFrame\n",
    "df = pd.DataFrame(data)\n",
    "\n",
    "# Save to CSV\n",
    "# df.to_csv('star_wars_subreddits.csv', index=False)\n",
    "print(\"Data scraping completed and saved as star_wars_subreddits.csv\")\n"
   ]
  },
  {
   "cell_type": "code",
   "execution_count": 4,
   "id": "0cae703b-1572-46ce-bd07-2d6a62fedf5d",
   "metadata": {},
   "outputs": [
    {
     "data": {
      "text/html": [
       "<div>\n",
       "<style scoped>\n",
       "    .dataframe tbody tr th:only-of-type {\n",
       "        vertical-align: middle;\n",
       "    }\n",
       "\n",
       "    .dataframe tbody tr th {\n",
       "        vertical-align: top;\n",
       "    }\n",
       "\n",
       "    .dataframe thead th {\n",
       "        text-align: right;\n",
       "    }\n",
       "</style>\n",
       "<table border=\"1\" class=\"dataframe\">\n",
       "  <thead>\n",
       "    <tr style=\"text-align: right;\">\n",
       "      <th></th>\n",
       "      <th>subreddit</th>\n",
       "      <th>label</th>\n",
       "      <th>title</th>\n",
       "      <th>body</th>\n",
       "      <th>url</th>\n",
       "      <th>score</th>\n",
       "      <th>num_comments</th>\n",
       "    </tr>\n",
       "  </thead>\n",
       "  <tbody>\n",
       "    <tr>\n",
       "      <th>0</th>\n",
       "      <td>saltierthancrait</td>\n",
       "      <td>1</td>\n",
       "      <td>James Earl Jones has passed away today at the ...</td>\n",
       "      <td>[https://variety.com/2024/film/news/james-earl...</td>\n",
       "      <td>https://www.reddit.com/r/saltierthancrait/comm...</td>\n",
       "      <td>3768</td>\n",
       "      <td>168</td>\n",
       "    </tr>\n",
       "    <tr>\n",
       "      <th>1</th>\n",
       "      <td>saltierthancrait</td>\n",
       "      <td>1</td>\n",
       "      <td>Official LEGO Star Wars: Rebuild the Galaxy Di...</td>\n",
       "      <td>As always, comment only if you've actually see...</td>\n",
       "      <td>https://www.reddit.com/r/saltierthancrait/comm...</td>\n",
       "      <td>46</td>\n",
       "      <td>26</td>\n",
       "    </tr>\n",
       "    <tr>\n",
       "      <th>2</th>\n",
       "      <td>saltierthancrait</td>\n",
       "      <td>1</td>\n",
       "      <td>The New Jedi Order movie starring Daisy Ridley...</td>\n",
       "      <td></td>\n",
       "      <td>https://x.com/sw_holocron/status/1837299213987...</td>\n",
       "      <td>584</td>\n",
       "      <td>283</td>\n",
       "    </tr>\n",
       "    <tr>\n",
       "      <th>3</th>\n",
       "      <td>saltierthancrait</td>\n",
       "      <td>1</td>\n",
       "      <td>\"There's no source material. We don't have com...</td>\n",
       "      <td></td>\n",
       "      <td>https://v.redd.it/p75yzsoah7qd1</td>\n",
       "      <td>982</td>\n",
       "      <td>105</td>\n",
       "    </tr>\n",
       "    <tr>\n",
       "      <th>4</th>\n",
       "      <td>saltierthancrait</td>\n",
       "      <td>1</td>\n",
       "      <td>Disney is so keen on killing Star Wars that ev...</td>\n",
       "      <td>I was rewatching EFAP’s Ahsoka video and it ma...</td>\n",
       "      <td>https://i.redd.it/gnugevnwjepd1.jpeg</td>\n",
       "      <td>892</td>\n",
       "      <td>107</td>\n",
       "    </tr>\n",
       "  </tbody>\n",
       "</table>\n",
       "</div>"
      ],
      "text/plain": [
       "          subreddit  label                                              title  \\\n",
       "0  saltierthancrait      1  James Earl Jones has passed away today at the ...   \n",
       "1  saltierthancrait      1  Official LEGO Star Wars: Rebuild the Galaxy Di...   \n",
       "2  saltierthancrait      1  The New Jedi Order movie starring Daisy Ridley...   \n",
       "3  saltierthancrait      1  \"There's no source material. We don't have com...   \n",
       "4  saltierthancrait      1  Disney is so keen on killing Star Wars that ev...   \n",
       "\n",
       "                                                body  \\\n",
       "0  [https://variety.com/2024/film/news/james-earl...   \n",
       "1  As always, comment only if you've actually see...   \n",
       "2                                                      \n",
       "3                                                      \n",
       "4  I was rewatching EFAP’s Ahsoka video and it ma...   \n",
       "\n",
       "                                                 url  score  num_comments  \n",
       "0  https://www.reddit.com/r/saltierthancrait/comm...   3768           168  \n",
       "1  https://www.reddit.com/r/saltierthancrait/comm...     46            26  \n",
       "2  https://x.com/sw_holocron/status/1837299213987...    584           283  \n",
       "3                    https://v.redd.it/p75yzsoah7qd1    982           105  \n",
       "4               https://i.redd.it/gnugevnwjepd1.jpeg    892           107  "
      ]
     },
     "execution_count": 4,
     "metadata": {},
     "output_type": "execute_result"
    }
   ],
   "source": [
    "df.head()"
   ]
  },
  {
   "cell_type": "code",
   "execution_count": 5,
   "id": "92cdd97d-56af-4929-95df-d9a48fc206e4",
   "metadata": {},
   "outputs": [
    {
     "data": {
      "text/plain": [
       "subreddit                                        saltierthankrayt\n",
       "label                                                           0\n",
       "title           Despite everything Zaslav has done, how come i...\n",
       "body                                                             \n",
       "url                        https://www.reddit.com/gallery/1f6jbu9\n",
       "score                                                          66\n",
       "num_comments                                                   38\n",
       "Name: 999, dtype: object"
      ]
     },
     "execution_count": 5,
     "metadata": {},
     "output_type": "execute_result"
    }
   ],
   "source": [
    "df.iloc[-1]"
   ]
  },
  {
   "cell_type": "code",
   "execution_count": 10,
   "id": "7922bf2c-9af3-4e94-ba9a-3df7563d201a",
   "metadata": {},
   "outputs": [],
   "source": [
    "import re\n",
    "from sklearn.feature_extraction.text import TfidfVectorizer\n",
    "from sklearn.model_selection import train_test_split\n",
    "\n",
    "# Remove rows with empty bodies or titles\n",
    "df.dropna(subset=['body', 'title'], inplace=True)\n",
    "\n",
    "# Combine title and body into one field\n",
    "df['text'] = df['title'] + ' ' + df['body']\n",
    "\n",
    "# Basic text cleaning function\n",
    "def clean_text(text):\n",
    "    text = text.lower()  # Lowercase\n",
    "    text = re.sub(r'http\\S+|www\\S+', '', text)  # Remove URLs\n",
    "    text = re.sub(r'[^a-zA-Z\\s]', '', text)  # Remove special characters\n",
    "    text = re.sub(r'\\s+', ' ', text)  # Remove extra spaces\n",
    "    return text\n",
    "\n",
    "df['text'] = df['text'].apply(clean_text)\n",
    "\n",
    "# Vectorize the text using TF-IDF\n",
    "vectorizer = TfidfVectorizer(stop_words='english', max_features=1000)  # Limit features for simplicity\n",
    "X = vectorizer.fit_transform(df['text'])\n",
    "\n",
    "# Labels for classification\n",
    "y = df['label']\n",
    "\n",
    "# Split data into training and test sets\n",
    "X_train, X_test, y_train, y_test = train_test_split(X, y, test_size=0.2, random_state=42)\n"
   ]
  },
  {
   "cell_type": "code",
   "execution_count": 8,
   "id": "bcf94a6e-177f-4f72-980d-153aa7d9e570",
   "metadata": {},
   "outputs": [
    {
     "data": {
      "text/plain": [
       "<1000x5000 sparse matrix of type '<class 'numpy.float64'>'\n",
       "\twith 25571 stored elements in Compressed Sparse Row format>"
      ]
     },
     "execution_count": 8,
     "metadata": {},
     "output_type": "execute_result"
    }
   ],
   "source": [
    "X"
   ]
  },
  {
   "cell_type": "code",
   "execution_count": 9,
   "id": "8923ac5c-5248-4e79-9b93-0162820c52ff",
   "metadata": {},
   "outputs": [
    {
     "name": "stdout",
     "output_type": "stream",
     "text": [
      "Vocabulary:\n",
      " ['aaa' 'abandoning' 'abide' ... 'zippermouth' 'zod' 'zone']\n",
      "\n",
      "Document-Term Matrix (TF-IDF values):\n",
      " [[0. 0. 0. ... 0. 0. 0.]\n",
      " [0. 0. 0. ... 0. 0. 0.]\n",
      " [0. 0. 0. ... 0. 0. 0.]\n",
      " ...\n",
      " [0. 0. 0. ... 0. 0. 0.]\n",
      " [0. 0. 0. ... 0. 0. 0.]\n",
      " [0. 0. 0. ... 0. 0. 0.]]\n"
     ]
    }
   ],
   "source": [
    "feature_names = vectorizer.get_feature_names_out()\n",
    "print(\"Vocabulary:\\n\", feature_names)\n",
    "\n",
    "# 2. To view the matrix representation of the documents\n",
    "matrix = X.toarray()\n",
    "print(\"\\nDocument-Term Matrix (TF-IDF values):\\n\", matrix)"
   ]
  },
  {
   "cell_type": "code",
   "execution_count": 11,
   "id": "3c04a388-2227-4388-aa94-cf195d63e293",
   "metadata": {},
   "outputs": [
    {
     "name": "stdout",
     "output_type": "stream",
     "text": [
      "Vocabulary:\n",
      " ['ability' 'able' 'absolutely' 'according' 'account' 'acolyte' 'acolytes'\n",
      " 'act' 'acting' 'action' 'actions' 'actor' 'actors' 'actual' 'actually'\n",
      " 'admit' 'adventure' 'age' 'ago' 'agree' 'ahsoka' 'ai' 'allowed' 'amazing'\n",
      " 'anakin' 'anakins' 'analysis' 'andor' 'anger' 'angry' 'aniseya'\n",
      " 'annoying' 'antiwoke' 'anymore' 'apparently' 'arc' 'arent' 'argue'\n",
      " 'argument' 'arguments' 'ask' 'asked' 'ass' 'assassins' 'attack'\n",
      " 'attacking' 'attempt' 'attention' 'audience' 'average' 'awakens' 'away'\n",
      " 'awesome' 'awful' 'bad' 'barely' 'based' 'basically' 'batch' 'battle'\n",
      " 'beginning' 'believe' 'best' 'better' 'big' 'biggest' 'bit' 'black'\n",
      " 'blame' 'boba' 'body' 'bombing' 'book' 'books' 'boring' 'bought' 'boy'\n",
      " 'break' 'breaking' 'bring' 'bro' 'brought' 'budget' 'build' 'built'\n",
      " 'bullshit' 'bunch' 'california' 'called' 'calling' 'came' 'cancelled'\n",
      " 'canon' 'care' 'case' 'cast' 'cause' 'certain' 'chance' 'change'\n",
      " 'changed' 'channel' 'channels' 'character' 'characters' 'charity' 'cheap'\n",
      " 'check' 'child' 'children' 'choices' 'choose' 'choreography' 'chose'\n",
      " 'chud' 'chuds' 'claim' 'claiming' 'classic' 'clear' 'clearly' 'clone'\n",
      " 'clones' 'close' 'come' 'comes' 'comic' 'comics' 'coming' 'comment'\n",
      " 'comments' 'community' 'company' 'compare' 'compared' 'comparison'\n",
      " 'complain' 'complaining' 'complete' 'completely' 'concept' 'concerned'\n",
      " 'conclusion' 'concord' 'consider' 'considered' 'considering' 'constantly'\n",
      " 'content' 'context' 'continue' 'control' 'controversy' 'cool' 'cost'\n",
      " 'costume' 'couldve' 'council' 'couple' 'course' 'coven' 'cover' 'create'\n",
      " 'created' 'creating' 'creators' 'creed' 'crew' 'criminal' 'critical'\n",
      " 'criticism' 'criticize' 'critics' 'crystal' 'cult' 'culture' 'curious'\n",
      " 'current' 'currently' 'damn' 'dare' 'dark' 'darth' 'data' 'date'\n",
      " 'daughter' 'day' 'days' 'dead' 'deal' 'death' 'deaths' 'decent' 'decided'\n",
      " 'decision' 'decisions' 'defend' 'definitely' 'dei' 'deserve' 'design'\n",
      " 'despite' 'destroyed' 'destroyer' 'destroyers' 'details' 'development'\n",
      " 'dialogue' 'did' 'didnt' 'die' 'dies' 'difference' 'different'\n",
      " 'direction' 'director' 'disappointed' 'discuss' 'discussion' 'dislike'\n",
      " 'disliked' 'disney' 'disneylucasfilm' 'disneys' 'does' 'doesnt' 'doing'\n",
      " 'dont' 'dooku' 'doubt' 'downfall' 'dragon' 'drama' 'drinker' 'dropped'\n",
      " 'dude' 'dumb' 'dying' 'earl' 'earlier' 'early' 'easy' 'edit' 'empire'\n",
      " 'end' 'ended' 'ends' 'english' 'enjoy' 'enjoyed' 'enter' 'entire'\n",
      " 'entirely' 'entry' 'ep' 'episode' 'episodes' 'era' 'especially' 'eu'\n",
      " 'events' 'eventually' 'everyones' 'evil' 'exactly' 'example' 'excited'\n",
      " 'exist' 'expect' 'experience' 'explain' 'explained' 'explanation'\n",
      " 'extremely' 'eye' 'face' 'facebook' 'fact' 'faction' 'fail' 'failed'\n",
      " 'failure' 'failures' 'fall' 'fallen' 'falling' 'fan' 'fanbase' 'fandom'\n",
      " 'fans' 'fantasy' 'far' 'fast' 'father' 'fault' 'favorite' 'feel'\n",
      " 'feeling' 'feels' 'fellow' 'felt' 'female' 'fett' 'fight' 'fighting'\n",
      " 'fights' 'figure' 'film' 'films' 'filoni' 'final' 'finale' 'finally'\n",
      " 'fine' 'flat' 'flawed' 'flaws' 'focus' 'follow' 'following' 'force'\n",
      " 'forced' 'form' 'forward' 'franchise' 'franchises' 'free' 'friend'\n",
      " 'friendly' 'friends' 'fuck' 'fuckin' 'fucking' 'fully' 'fun'\n",
      " 'fundraising' 'funny' 'future' 'galactic' 'galaxy' 'game' 'gamers'\n",
      " 'games' 'gaming' 'gave' 'gay' 'general' 'genuinely' 'george' 'gets'\n",
      " 'getting' 'giant' 'girl' 'girls' 'given' 'gives' 'giving' 'god' 'goes'\n",
      " 'going' 'gone' 'gonna' 'good' 'goofy' 'got' 'gotten' 'grand' 'great'\n",
      " 'grey' 'grifters' 'group' 'guess' 'guy' 'guys' 'half' 'hamill' 'han'\n",
      " 'hand' 'hands' 'happen' 'happened' 'happening' 'happens' 'happy' 'hard'\n",
      " 'hate' 'hated' 'hatred' 'havent' 'having' 'head' 'headland' 'hear'\n",
      " 'heard' 'hell' 'help' 'heres' 'hero' 'heroes' 'hes' 'high' 'higher'\n",
      " 'historical' 'history' 'hit' 'hold' 'holding' 'hollywood' 'honest'\n",
      " 'honestly' 'honor' 'hope' 'hopefully' 'hoping' 'hours' 'house' 'huge'\n",
      " 'human' 'hungarian' 'hutts' 'hyperspace' 'id' 'idea' 'ideas' 'idiots'\n",
      " 'idk' 'ignore' 'ignoring' 'ill' 'illegal' 'im' 'image' 'imagine'\n",
      " 'immediately' 'imo' 'impact' 'imperial' 'important' 'impossible'\n",
      " 'incompetent' 'incredibly' 'information' 'instead' 'interested'\n",
      " 'interesting' 'internet' 'involved' 'ironic' 'isnt' 'issue' 'issues'\n",
      " 'ive' 'james' 'jar' 'jedi' 'jedis' 'jeremy' 'job' 'jones' 'journey'\n",
      " 'just' 'justify' 'kathleen' 'kennedy' 'kenobi' 'kid' 'kids' 'kill'\n",
      " 'killed' 'killing' 'kind' 'kinda' 'knew' 'know' 'known' 'knows' 'kylo'\n",
      " 'lack' 'language' 'late' 'later' 'latest' 'law' 'lead' 'leading' 'leads'\n",
      " 'learn' 'learned' 'leave' 'lee' 'left' 'legacy' 'legends' 'leia' 'let'\n",
      " 'lets' 'life' 'light' 'lightsaber' 'lightsabers' 'like' 'liked' 'likely'\n",
      " 'line' 'lines' 'list' 'literally' 'little' 'live' 'lives' 'lol' 'long'\n",
      " 'longer' 'look' 'looked' 'looking' 'looks' 'lord' 'lore' 'lose' 'lost'\n",
      " 'lot' 'lots' 'lotteries' 'love' 'loved' 'low' 'lucas' 'lucasfilm' 'luke'\n",
      " 'lukes' 'mad' 'mae' 'maes' 'main' 'major' 'majority' 'make' 'makes'\n",
      " 'making' 'male' 'man' 'mandalorian' 'mando' 'mark' 'marvel' 'mask' 'mass'\n",
      " 'massive' 'master' 'masters' 'material' 'matter' 'maul' 'maybe' 'mean'\n",
      " 'means' 'meant' 'media' 'meme' 'men' 'menace' 'mention' 'mentioned'\n",
      " 'message' 'million' 'mind' 'minecraft' 'minutes' 'miss' 'missing'\n",
      " 'mission' 'modern' 'moment' 'moments' 'money' 'morally' 'mortis' 'mother'\n",
      " 'movie' 'movies' 'multiple' 'murder' 'music' 'mystery' 'narrative'\n",
      " 'nearly' 'necessary' 'need' 'needed' 'needs' 'negative' 'new' 'news'\n",
      " 'nice' 'nielsen' 'normal' 'note' 'novels' 'number' 'numbers' 'obiwan'\n",
      " 'obvious' 'obviously' 'official' 'oh' 'ok' 'okay' 'old' 'older' 'omaze'\n",
      " 'omazes' 'ones' 'online' 'open' 'opening' 'opinion' 'opinions' 'opposite'\n",
      " 'option' 'order' 'original' 'osha' 'ot' 'outlaws' 'overall' 'padawan'\n",
      " 'padawans' 'page' 'paid' 'palpatine' 'past' 'path' 'pc' 'peace' 'people'\n",
      " 'perfect' 'performance' 'person' 'personal' 'personally' 'perspective'\n",
      " 'phantom' 'picture' 'piece' 'pieces' 'place' 'plagueis' 'plan' 'planet'\n",
      " 'play' 'played' 'playing' 'plenty' 'plot' 'point' 'points' 'political'\n",
      " 'politics' 'poor' 'poorly' 'popular' 'portrayed' 'positive' 'possible'\n",
      " 'post' 'posted' 'potential' 'power' 'powerful' 'powers' 'prequel'\n",
      " 'prequels' 'present' 'pretty' 'previous' 'private' 'prize' 'probably'\n",
      " 'problem' 'problems' 'production' 'project' 'projects' 'promote'\n",
      " 'protagonist' 'pt' 'public' 'pull' 'purchase' 'pure' 'purpose' 'push'\n",
      " 'putting' 'qimir' 'quality' 'question' 'questions' 'quickly' 'quote'\n",
      " 'racism' 'racist' 'random' 'rant' 'read' 'reading' 'real' 'realize'\n",
      " 'really' 'reason' 'reasons' 'rebels' 'received' 'recent' 'recently' 'red'\n",
      " 'regarding' 'related' 'release' 'released' 'remember' 'removed' 'ren'\n",
      " 'republic' 'respect' 'response' 'rest' 'result' 'return' 'reveal'\n",
      " 'revealed' 'revenge' 'review' 'reviews' 'rey' 'ridiculous' 'right'\n",
      " 'rings' 'rise' 'rogue' 'role' 'room' 'ruin' 'ruined' 'rule' 'rules' 'run'\n",
      " 'running' 'runtime' 'saber' 'sad' 'saga' 'said' 'save' 'saw' 'say'\n",
      " 'saying' 'says' 'scene' 'scenes' 'school' 'screen' 'season' 'seasons'\n",
      " 'second' 'seconds' 'seeing' 'seen' 'self' 'send' 'sense' 'sensitive'\n",
      " 'sequel' 'sequels' 'series' 'seriously' 'service' 'set' 'sets' 'setting'\n",
      " 'settlement' 'sexism' 'share' 'shay' 'shes' 'ship' 'ships' 'shit' 'short'\n",
      " 'shortly' 'shouldnt' 'shouldve' 'showed' 'showing' 'shown' 'shows' 'sick'\n",
      " 'sign' 'similar' 'simple' 'simply' 'single' 'sister' 'sisters' 'sith'\n",
      " 'situation' 'skeleton' 'skywalker' 'small' 'smilo' 'social' 'sol'\n",
      " 'soldier' 'solo' 'son' 'sort' 'sounds' 'source' 'space' 'speaking'\n",
      " 'special' 'specific' 'spend' 'split' 'spoilers' 'spread' 'st' 'stand'\n",
      " 'star' 'start' 'started' 'starting' 'state' 'statement' 'step' 'stop'\n",
      " 'stories' 'stormtroopers' 'story' 'storytelling' 'straight' 'strong'\n",
      " 'stuck' 'stuff' 'stupid' 'sub' 'subreddit' 'sucks' 'supposed' 'sure'\n",
      " 'surely' 'surprise' 'sw' 'sweepstakes' 'swt' 'taken' 'takes' 'taking'\n",
      " 'talk' 'talked' 'talking' 'team' 'tell' 'telling' 'tells' 'templars'\n",
      " 'temple' 'terms' 'terrible' 'thank' 'thanks' 'thats' 'theory' 'theres'\n",
      " 'theyre' 'theyve' 'thing' 'things' 'think' 'thinking' 'thought'\n",
      " 'thoughts' 'thrawn' 'thread' 'threat' 'time' 'timeline' 'times' 'tired'\n",
      " 'title' 'tlj' 'today' 'told' 'took' 'torbin' 'total' 'totally' 'toxic'\n",
      " 'tpm' 'trailer' 'train' 'trained' 'training' 'tried' 'tries' 'trilogy'\n",
      " 'true' 'truly' 'trust' 'truth' 'try' 'trying' 'turn' 'turned' 'turning'\n",
      " 'tv' 'twin' 'twitter' 'type' 'ultimately' 'understand' 'understanding'\n",
      " 'unfortunately' 'universe' 'unless' 'use' 'used' 'using' 'vader'\n",
      " 'version' 'video' 'videos' 'view' 'viewers' 'viewership' 'views'\n",
      " 'villain' 'vision' 'visions' 'voice' 'vs' 'wait' 'want' 'wanted' 'wants'\n",
      " 'war' 'warhammer' 'wars' 'wasnt' 'watch' 'watched' 'watching' 'way'\n",
      " 'ways' 'week' 'weeks' 'weird' 'went' 'werent' 'weve' 'whats' 'white'\n",
      " 'whos' 'win' 'wise' 'wish' 'witch' 'witches' 'woke' 'woman' 'women'\n",
      " 'wonder' 'wont' 'work' 'worked' 'working' 'works' 'world' 'worse' 'worst'\n",
      " 'worth' 'wouldnt' 'wouldve' 'write' 'writers' 'writing' 'written' 'wrong'\n",
      " 'yeah' 'year' 'years' 'yes' 'yoda' 'yord' 'youd' 'young' 'youre'\n",
      " 'youtube' 'youtubers' 'youve']\n",
      "\n",
      "Document-Term Matrix (TF-IDF values):\n",
      " [[0.         0.         0.         ... 0.         0.         0.        ]\n",
      " [0.         0.         0.         ... 0.         0.         0.39193998]\n",
      " [0.         0.         0.         ... 0.         0.         0.        ]\n",
      " ...\n",
      " [0.         0.         0.         ... 0.         0.         0.        ]\n",
      " [0.         0.         0.         ... 0.         0.         0.        ]\n",
      " [0.         0.         0.         ... 0.         0.         0.        ]]\n"
     ]
    }
   ],
   "source": [
    "#1000 features instead of 5000\n",
    "feature_names = vectorizer.get_feature_names_out()\n",
    "print(\"Vocabulary:\\n\", feature_names)\n",
    "\n",
    "# 2. To view the matrix representation of the documents\n",
    "matrix = X.toarray()\n",
    "print(\"\\nDocument-Term Matrix (TF-IDF values):\\n\", matrix)"
   ]
  },
  {
   "cell_type": "code",
   "execution_count": 12,
   "id": "8fa7ac4b-da60-43ca-95c4-637f09064a4d",
   "metadata": {},
   "outputs": [
    {
     "name": "stdout",
     "output_type": "stream",
     "text": [
      "Accuracy: 0.8100\n",
      "              precision    recall  f1-score   support\n",
      "\n",
      "           0       0.78      0.88      0.83       104\n",
      "           1       0.85      0.74      0.79        96\n",
      "\n",
      "    accuracy                           0.81       200\n",
      "   macro avg       0.81      0.81      0.81       200\n",
      "weighted avg       0.81      0.81      0.81       200\n",
      "\n"
     ]
    }
   ],
   "source": [
    "from sklearn.linear_model import LogisticRegression\n",
    "from sklearn.metrics import accuracy_score, classification_report\n",
    "\n",
    "# Initialize the classifier\n",
    "clf = LogisticRegression()\n",
    "\n",
    "# Train the classifier\n",
    "clf.fit(X_train, y_train)\n",
    "\n",
    "# Make predictions\n",
    "y_pred = clf.predict(X_test)\n",
    "\n",
    "# Evaluate the model\n",
    "accuracy = accuracy_score(y_test, y_pred)\n",
    "print(f'Accuracy: {accuracy:.4f}')\n",
    "print(classification_report(y_test, y_pred))\n"
   ]
  },
  {
   "cell_type": "code",
   "execution_count": 17,
   "id": "eb5fa7d7-ab85-4386-b768-ebf09c37e687",
   "metadata": {},
   "outputs": [
    {
     "name": "stdout",
     "output_type": "stream",
     "text": [
      "[0 0 0 0 1 1 0 0 0 1 0 1 0 0 0 0 1 1 0 1 0 1 1 0 1 1 0 0 0 0 1 1 0 1 1 1 0\n",
      " 0 0 1 1 1 1 0 1 1 0 1 0 1 0 0 1 0 1 1 0 1 1 0 1 0 0 0 0 1 0 0 1 0 1 1 0 0\n",
      " 1 1 0 0 0 1 0 0 0 1 0 1 1 0 0 1 1 1 0 1 0 0 0 0 1 0 0 1 0 1 0 0 1 0 1 0 0\n",
      " 0 0 0 1 1 1 0 0 1 0 1 0 1 1 0 1 1 0 0 0 0 1 0 0 1 1 0 0 1 0 0 0 0 0 0 0 1\n",
      " 0 1 0 0 1 1 0 0 0 0 1 1 0 0 0 0 0 0 1 1 1 0 0 1 1 0 1 0 1 1 0 0 0 0 1 0 0\n",
      " 0 1 1 0 0 1 0 0 1 0 0 1 1 0 1]\n",
      "[[91 13]\n",
      " [25 71]]\n"
     ]
    }
   ],
   "source": [
    "from sklearn.metrics import confusion_matrix\n",
    "clf.fit(X_train, y_train)\n",
    "predictions = clf.predict(X_test)\n",
    "print(predictions)\n",
    "cm = confusion_matrix(y_test, y_pred)\n",
    "print(cm)\n"
   ]
  },
  {
   "cell_type": "code",
   "execution_count": 18,
   "id": "5b54a5a9-376c-4ce2-8716-0637071def25",
   "metadata": {},
   "outputs": [
    {
     "name": "stdout",
     "output_type": "stream",
     "text": [
      "Cross-validation scores: [0.77  0.785 0.755 0.785 0.895]\n",
      "Average accuracy: 0.798\n"
     ]
    }
   ],
   "source": [
    "from sklearn.model_selection import cross_val_score\n",
    "scores = cross_val_score(clf, X, y, cv=5)  # 5-fold cross-validation\n",
    "print(\"Cross-validation scores:\", scores)\n",
    "print(\"Average accuracy:\", scores.mean())\n"
   ]
  },
  {
   "cell_type": "code",
   "execution_count": 20,
   "id": "11290df5-635c-4c49-b883-fd6a27aa3546",
   "metadata": {},
   "outputs": [
    {
     "data": {
      "image/png": "[encoded data removed]",
      "text/plain": [
       "<Figure size 640x480 with 1 Axes>"
      ]
     },
     "metadata": {},
     "output_type": "display_data"
    },
    {
     "name": "stdout",
     "output_type": "stream",
     "text": [
      "AUC: 0.9033453525641026\n"
     ]
    }
   ],
   "source": [
    "from sklearn.metrics import roc_curve, roc_auc_score\n",
    "import matplotlib.pyplot as plt\n",
    "\n",
    "y_prob = clf.predict_proba(X_test)[:, 1]  # Get probabilities for the positive class\n",
    "fpr, tpr, thresholds = roc_curve(y_test, y_prob)\n",
    "\n",
    "plt.plot(fpr, tpr)\n",
    "plt.xlabel('False Positive Rate')\n",
    "plt.ylabel('True Positive Rate')\n",
    "plt.title('ROC Curve')\n",
    "plt.show()\n",
    "\n",
    "auc = roc_auc_score(y_test, y_prob)\n",
    "print(\"AUC:\", auc)\n"
   ]
  },
  {
   "cell_type": "code",
   "execution_count": null,
   "id": "19231265-5ccb-472c-8ed7-852e52624e57",
   "metadata": {},
   "outputs": [],
   "source": []
  },
  {
   "cell_type": "code",
   "execution_count": 21,
   "id": "00bb375b-f380-44df-8cfd-38b25361ae74",
   "metadata": {},
   "outputs": [
    {
     "data": {
      "image/png": "[encoded data removed]",
      "text/plain": [
       "<Figure size 640x480 with 1 Axes>"
      ]
     },
     "metadata": {},
     "output_type": "display_data"
    }
   ],
   "source": [
    "from sklearn.metrics import precision_recall_curve\n",
    "precision, recall, thresholds = precision_recall_curve(y_test, y_prob)\n",
    "\n",
    "plt.plot(recall, precision)\n",
    "plt.xlabel('Recall')\n",
    "plt.ylabel('Precision')\n",
    "plt.title('Precision-Recall Curve')\n",
    "plt.show()\n"
   ]
  },
  {
   "cell_type": "code",
   "execution_count": 23,
   "id": "8d078abf-ec56-458c-b41c-99594cf33b99",
   "metadata": {},
   "outputs": [
    {
     "name": "stdout",
     "output_type": "stream",
     "text": [
      "Log Loss: 0.4718789347414864\n"
     ]
    }
   ],
   "source": [
    "from sklearn.metrics import log_loss\n",
    "y_prob = clf.predict_proba(X_test)\n",
    "loss = log_loss(y_test, y_prob)\n",
    "print(\"Log Loss:\", loss)\n"
   ]
  },
  {
   "cell_type": "code",
   "execution_count": 24,
   "id": "69e80d15-13bd-4abf-9ed8-0764488feb5a",
   "metadata": {},
   "outputs": [
    {
     "name": "stdout",
     "output_type": "stream",
     "text": [
      "Cohen's Kappa: 0.6175523349436394\n"
     ]
    }
   ],
   "source": [
    "from sklearn.metrics import cohen_kappa_score\n",
    "kappa = cohen_kappa_score(y_test, predictions)\n",
    "print(\"Cohen's Kappa:\", kappa)\n"
   ]
  },
  {
   "cell_type": "code",
   "execution_count": 25,
   "id": "89835a4e-a836-4ae1-86cf-219270ec484f",
   "metadata": {},
   "outputs": [
    {
     "name": "stderr",
     "output_type": "stream",
     "text": [
      "/Users/jamesstevens/anaconda3/lib/python3.11/site-packages/sklearn/model_selection/_validation.py:540: FitFailedWarning: \n",
      "10 fits failed out of a total of 25.\n",
      "The score on these train-test partitions for these parameters will be set to nan.\n",
      "If these failures are not expected, you can try to debug them by setting error_score='raise'.\n",
      "\n",
      "Below are more details about the failures:\n",
      "--------------------------------------------------------------------------------\n",
      "10 fits failed with the following error:\n",
      "Traceback (most recent call last):\n",
      "  File \"/Users/jamesstevens/anaconda3/lib/python3.11/site-packages/sklearn/model_selection/_validation.py\", line 888, in _fit_and_score\n",
      "    estimator.fit(X_train, y_train, **fit_params)\n",
      "  File \"/Users/jamesstevens/anaconda3/lib/python3.11/site-packages/sklearn/base.py\", line 1473, in wrapper\n",
      "    return fit_method(estimator, *args, **kwargs)\n",
      "           ^^^^^^^^^^^^^^^^^^^^^^^^^^^^^^^^^^^^^^\n",
      "  File \"/Users/jamesstevens/anaconda3/lib/python3.11/site-packages/sklearn/linear_model/_logistic.py\", line 1301, in fit\n",
      "    raise ValueError(\n",
      "ValueError: This solver needs samples of at least 2 classes in the data, but the data contains only one class: 1\n",
      "\n",
      "  warnings.warn(some_fits_failed_message, FitFailedWarning)\n"
     ]
    },
    {
     "data": {
      "image/png": "[encoded data removed]",
      "text/plain": [
       "<Figure size 640x480 with 1 Axes>"
      ]
     },
     "metadata": {},
     "output_type": "display_data"
    }
   ],
   "source": [
    "from sklearn.model_selection import learning_curve\n",
    "train_sizes, train_scores, val_scores = learning_curve(clf, X, y, cv=5)\n",
    "\n",
    "plt.plot(train_sizes, train_scores.mean(axis=1), label='Training score')\n",
    "plt.plot(train_sizes, val_scores.mean(axis=1), label='Validation score')\n",
    "plt.xlabel('Training Set Size')\n",
    "plt.ylabel('Accuracy')\n",
    "plt.legend()\n",
    "plt.show()\n"
   ]
  },
  {
   "cell_type": "code",
   "execution_count": 27,
   "id": "660306a4-55b7-4279-85ef-78939956e821",
   "metadata": {},
   "outputs": [
    {
     "name": "stdout",
     "output_type": "stream",
     "text": [
      "Top important features:\n",
      "ot 0.7734141755492289\n",
      "honestly 0.7774052775267378\n",
      "season 0.7835494177765696\n",
      "scene 0.7907362388399726\n",
      "news 0.7910891245522828\n",
      "favorite 0.8028208349210348\n",
      "darth 0.813117100907769\n",
      "lightsabers 0.9301508913015408\n",
      "sith 0.9707178452469716\n",
      "dark 0.9932038377850393\n",
      "sol 1.013098047564277\n",
      "years 1.021705888111916\n",
      "luke 1.0352371876264745\n",
      "star 1.041949142224887\n",
      "force 1.0549885554502825\n",
      "master 1.0558970034268313\n",
      "really 1.0591518189421911\n",
      "story 1.0710329109658785\n",
      "osha 1.1283779350528271\n",
      "wars 1.1463414254554554\n",
      "power 1.2399410628082879\n",
      "episode 1.4754475524076553\n",
      "disney 2.185982920204361\n",
      "jedi 2.5458724578953267\n",
      "acolyte 3.5265074072284834\n"
     ]
    }
   ],
   "source": [
    "import numpy as np\n",
    "\n",
    "feature_importances = clf.coef_[0]  # For logistic regression\n",
    "feature_names = vectorizer.get_feature_names_out()\n",
    "\n",
    "top_n = 25  # Show top 10 features\n",
    "top_features = np.argsort(feature_importances)[-top_n:]\n",
    "\n",
    "print(\"Top important features:\")\n",
    "for i in top_features:\n",
    "    print(feature_names[i], feature_importances[i])\n"
   ]
  },
  {
   "cell_type": "code",
   "execution_count": null,
   "id": "fe6afded-eebb-4970-9da6-c9f753ffa050",
   "metadata": {},
   "outputs": [],
   "source": []
  },
  {
   "cell_type": "code",
   "execution_count": null,
   "id": "79a10297-8a1c-4b5e-b598-ad729c20a7bd",
   "metadata": {},
   "outputs": [],
   "source": []
  },
  {
   "cell_type": "code",
   "execution_count": null,
   "id": "32e9e346-cfa5-4459-b685-6f0ee52f8c63",
   "metadata": {},
   "outputs": [],
   "source": []
  },
  {
   "cell_type": "code",
   "execution_count": null,
   "id": "e31cd363-97b5-4c83-ad03-3df8b66a3e73",
   "metadata": {},
   "outputs": [],
   "source": []
  },
  {
   "cell_type": "code",
   "execution_count": null,
   "id": "3bf30bd5-5018-4211-a36e-20c554fa0867",
   "metadata": {},
   "outputs": [],
   "source": []
  }
 ],
 "metadata": {
  "kernelspec": {
   "display_name": "Python 3 (ipykernel)",
   "language": "python",
   "name": "python3"
  },
  "language_info": {
   "codemirror_mode": {
    "name": "ipython",
    "version": 3
   },
   "file_extension": ".py",
   "mimetype": "text/x-python",
   "name": "python",
   "nbconvert_exporter": "python",
   "pygments_lexer": "ipython3",
   "version": "3.11.5"
  }
 },
 "nbformat": 4,
 "nbformat_minor": 5
}
