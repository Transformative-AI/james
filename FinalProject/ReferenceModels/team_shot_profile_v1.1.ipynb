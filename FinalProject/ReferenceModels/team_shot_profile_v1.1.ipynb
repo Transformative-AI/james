{
 "cells": [
  {
   "cell_type": "markdown",
   "id": "207698c6-8b9b-435b-b6bf-5e89ca345797",
   "metadata": {},
   "source": [
    "# Team Shot Profile Classifier v1.1\n",
    "## GOAL: Given a shot taken during an NBA game, determine if the shot fits into the selected team's shot profile.\n",
    "### In this model, we will use the 2023-24 season.\n",
    "We are going to take all of the games in a season - about 1200. We need to collect the shot data of each team... this will come from two places\n",
    "\n",
    "1. play by play -- the key information here is the shot_type. eventmsgactiontype gives a shot type in the form of a number. \n",
    "there are several types of shots these can be categorized further but this may be future work \n",
    "\n",
    "2. shot chart detail -- this lets us gather details about the shots for a specific team for a specific season\n",
    "\n",
    "In order to successfully merge these two repositories, we need to gather key information first.\n",
    "\n",
    "1. We want to gather all of the team ids. 30 teams.\n",
    "   • this gives us a way to categorize the rest of the information.\n",
    "   • we can run into issues requesting so much data...\n",
    "\n",
    "2. After gathering a list of teams, we will get the shot chart data for every game in a season for each team. We can gather the unique game_ids and game events to merge with our other shot data.\n",
    "\n",
    "    • What is the necessary data for training?\n",
    "\n",
    "       1. shot distance\n",
    "\n",
    "       2. shot location? \n",
    "\n",
    "3. Using the unique games_ids, we want to get the play by play data. We can pin point the data for a specific team using the game event id.\n",
    "\n",
    "    • What is the data we need from here? Primarily interested in shot type.\n",
    "\n",
    "       There are over 30 shot types possibly 40. These can likely be split further.\n",
    "\n",
    "### to put our minds at ease about the moving parts, lets import our important libraries"
   ]
  },
  {
   "cell_type": "code",
   "execution_count": 50,
   "id": "48372cf9-260e-4052-a6de-fbe468ca42c3",
   "metadata": {},
   "outputs": [],
   "source": [
    "#import nba libraries\n",
    "from nba_api.stats.endpoints import leaguegamefinder, playbyplayv2, ShotChartDetail\n",
    "from nba_api.stats.static import teams\n",
    "\n",
    "#import other useful libraries\n",
    "import pandas as pd\n",
    "import time\n",
    "import numpy as np\n",
    "from fastai.tabular.all import *"
   ]
  },
  {
   "cell_type": "markdown",
   "id": "a68ba6b0-87fb-484a-9d70-8bb15e45ef20",
   "metadata": {},
   "source": [
    "## 1. Gather Team IDs\n",
    "Here we will request the teams dataset and extract each name, id pair."
   ]
  },
  {
   "cell_type": "code",
   "execution_count": 6,
   "id": "e1e26d55-110f-47a7-8a33-3327c9254717",
   "metadata": {},
   "outputs": [
    {
     "name": "stdout",
     "output_type": "stream",
     "text": [
      "(1610612737, 'Atlanta Hawks') (1610612766, 'Charlotte Hornets')\n"
     ]
    }
   ],
   "source": [
    "#request using teams libraries\n",
    "nba_teams = teams.get_teams()\n",
    "#extract info and add to a dictionaru\n",
    "tIDs={}\n",
    "for tm in nba_teams:\n",
    "    tIDs[tm['id']]=tm['full_name']\n",
    "\n",
    "#check the first and last items\n",
    "print(list(tIDs.items())[0], list(tIDs.items())[-1])"
   ]
  },
  {
   "cell_type": "markdown",
   "id": "fe557e64-3f5c-4f66-8165-bf0029df3ec3",
   "metadata": {},
   "source": [
    "## 2. Gather Shot Data\n",
    "#### Part 1: From Shot Chart Detail\n",
    "1. define a function for executing each request\n",
    "2. loop through all teams\n",
    "3. save to some variable (we've chosen a dictionary for now -- season_data)"
   ]
  },
  {
   "cell_type": "code",
   "execution_count": 9,
   "id": "191a5a6f-d920-47c4-8053-8b81c812a3dc",
   "metadata": {},
   "outputs": [],
   "source": [
    "def get_shot_chart_data(player_id, team_id, season_type):\n",
    "    try:\n",
    "        shotchart = ShotChartDetail(\n",
    "            player_id=player_id,\n",
    "            team_id=team_id,\n",
    "            context_measure_simple='FGA',\n",
    "            season_type_all_star=season_type,\n",
    "            season_nullable='2023-24'\n",
    "        )\n",
    "        \n",
    "        shot_data = shotchart.get_data_frames()[0]  # Data is returned as a list of dataframes\n",
    "        return shot_data\n",
    "    except Exception as e:\n",
    "        print(f\"An error occurred: {e}\")\n",
    "        return pd.DataFrame()  # Return an empty DataFrame on error"
   ]
  },
  {
   "cell_type": "code",
   "execution_count": 11,
   "id": "bb0234df-c70d-4a60-a313-6954eb60764a",
   "metadata": {
    "scrolled": true
   },
   "outputs": [],
   "source": [
    "player_id = 0  # Since we are looking for a team rather than an individual player, we can sub the id for 0.\n",
    "season_type = 'Regular Season'\n",
    "season_data={}\n",
    "for tid in tIDs:\n",
    "# Fetch and display shot chart data\n",
    "    season_data[tid]=get_shot_chart_data(player_id, tid, season_type)"
   ]
  },
  {
   "cell_type": "code",
   "execution_count": 21,
   "id": "e867381a-b8a7-4c3a-bdbe-f30aca9dbd3c",
   "metadata": {},
   "outputs": [
    {
     "name": "stdout",
     "output_type": "stream",
     "text": [
      "              GRID_TYPE     GAME_ID  GAME_EVENT_ID  PLAYER_ID  \\\n",
      "0     Shot Chart Detail  0022300009             11    1630163   \n",
      "1     Shot Chart Detail  0022300009             15    1629023   \n",
      "2     Shot Chart Detail  0022300009             19    1630163   \n",
      "3     Shot Chart Detail  0022300009             24    1641706   \n",
      "4     Shot Chart Detail  0022300009             28    1631109   \n",
      "...                 ...         ...            ...        ...   \n",
      "7128  Shot Chart Detail  0022301216            587     202330   \n",
      "7129  Shot Chart Detail  0022301216            596    1628970   \n",
      "7130  Shot Chart Detail  0022301216            598    1641706   \n",
      "7131  Shot Chart Detail  0022301216            617    1641706   \n",
      "7132  Shot Chart Detail  0022301216            621    1626179   \n",
      "\n",
      "          PLAYER_NAME     TEAM_ID          TEAM_NAME  PERIOD  \\\n",
      "0         LaMelo Ball  1610612766  Charlotte Hornets       1   \n",
      "1     P.J. Washington  1610612766  Charlotte Hornets       1   \n",
      "2         LaMelo Ball  1610612766  Charlotte Hornets       1   \n",
      "3      Brandon Miller  1610612766  Charlotte Hornets       1   \n",
      "4       Mark Williams  1610612766  Charlotte Hornets       1   \n",
      "...               ...         ...                ...     ...   \n",
      "7128   Gordon Hayward  1610612766  Charlotte Hornets       4   \n",
      "7129    Miles Bridges  1610612766  Charlotte Hornets       4   \n",
      "7130   Brandon Miller  1610612766  Charlotte Hornets       4   \n",
      "7131   Brandon Miller  1610612766  Charlotte Hornets       4   \n",
      "7132     Terry Rozier  1610612766  Charlotte Hornets       4   \n",
      "\n",
      "      MINUTES_REMAINING  SECONDS_REMAINING  ...         SHOT_ZONE_AREA  \\\n",
      "0                    11                 15  ...  Right Side Center(RC)   \n",
      "1                    10                 49  ...          Right Side(R)   \n",
      "2                    10                 15  ...  Right Side Center(RC)   \n",
      "3                     9                 45  ...   Left Side Center(LC)   \n",
      "4                     9                 16  ...              Center(C)   \n",
      "...                 ...                ...  ...                    ...   \n",
      "7128                  3                 35  ...              Center(C)   \n",
      "7129                  2                 38  ...              Center(C)   \n",
      "7130                  1                 58  ...   Left Side Center(LC)   \n",
      "7131                  0                 57  ...              Center(C)   \n",
      "7132                  0                 22  ...   Left Side Center(LC)   \n",
      "\n",
      "      SHOT_ZONE_RANGE SHOT_DISTANCE LOC_X LOC_Y SHOT_ATTEMPTED_FLAG  \\\n",
      "0             24+ ft.            27   214   172                   1   \n",
      "1             24+ ft.            22   228   -24                   1   \n",
      "2             24+ ft.            25   235    95                   1   \n",
      "3             24+ ft.            28  -120   264                   1   \n",
      "4            8-16 ft.             9   -38    85                   1   \n",
      "...               ...           ...   ...   ...                 ...   \n",
      "7128  Less Than 8 ft.             2    -2    21                   1   \n",
      "7129        16-24 ft.            23     1   231                   1   \n",
      "7130          24+ ft.            26  -158   218                   1   \n",
      "7131  Less Than 8 ft.             7   -13    75                   1   \n",
      "7132        16-24 ft.            22  -146   167                   1   \n",
      "\n",
      "      SHOT_MADE_FLAG  GAME_DATE  HTM  VTM  \n",
      "0                  0   20231110  WAS  CHA  \n",
      "1                  0   20231110  WAS  CHA  \n",
      "2                  0   20231110  WAS  CHA  \n",
      "3                  0   20231110  WAS  CHA  \n",
      "4                  0   20231110  WAS  CHA  \n",
      "...              ...        ...  ...  ...  \n",
      "7128               1   20231208  CHA  TOR  \n",
      "7129               1   20231208  CHA  TOR  \n",
      "7130               1   20231208  CHA  TOR  \n",
      "7131               0   20231208  CHA  TOR  \n",
      "7132               1   20231208  CHA  TOR  \n",
      "\n",
      "[7133 rows x 24 columns]\n"
     ]
    }
   ],
   "source": [
    "# Display some shot data to verify success\n",
    "print(season_data[tid])"
   ]
  },
  {
   "cell_type": "code",
   "execution_count": 17,
   "id": "0504db7e-3ca6-4f88-aad1-03de28889723",
   "metadata": {},
   "outputs": [
    {
     "name": "stdout",
     "output_type": "stream",
     "text": [
      "First: 1610612737 Last: 1610612766 Length: 30\n"
     ]
    }
   ],
   "source": [
    "print('First:', list(season_data.keys())[0],'Last:',list(season_data.keys())[-1],'Length:',len(season_data.keys()))"
   ]
  },
  {
   "cell_type": "markdown",
   "id": "899183ce-ced4-4111-8439-9e517341c84b",
   "metadata": {},
   "source": [
    "These last two print statements are verifying that our data is populated as expected."
   ]
  },
  {
   "cell_type": "markdown",
   "id": "c008e406-de0d-4eec-9764-26b7fdbfb9d7",
   "metadata": {},
   "source": [
    "#### Part 2. From Play by Play\n",
    "1. Here we are going to create a set of all *game ids* in the 2023-2024 NBA season. This will help us retrieve the play by play events from each game for each team.\n",
    "   • Given 30 teams and 82 and 2 teams participating in each game, we should get 30 * 82 / 2 = **1230**.\n",
    "2. Iterate through all games and request play by play data.\n",
    "   • We will filter for shot attempts only"
   ]
  },
  {
   "cell_type": "code",
   "execution_count": null,
   "id": "cf9efbbc-ec9a-4c52-a6e2-f57eb8e16cb1",
   "metadata": {},
   "outputs": [],
   "source": []
  },
  {
   "cell_type": "code",
   "execution_count": 18,
   "id": "1d20e1bd-7a9c-4e10-8200-4434d54fbac6",
   "metadata": {},
   "outputs": [
    {
     "name": "stdout",
     "output_type": "stream",
     "text": [
      "1230\n"
     ]
    }
   ],
   "source": [
    "gameSet=set()\n",
    "for tm in season_data:\n",
    "    check=season_data[tm]['GAME_ID'].unique()\n",
    "    gameSet.update(check)\n",
    "print(len(gameSet))"
   ]
  },
  {
   "cell_type": "markdown",
   "id": "eb225345-6456-4dfb-9b37-b0ecc5565048",
   "metadata": {},
   "source": [
    "adsflhk"
   ]
  },
  {
   "cell_type": "code",
   "execution_count": 19,
   "id": "cb66901e-b568-4a54-96e5-b8b02395c61f",
   "metadata": {},
   "outputs": [],
   "source": [
    "def get_play_by_play_data(gameSet):\n",
    "    all_play_by_play_data = []\n",
    "    dloadProg=0\n",
    "    for game_id in gameSet:\n",
    "        dloadProg+=1\n",
    "        if dloadProg%20 == 0:\n",
    "            print(str(round(dloadProg/1230*100, 2))+'% COMPLETE')\n",
    "        try:\n",
    "            pbp = playbyplayv2.PlayByPlayV2(game_id=game_id)\n",
    "            pbp_df = pbp.get_data_frames()[0]\n",
    "            pbp_df['GAME_ID'] = game_id\n",
    "            all_play_by_play_data.append(pbp_df)\n",
    "            time.sleep(1)  # To avoid hitting rate limits\n",
    "        except Exception as e:\n",
    "            print(f\"Error fetching data for game {game_id}: {e}\")\n",
    "    \n",
    "    combined_df = pd.concat(all_play_by_play_data, ignore_index=True)\n",
    "    return combined_df"
   ]
  },
  {
   "cell_type": "code",
   "execution_count": 20,
   "id": "4d538259-ecdf-4adc-be39-67c65ef80d4d",
   "metadata": {},
   "outputs": [
    {
     "name": "stdout",
     "output_type": "stream",
     "text": [
      "1.63% COMPLETE\n",
      "3.25% COMPLETE\n",
      "4.88% COMPLETE\n",
      "6.5% COMPLETE\n",
      "8.13% COMPLETE\n",
      "9.76% COMPLETE\n",
      "11.38% COMPLETE\n",
      "13.01% COMPLETE\n",
      "14.63% COMPLETE\n",
      "16.26% COMPLETE\n",
      "17.89% COMPLETE\n",
      "19.51% COMPLETE\n",
      "21.14% COMPLETE\n",
      "22.76% COMPLETE\n",
      "24.39% COMPLETE\n",
      "26.02% COMPLETE\n",
      "27.64% COMPLETE\n",
      "29.27% COMPLETE\n",
      "30.89% COMPLETE\n",
      "32.52% COMPLETE\n",
      "34.15% COMPLETE\n",
      "35.77% COMPLETE\n",
      "37.4% COMPLETE\n",
      "39.02% COMPLETE\n",
      "40.65% COMPLETE\n",
      "42.28% COMPLETE\n",
      "43.9% COMPLETE\n",
      "45.53% COMPLETE\n",
      "47.15% COMPLETE\n",
      "48.78% COMPLETE\n",
      "50.41% COMPLETE\n",
      "52.03% COMPLETE\n",
      "53.66% COMPLETE\n",
      "55.28% COMPLETE\n",
      "56.91% COMPLETE\n",
      "58.54% COMPLETE\n",
      "60.16% COMPLETE\n",
      "61.79% COMPLETE\n",
      "63.41% COMPLETE\n",
      "65.04% COMPLETE\n",
      "66.67% COMPLETE\n",
      "68.29% COMPLETE\n",
      "69.92% COMPLETE\n",
      "71.54% COMPLETE\n",
      "73.17% COMPLETE\n",
      "74.8% COMPLETE\n",
      "76.42% COMPLETE\n",
      "78.05% COMPLETE\n",
      "79.67% COMPLETE\n",
      "81.3% COMPLETE\n",
      "82.93% COMPLETE\n",
      "84.55% COMPLETE\n",
      "86.18% COMPLETE\n",
      "87.8% COMPLETE\n",
      "89.43% COMPLETE\n",
      "91.06% COMPLETE\n",
      "92.68% COMPLETE\n",
      "94.31% COMPLETE\n",
      "95.93% COMPLETE\n",
      "97.56% COMPLETE\n",
      "99.19% COMPLETE\n"
     ]
    }
   ],
   "source": [
    "pbp_all = get_play_by_play_data(gameSet)"
   ]
  },
  {
   "cell_type": "markdown",
   "id": "a7142c62-f917-488e-8da6-c9bc4858e78a",
   "metadata": {},
   "source": [
    "Let's find out some details about our new dataframe."
   ]
  },
  {
   "cell_type": "code",
   "execution_count": 24,
   "id": "ed64c6b5-4c9f-4916-9959-7ddeb4a68c25",
   "metadata": {},
   "outputs": [
    {
     "data": {
      "text/plain": [
       "567672"
      ]
     },
     "execution_count": 24,
     "metadata": {},
     "output_type": "execute_result"
    }
   ],
   "source": [
    "len(pbp_all) #number of data points"
   ]
  },
  {
   "cell_type": "code",
   "execution_count": 25,
   "id": "9c8877c8-6418-4aa7-ac4f-c48a4b227959",
   "metadata": {},
   "outputs": [
    {
     "data": {
      "text/plain": [
       "1230"
      ]
     },
     "execution_count": 25,
     "metadata": {},
     "output_type": "execute_result"
    }
   ],
   "source": [
    "len(pbp_all['GAME_ID'].unique()) #number of unique games. this should be 1230 or close to it. The console would have printed an error message for every missed game when loading the data."
   ]
  },
  {
   "cell_type": "code",
   "execution_count": 26,
   "id": "f0fcd975-197e-47a4-917b-80f390f435dd",
   "metadata": {},
   "outputs": [
    {
     "data": {
      "text/plain": [
       "GAME_ID                                             0022300166\n",
       "EVENTNUM                                                     2\n",
       "EVENTMSGTYPE                                                12\n",
       "EVENTMSGACTIONTYPE                                           0\n",
       "PERIOD                                                       1\n",
       "WCTIMESTRING                                           8:11 PM\n",
       "PCTIMESTRING                                             12:00\n",
       "HOMEDESCRIPTION                                           None\n",
       "NEUTRALDESCRIPTION           Start of 1st Period (8:11 PM EST)\n",
       "VISITORDESCRIPTION                                        None\n",
       "SCORE                                                     None\n",
       "SCOREMARGIN                                               None\n",
       "PERSON1TYPE                                                  0\n",
       "PLAYER1_ID                                                   0\n",
       "PLAYER1_NAME                                              None\n",
       "PLAYER1_TEAM_ID                                            NaN\n",
       "PLAYER1_TEAM_CITY                                         None\n",
       "PLAYER1_TEAM_NICKNAME                                     None\n",
       "PLAYER1_TEAM_ABBREVIATION                                 None\n",
       "PERSON2TYPE                                                  0\n",
       "PLAYER2_ID                                                   0\n",
       "PLAYER2_NAME                                              None\n",
       "PLAYER2_TEAM_ID                                            NaN\n",
       "PLAYER2_TEAM_CITY                                         None\n",
       "PLAYER2_TEAM_NICKNAME                                     None\n",
       "PLAYER2_TEAM_ABBREVIATION                                 None\n",
       "PERSON3TYPE                                                  0\n",
       "PLAYER3_ID                                                   0\n",
       "PLAYER3_NAME                                              None\n",
       "PLAYER3_TEAM_ID                                            NaN\n",
       "PLAYER3_TEAM_CITY                                         None\n",
       "PLAYER3_TEAM_NICKNAME                                     None\n",
       "PLAYER3_TEAM_ABBREVIATION                                 None\n",
       "VIDEO_AVAILABLE_FLAG                                         0\n",
       "Name: 0, dtype: object"
      ]
     },
     "execution_count": 26,
     "metadata": {},
     "output_type": "execute_result"
    }
   ],
   "source": [
    "#pick a random game to test . . . the first entry of every game should be a tip off\n",
    "pbp_all.iloc[0]"
   ]
  },
  {
   "cell_type": "code",
   "execution_count": 28,
   "id": "d1bf7156-fa81-47ed-b635-6bb819811fd7",
   "metadata": {},
   "outputs": [],
   "source": [
    "#filter for shot attempts using the mappeed eventmsg types (make, miss)\n",
    "pbp_shots = pbp_all[pbp_all['EVENTMSGTYPE'].isin([1, 2])]"
   ]
  },
  {
   "cell_type": "code",
   "execution_count": 29,
   "id": "dd587364-2db5-4429-8964-59ee134eb2fd",
   "metadata": {
    "scrolled": true
   },
   "outputs": [
    {
     "data": {
      "text/plain": [
       "218705"
      ]
     },
     "execution_count": 29,
     "metadata": {},
     "output_type": "execute_result"
    }
   ],
   "source": [
    "len(pbp_shots)"
   ]
  },
  {
   "cell_type": "markdown",
   "id": "bacb67ee-8b7a-4521-a64f-24e5d3aeefd9",
   "metadata": {},
   "source": [
    "Here we notice that about 30 - 40% of game events are shot attempts.\n",
    "Now let's verify the data."
   ]
  },
  {
   "cell_type": "code",
   "execution_count": 30,
   "id": "29ffda31-954c-40f8-adea-957f5686277d",
   "metadata": {},
   "outputs": [
    {
     "data": {
      "text/plain": [
       "GAME_ID                                            0022300166\n",
       "EVENTNUM                                                    7\n",
       "EVENTMSGTYPE                                                2\n",
       "EVENTMSGACTIONTYPE                                         79\n",
       "PERIOD                                                      1\n",
       "WCTIMESTRING                                          8:11 PM\n",
       "PCTIMESTRING                                            11:43\n",
       "HOMEDESCRIPTION                                          None\n",
       "NEUTRALDESCRIPTION                                       None\n",
       "VISITORDESCRIPTION           MISS Ingram 13' Pullup Jump Shot\n",
       "SCORE                                                    None\n",
       "SCOREMARGIN                                              None\n",
       "PERSON1TYPE                                                 5\n",
       "PLAYER1_ID                                            1627742\n",
       "PLAYER1_NAME                                   Brandon Ingram\n",
       "PLAYER1_TEAM_ID                                  1610612740.0\n",
       "PLAYER1_TEAM_CITY                                 New Orleans\n",
       "PLAYER1_TEAM_NICKNAME                                Pelicans\n",
       "PLAYER1_TEAM_ABBREVIATION                                 NOP\n",
       "PERSON2TYPE                                                 0\n",
       "PLAYER2_ID                                                  0\n",
       "PLAYER2_NAME                                             None\n",
       "PLAYER2_TEAM_ID                                           NaN\n",
       "PLAYER2_TEAM_CITY                                        None\n",
       "PLAYER2_TEAM_NICKNAME                                    None\n",
       "PLAYER2_TEAM_ABBREVIATION                                None\n",
       "PERSON3TYPE                                                 0\n",
       "PLAYER3_ID                                                  0\n",
       "PLAYER3_NAME                                             None\n",
       "PLAYER3_TEAM_ID                                           NaN\n",
       "PLAYER3_TEAM_CITY                                        None\n",
       "PLAYER3_TEAM_NICKNAME                                    None\n",
       "PLAYER3_TEAM_ABBREVIATION                                None\n",
       "VIDEO_AVAILABLE_FLAG                                        1\n",
       "Name: 2, dtype: object"
      ]
     },
     "execution_count": 30,
     "metadata": {},
     "output_type": "execute_result"
    }
   ],
   "source": [
    "pbp_shots.iloc[0]"
   ]
  },
  {
   "cell_type": "markdown",
   "id": "bce4e587-65ef-4f92-a37c-7ac2a332bcbe",
   "metadata": {},
   "source": [
    "Now that we have all of our data. We need to merge what we want and omit\n",
    "what we dont need. we have a dictionary of season data for each team. the contents\n",
    "of each key is a df. we can merge the individual dfs i think. lets try"
   ]
  },
  {
   "cell_type": "markdown",
   "id": "c5553e05-dc99-4f52-8b16-57563c9b21bb",
   "metadata": {},
   "source": [
    "## 3. Merge Shot Data\n",
    "\n",
    "1. Identify columns needed to train our model (shot distance, shot type (eventmsgaction), shot made, period, and *others in the future i.e. court region*).\n",
    "2. And the basis by which we are merging (*game_ids* and *eventnum/game_event_id*).\n",
    "3. Verify"
   ]
  },
  {
   "cell_type": "code",
   "execution_count": 31,
   "id": "2025781c-e8a7-4a51-93cb-4b45be43d4a4",
   "metadata": {},
   "outputs": [],
   "source": [
    "pbpShotFILT=pbp_shots[['GAME_ID','EVENTNUM','EVENTMSGACTIONTYPE','PERIOD']]\n",
    "seasonFILT={}"
   ]
  },
  {
   "cell_type": "code",
   "execution_count": 32,
   "id": "4b0faa3e-7a53-4446-92e5-03febe3a42fa",
   "metadata": {},
   "outputs": [],
   "source": [
    "for tm in season_data:\n",
    "    tmFILT=season_data[tm][['GAME_ID','GAME_EVENT_ID','SHOT_DISTANCE','SHOT_MADE_FLAG']]\n",
    "    mf=pd.merge(tmFILT, pbpShotFILT, \n",
    "                     left_on=['GAME_ID', 'GAME_EVENT_ID'],  # Columns from df1: pbpShotFILT\n",
    "                     right_on=['GAME_ID', 'EVENTNUM'])\n",
    "    seasonFILT[tm]=mf.drop(columns='GAME_EVENT_ID')"
   ]
  },
  {
   "cell_type": "code",
   "execution_count": 36,
   "id": "d0101635-918e-4d19-a843-2b822527dbee",
   "metadata": {},
   "outputs": [
    {
     "name": "stdout",
     "output_type": "stream",
     "text": [
      "         GAME_ID  SHOT_DISTANCE  SHOT_MADE_FLAG  EVENTNUM  EVENTMSGACTIONTYPE  \\\n",
      "0     0022300018              6               1        12                  78   \n",
      "1     0022300018             26               1        16                   1   \n",
      "2     0022300018             15               1        25                  79   \n",
      "3     0022300018              3               1        28                   5   \n",
      "4     0022300018              2               1        32                   5   \n",
      "...          ...            ...             ...       ...                 ...   \n",
      "7579  0022301218             27               0       662                   1   \n",
      "7580  0022301218              9               0       665                  97   \n",
      "7581  0022301218              4               1       667                   1   \n",
      "7582  0022301218             29               1       676                  79   \n",
      "7583  0022301218             28               0       683                  79   \n",
      "\n",
      "      PERIOD  \n",
      "0          1  \n",
      "1          1  \n",
      "2          1  \n",
      "3          1  \n",
      "4          1  \n",
      "...      ...  \n",
      "7579       4  \n",
      "7580       4  \n",
      "7581       4  \n",
      "7582       4  \n",
      "7583       4  \n",
      "\n",
      "[7584 rows x 6 columns]\n"
     ]
    }
   ],
   "source": [
    "print(seasonFILT[list(seasonFILT.keys())[0]])"
   ]
  },
  {
   "cell_type": "code",
   "execution_count": 38,
   "id": "e348ed03-ad6f-4f1a-a65a-9463eb470d83",
   "metadata": {},
   "outputs": [],
   "source": [
    "# I could add a win/loss ratio to this to help rank instead of just categorize. \n",
    "    #there is also more positional data i could incorporate..."
   ]
  },
  {
   "cell_type": "markdown",
   "id": "4cf56dc6-e1bd-444f-ae8b-1c3d15dde823",
   "metadata": {},
   "source": [
    "seasonFILT now has every shot from the season separated by each team. At this point we may be able to train our model"
   ]
  },
  {
   "cell_type": "code",
   "execution_count": null,
   "id": "4ca207d8-5fed-4fcd-aa83-2805c8012c60",
   "metadata": {},
   "outputs": [],
   "source": []
  },
  {
   "cell_type": "markdown",
   "id": "52a82ba9-e791-4b6c-81c6-39b5113c7a06",
   "metadata": {},
   "source": [
    "At first I was considering giving a stat line or some ratio/expected value of shot selections. Instead I will elect to classify which team has the shot profile that most accurately aligns with the input/tested/selected shot/parameters (in a specific matchup?)."
   ]
  },
  {
   "cell_type": "code",
   "execution_count": null,
   "id": "685865ca-2c4e-4ff5-bfd9-de43d25b15d6",
   "metadata": {},
   "outputs": [],
   "source": []
  },
  {
   "cell_type": "code",
   "execution_count": null,
   "id": "e51c8ee1-0252-46d9-ab46-a63e74577dd0",
   "metadata": {},
   "outputs": [],
   "source": []
  },
  {
   "cell_type": "code",
   "execution_count": null,
   "id": "ef3fec71-91e6-44f7-b0c6-4215bec4a5a6",
   "metadata": {},
   "outputs": [],
   "source": []
  },
  {
   "cell_type": "code",
   "execution_count": 37,
   "id": "e19704c7-d27a-4dd9-9ad2-ea4513e8d041",
   "metadata": {
    "scrolled": true
   },
   "outputs": [
    {
     "name": "stdout",
     "output_type": "stream",
     "text": [
      "           GAME_ID  SHOT_DISTANCE  SHOT_MADE_FLAG  EVENTNUM  \\\n",
      "0       0022300018              6               1        12   \n",
      "1       0022300018             26               1        16   \n",
      "2       0022300018             15               1        25   \n",
      "3       0022300018              3               1        28   \n",
      "4       0022300018              2               1        32   \n",
      "...            ...            ...             ...       ...   \n",
      "218698  0022301216              2               1       587   \n",
      "218699  0022301216             23               1       596   \n",
      "218700  0022301216             26               1       598   \n",
      "218701  0022301216              7               0       617   \n",
      "218702  0022301216             22               1       621   \n",
      "\n",
      "        EVENTMSGACTIONTYPE  PERIOD     TEAM_ID  \n",
      "0                       78       1  1610612737  \n",
      "1                        1       1  1610612737  \n",
      "2                       79       1  1610612737  \n",
      "3                        5       1  1610612737  \n",
      "4                        5       1  1610612737  \n",
      "...                    ...     ...         ...  \n",
      "218698                   6       4  1610612766  \n",
      "218699                  79       4  1610612766  \n",
      "218700                   1       4  1610612766  \n",
      "218701                 101       4  1610612766  \n",
      "218702                  80       4  1610612766  \n",
      "\n",
      "[218703 rows x 7 columns]\n"
     ]
    }
   ],
   "source": [
    "dfs = []\n",
    "\n",
    "# Iterate through the dictionary and add a new column with the dictionary keys\n",
    "for key, df in seasonFILT.items():\n",
    "    df['TEAM_ID'] = key  # Add the key as a new column\n",
    "    dfs.append(df)      # Add the DataFrame to the list\n",
    "\n",
    "# Concatenate all DataFrames in the list into a single DataFrame\n",
    "sznFILTdf = pd.concat(dfs, ignore_index=True)\n",
    "\n",
    "# Display the resulting DataFrame\n",
    "print(sznFILTdf)"
   ]
  },
  {
   "cell_type": "markdown",
   "id": "64a67993-ff2f-41da-87c7-49aa6d5fb03c",
   "metadata": {},
   "source": [
    "## Part 4. Developing a Target + Feature Engineering"
   ]
  },
  {
   "cell_type": "code",
   "execution_count": 40,
   "id": "5967e428-5673-4cc1-a05f-d1d0dda02549",
   "metadata": {
    "scrolled": true
   },
   "outputs": [
    {
     "name": "stdout",
     "output_type": "stream",
     "text": [
      "Team: 1610612737\n",
      "     SHOT_DISTANCE  EVENTMSGACTIONTYPE  MEAN_SHOT_SUCCESS_RATE  COUNT\n",
      "0                0                   3                0.500000      2\n",
      "1                0                   5                0.800000     20\n",
      "2                0                   6                0.603774     53\n",
      "3                0                   7                0.923077     26\n",
      "4                0                   9                0.950000     20\n",
      "..             ...                 ...                     ...    ...\n",
      "471             55                  78                0.000000      1\n",
      "472             55                  79                0.000000      1\n",
      "473             57                  78                0.000000      1\n",
      "474             62                  79                0.000000      2\n",
      "475             72                   1                0.000000      1\n",
      "\n",
      "[476 rows x 4 columns]\n",
      "Team: 1610612738\n",
      "     SHOT_DISTANCE  EVENTMSGACTIONTYPE  MEAN_SHOT_SUCCESS_RATE  COUNT\n",
      "0                0                   3                1.000000      1\n",
      "1                0                   5                0.909091     11\n",
      "2                0                   6                0.769231     39\n",
      "3                0                   7                1.000000      5\n",
      "4                0                   9                0.945946     37\n",
      "..             ...                 ...                     ...    ...\n",
      "466             60                   1                0.000000      1\n",
      "467             66                   1                0.000000      1\n",
      "468             70                   1                0.000000      1\n",
      "469             71                   1                0.000000      1\n",
      "470             76                   1                0.000000      1\n",
      "\n",
      "[471 rows x 4 columns]\n",
      "Team: 1610612739\n",
      "     SHOT_DISTANCE  EVENTMSGACTIONTYPE  MEAN_SHOT_SUCCESS_RATE  COUNT\n",
      "0                0                   3                0.750000      4\n",
      "1                0                   5                0.791667     24\n",
      "2                0                   6                0.652174    115\n",
      "3                0                   7                1.000000     18\n",
      "4                0                   9                0.833333     18\n",
      "..             ...                 ...                     ...    ...\n",
      "460             55                  79                0.000000      1\n",
      "461             58                  79                1.000000      1\n",
      "462             62                   1                0.000000      1\n",
      "463             64                  79                0.000000      1\n",
      "464             76                   1                0.000000      1\n",
      "\n",
      "[465 rows x 4 columns]\n",
      "Team: 1610612740\n",
      "     SHOT_DISTANCE  EVENTMSGACTIONTYPE  MEAN_SHOT_SUCCESS_RATE  COUNT\n",
      "0                0                   3                1.000000      1\n",
      "1                0                   5                0.833333      6\n",
      "2                0                   6                0.820513     39\n",
      "3                0                   7                1.000000     20\n",
      "4                0                   9                0.967742     31\n",
      "..             ...                 ...                     ...    ...\n",
      "477             61                  66                1.000000      1\n",
      "478             64                  79                0.000000      1\n",
      "479             67                  79                0.000000      1\n",
      "480             69                  78                0.000000      1\n",
      "481             71                  66                0.000000      1\n",
      "\n",
      "[482 rows x 4 columns]\n",
      "Team: 1610612741\n",
      "     SHOT_DISTANCE  EVENTMSGACTIONTYPE  MEAN_SHOT_SUCCESS_RATE  COUNT\n",
      "0                0                   3                1.000000      1\n",
      "1                0                   5                0.695652     23\n",
      "2                0                   6                0.790698     86\n",
      "3                0                   7                0.869565     23\n",
      "4                0                   9                0.800000     35\n",
      "..             ...                 ...                     ...    ...\n",
      "432             48                  79                0.000000      1\n",
      "433             57                   1                0.000000      1\n",
      "434             64                   1                0.000000      2\n",
      "435             72                   1                0.000000      1\n",
      "436             76                   1                0.000000      1\n",
      "\n",
      "[437 rows x 4 columns]\n",
      "Team: 1610612742\n",
      "     SHOT_DISTANCE  EVENTMSGACTIONTYPE  MEAN_SHOT_SUCCESS_RATE  COUNT\n",
      "0                0                   3                1.000000      1\n",
      "1                0                   5                0.750000     12\n",
      "2                0                   6                0.837209     43\n",
      "3                0                   7                0.941176     17\n",
      "4                0                   9                0.933333     30\n",
      "..             ...                 ...                     ...    ...\n",
      "503             57                   1                0.000000      1\n",
      "504             64                   1                0.000000      1\n",
      "505             65                   1                0.000000      1\n",
      "506             70                  79                0.000000      1\n",
      "507             72                   1                0.000000      1\n",
      "\n",
      "[508 rows x 4 columns]\n",
      "Team: 1610612743\n",
      "     SHOT_DISTANCE  EVENTMSGACTIONTYPE  MEAN_SHOT_SUCCESS_RATE  COUNT\n",
      "0                0                   1                1.000000      1\n",
      "1                0                   3                0.000000      1\n",
      "2                0                   5                0.840000     25\n",
      "3                0                   6                0.536585     41\n",
      "4                0                   7                0.941176     17\n",
      "..             ...                 ...                     ...    ...\n",
      "524             68                   1                0.000000      1\n",
      "525             74                 103                0.000000      1\n",
      "526             75                   1                0.000000      1\n",
      "527             77                   1                0.000000      1\n",
      "528             79                   1                0.000000      1\n",
      "\n",
      "[529 rows x 4 columns]\n",
      "Team: 1610612744\n",
      "     SHOT_DISTANCE  EVENTMSGACTIONTYPE  MEAN_SHOT_SUCCESS_RATE  COUNT\n",
      "0                0                   5                0.833333     18\n",
      "1                0                   6                0.821429     28\n",
      "2                0                   7                1.000000      9\n",
      "3                0                   9                1.000000     12\n",
      "4                0                  41                0.714286     14\n",
      "..             ...                 ...                     ...    ...\n",
      "481             54                  79                0.000000      2\n",
      "482             56                   1                0.000000      1\n",
      "483             57                   1                0.000000      2\n",
      "484             60                  79                0.000000      1\n",
      "485             81                   1                0.000000      1\n",
      "\n",
      "[486 rows x 4 columns]\n",
      "Team: 1610612745\n",
      "     SHOT_DISTANCE  EVENTMSGACTIONTYPE  MEAN_SHOT_SUCCESS_RATE  COUNT\n",
      "0                0                   3                0.000000      2\n",
      "1                0                   5                0.875000      8\n",
      "2                0                   6                0.566667     30\n",
      "3                0                   7                0.875000      8\n",
      "4                0                   9                0.941176     17\n",
      "..             ...                 ...                     ...    ...\n",
      "483             67                  79                0.000000      1\n",
      "484             68                   1                0.000000      1\n",
      "485             73                   1                0.000000      1\n",
      "486             77                   1                0.000000      2\n",
      "487             79                   1                0.000000      1\n",
      "\n",
      "[488 rows x 4 columns]\n",
      "Team: 1610612746\n",
      "     SHOT_DISTANCE  EVENTMSGACTIONTYPE  MEAN_SHOT_SUCCESS_RATE  COUNT\n",
      "0                0                   3                0.000000      1\n",
      "1                0                   5                0.800000      5\n",
      "2                0                   6                0.714286     28\n",
      "3                0                   7                1.000000     19\n",
      "4                0                   9                0.888889     18\n",
      "..             ...                 ...                     ...    ...\n",
      "467             52                   1                0.000000      1\n",
      "468             55                  79                0.000000      1\n",
      "469             61                  66                0.000000      1\n",
      "470             63                 101                0.000000      1\n",
      "471             64                  79                0.000000      1\n",
      "\n",
      "[472 rows x 4 columns]\n",
      "Team: 1610612747\n",
      "     SHOT_DISTANCE  EVENTMSGACTIONTYPE  MEAN_SHOT_SUCCESS_RATE  COUNT\n",
      "0                0                   5                0.818182     11\n",
      "1                0                   6                0.821429     28\n",
      "2                0                   7                1.000000     14\n",
      "3                0                   9                0.904762     21\n",
      "4                0                  41                0.842105     19\n",
      "..             ...                 ...                     ...    ...\n",
      "479             56                  79                0.000000      1\n",
      "480             58                   1                0.000000      1\n",
      "481             62                   1                0.000000      1\n",
      "482             67                   1                0.000000      2\n",
      "483             68                   1                0.000000      1\n",
      "\n",
      "[484 rows x 4 columns]\n",
      "Team: 1610612748\n",
      "     SHOT_DISTANCE  EVENTMSGACTIONTYPE  MEAN_SHOT_SUCCESS_RATE  COUNT\n",
      "0                0                   3                0.000000      1\n",
      "1                0                   5                0.923077     13\n",
      "2                0                   6                0.714286     21\n",
      "3                0                   7                1.000000      6\n",
      "4                0                   9                0.857143     14\n",
      "..             ...                 ...                     ...    ...\n",
      "499             53                   1                0.000000      1\n",
      "500             53                  79                0.000000      1\n",
      "501             54                   1                0.000000      1\n",
      "502             63                  79                0.000000      1\n",
      "503             73                  79                0.000000      1\n",
      "\n",
      "[504 rows x 4 columns]\n",
      "Team: 1610612749\n",
      "     SHOT_DISTANCE  EVENTMSGACTIONTYPE  MEAN_SHOT_SUCCESS_RATE  COUNT\n",
      "0                0                   5                0.846154     13\n",
      "1                0                   6                0.791667     48\n",
      "2                0                   7                1.000000     12\n",
      "3                0                   9                0.954545     22\n",
      "4                0                  41                0.965517     29\n",
      "..             ...                 ...                     ...    ...\n",
      "466             49                  79                0.000000      1\n",
      "467             50                   1                0.000000      1\n",
      "468             58                   1                0.000000      1\n",
      "469             59                  79                0.000000      1\n",
      "470             63                   1                0.000000      1\n",
      "\n",
      "[471 rows x 4 columns]\n",
      "Team: 1610612750\n",
      "     SHOT_DISTANCE  EVENTMSGACTIONTYPE  MEAN_SHOT_SUCCESS_RATE  COUNT\n",
      "0                0                   5                0.600000     10\n",
      "1                0                   6                0.777778     63\n",
      "2                0                   7                0.947368     19\n",
      "3                0                   9                0.960000     25\n",
      "4                0                  41                0.818182     22\n",
      "..             ...                 ...                     ...    ...\n",
      "488             58                  79                0.000000      1\n",
      "489             60                   1                0.000000      1\n",
      "490             62                  79                0.000000      1\n",
      "491             65                   1                0.000000      1\n",
      "492             81                   1                0.000000      1\n",
      "\n",
      "[493 rows x 4 columns]\n",
      "Team: 1610612751\n",
      "     SHOT_DISTANCE  EVENTMSGACTIONTYPE  MEAN_SHOT_SUCCESS_RATE  COUNT\n",
      "0                0                   3                  1.0000      2\n",
      "1                0                   5                  0.8750      8\n",
      "2                0                   6                  0.8000     50\n",
      "3                0                   7                  1.0000     18\n",
      "4                0                   9                  0.9375     16\n",
      "..             ...                 ...                     ...    ...\n",
      "442             60                   1                  0.0000      2\n",
      "443             62                  79                  1.0000      1\n",
      "444             64                   1                  0.0000      1\n",
      "445             65                   1                  0.0000      1\n",
      "446             67                   1                  0.0000      1\n",
      "\n",
      "[447 rows x 4 columns]\n",
      "Team: 1610612752\n",
      "     SHOT_DISTANCE  EVENTMSGACTIONTYPE  MEAN_SHOT_SUCCESS_RATE  COUNT\n",
      "0                0                   3                0.500000      2\n",
      "1                0                   5                0.823529     17\n",
      "2                0                   6                0.651163     86\n",
      "3                0                   7                0.962963     27\n",
      "4                0                   9                0.793103     29\n",
      "..             ...                 ...                     ...    ...\n",
      "448             48                  79                0.000000      1\n",
      "449             50                   1                0.000000      1\n",
      "450             63                   1                0.000000      1\n",
      "451             67                  79                0.000000      1\n",
      "452             78                   1                0.000000      1\n",
      "\n",
      "[453 rows x 4 columns]\n",
      "Team: 1610612753\n",
      "     SHOT_DISTANCE  EVENTMSGACTIONTYPE  MEAN_SHOT_SUCCESS_RATE  COUNT\n",
      "0                0                   5                0.666667      9\n",
      "1                0                   6                0.790698     43\n",
      "2                0                   7                1.000000     11\n",
      "3                0                   9                0.952381     21\n",
      "4                0                  41                0.708333     24\n",
      "..             ...                 ...                     ...    ...\n",
      "463             58                   1                0.000000      1\n",
      "464             62                   1                0.000000      1\n",
      "465             67                   1                0.000000      1\n",
      "466             69                   1                0.000000      1\n",
      "467             71                  79                0.000000      1\n",
      "\n",
      "[468 rows x 4 columns]\n",
      "Team: 1610612754\n",
      "     SHOT_DISTANCE  EVENTMSGACTIONTYPE  MEAN_SHOT_SUCCESS_RATE  COUNT\n",
      "0                0                   2                1.000000      1\n",
      "1                0                   5                0.722222     18\n",
      "2                0                   6                0.613636     44\n",
      "3                0                   7                0.937500     16\n",
      "4                0                   9                0.950000     20\n",
      "..             ...                 ...                     ...    ...\n",
      "490             53                  79                0.000000      1\n",
      "491             56                  78                0.000000      1\n",
      "492             67                   1                0.000000      1\n",
      "493             68                   1                0.000000      1\n",
      "494             69                   1                0.000000      1\n",
      "\n",
      "[495 rows x 4 columns]\n",
      "Team: 1610612755\n",
      "     SHOT_DISTANCE  EVENTMSGACTIONTYPE  MEAN_SHOT_SUCCESS_RATE  COUNT\n",
      "0                0                   3                1.000000      1\n",
      "1                0                   5                0.625000     16\n",
      "2                0                   6                0.660377     53\n",
      "3                0                   7                1.000000     18\n",
      "4                0                   9                0.909091     22\n",
      "..             ...                 ...                     ...    ...\n",
      "457             48                   2                0.000000      1\n",
      "458             49                   1                0.000000      1\n",
      "459             53                  79                0.000000      1\n",
      "460             56                   1                0.000000      1\n",
      "461             60                  79                0.000000      1\n",
      "\n",
      "[462 rows x 4 columns]\n",
      "Team: 1610612756\n",
      "     SHOT_DISTANCE  EVENTMSGACTIONTYPE  MEAN_SHOT_SUCCESS_RATE  COUNT\n",
      "0                0                   3                0.200000      5\n",
      "1                0                   5                0.631579     19\n",
      "2                0                   6                0.684932     73\n",
      "3                0                   7                0.937500     16\n",
      "4                0                   9                0.875000     16\n",
      "..             ...                 ...                     ...    ...\n",
      "443             35                  79                0.000000      2\n",
      "444             41                   1                0.000000      2\n",
      "445             43                   1                0.000000      1\n",
      "446             47                  79                0.000000      1\n",
      "447             60                  78                0.000000      1\n",
      "\n",
      "[448 rows x 4 columns]\n",
      "Team: 1610612757\n",
      "     SHOT_DISTANCE  EVENTMSGACTIONTYPE  MEAN_SHOT_SUCCESS_RATE  COUNT\n",
      "0                0                   3                0.000000      2\n",
      "1                0                   5                0.625000      8\n",
      "2                0                   6                0.763636     55\n",
      "3                0                   7                0.888889      9\n",
      "4                0                   9                0.818182     22\n",
      "..             ...                 ...                     ...    ...\n",
      "478             68                  78                0.000000      1\n",
      "479             69                  79                0.000000      1\n",
      "480             70                   1                0.000000      1\n",
      "481             71                   1                0.000000      1\n",
      "482             73                   1                0.000000      1\n",
      "\n",
      "[483 rows x 4 columns]\n",
      "Team: 1610612758\n",
      "     SHOT_DISTANCE  EVENTMSGACTIONTYPE  MEAN_SHOT_SUCCESS_RATE  COUNT\n",
      "0                0                   1                0.000000      1\n",
      "1                0                   5                0.750000     16\n",
      "2                0                   6                0.695652     46\n",
      "3                0                   7                0.900000     10\n",
      "4                0                   9                0.909091     11\n",
      "..             ...                 ...                     ...    ...\n",
      "480             52                   1                0.000000      1\n",
      "481             54                   1                0.000000      1\n",
      "482             60                   1                0.000000      1\n",
      "483             65                   1                0.000000      1\n",
      "484             84                   1                0.000000      1\n",
      "\n",
      "[485 rows x 4 columns]\n",
      "Team: 1610612759\n",
      "     SHOT_DISTANCE  EVENTMSGACTIONTYPE  MEAN_SHOT_SUCCESS_RATE  COUNT\n",
      "0                0                   3                1.000000      1\n",
      "1                0                   5                0.666667     12\n",
      "2                0                   6                0.725490     51\n",
      "3                0                   7                1.000000     24\n",
      "4                0                   9                1.000000     30\n",
      "..             ...                 ...                     ...    ...\n",
      "483             58                   1                0.000000      1\n",
      "484             63                  78                0.000000      1\n",
      "485             65                   1                0.000000      1\n",
      "486             66                   1                0.000000      1\n",
      "487             72                   1                0.000000      1\n",
      "\n",
      "[488 rows x 4 columns]\n",
      "Team: 1610612760\n",
      "     SHOT_DISTANCE  EVENTMSGACTIONTYPE  MEAN_SHOT_SUCCESS_RATE  COUNT\n",
      "0                0                   1                0.000000      1\n",
      "1                0                   3                1.000000      1\n",
      "2                0                   5                0.666667     12\n",
      "3                0                   6                0.733333     60\n",
      "4                0                   7                1.000000     15\n",
      "..             ...                 ...                     ...    ...\n",
      "447             43                  79                0.000000      1\n",
      "448             45                  79                0.000000      1\n",
      "449             49                  79                0.000000      1\n",
      "450             53                  79                0.000000      1\n",
      "451             58                  79                0.000000      1\n",
      "\n",
      "[452 rows x 4 columns]\n",
      "Team: 1610612761\n",
      "     SHOT_DISTANCE  EVENTMSGACTIONTYPE  MEAN_SHOT_SUCCESS_RATE  COUNT\n",
      "0                0                   3                1.000000      1\n",
      "1                0                   5                0.692308     39\n",
      "2                0                   6                0.785714     42\n",
      "3                0                   7                0.769231     13\n",
      "4                0                   9                0.925926     27\n",
      "..             ...                 ...                     ...    ...\n",
      "468             52                   1                0.000000      1\n",
      "469             52                  79                0.000000      1\n",
      "470             53                   1                0.000000      1\n",
      "471             56                   1                0.000000      1\n",
      "472             68                   1                0.000000      1\n",
      "\n",
      "[473 rows x 4 columns]\n",
      "Team: 1610612762\n",
      "     SHOT_DISTANCE  EVENTMSGACTIONTYPE  MEAN_SHOT_SUCCESS_RATE  COUNT\n",
      "0                0                   3                1.000000      2\n",
      "1                0                   5                0.833333      6\n",
      "2                0                   6                0.520000     25\n",
      "3                0                   7                0.933333     15\n",
      "4                0                   9                1.000000     13\n",
      "..             ...                 ...                     ...    ...\n",
      "438             60                  79                0.000000      1\n",
      "439             61                   1                0.000000      1\n",
      "440             69                   1                0.000000      1\n",
      "441             72                   1                0.000000      1\n",
      "442             78                   1                0.000000      1\n",
      "\n",
      "[443 rows x 4 columns]\n",
      "Team: 1610612763\n",
      "     SHOT_DISTANCE  EVENTMSGACTIONTYPE  MEAN_SHOT_SUCCESS_RATE  COUNT\n",
      "0                0                   3                1.000000      3\n",
      "1                0                   5                0.545455     22\n",
      "2                0                   6                0.761905     63\n",
      "3                0                   7                1.000000     12\n",
      "4                0                   9                0.833333     24\n",
      "..             ...                 ...                     ...    ...\n",
      "468             59                   1                0.000000      1\n",
      "469             60                   1                0.000000      1\n",
      "470             65                   1                0.000000      1\n",
      "471             65                  79                0.000000      1\n",
      "472             75                   1                0.000000      1\n",
      "\n",
      "[473 rows x 4 columns]\n",
      "Team: 1610612764\n",
      "     SHOT_DISTANCE  EVENTMSGACTIONTYPE  MEAN_SHOT_SUCCESS_RATE  COUNT\n",
      "0                0                   5                0.666667      9\n",
      "1                0                   6                0.815789     38\n",
      "2                0                   7                1.000000      8\n",
      "3                0                   9                0.950000     20\n",
      "4                0                  41                0.911765     34\n",
      "..             ...                 ...                     ...    ...\n",
      "489             54                  79                0.000000      1\n",
      "490             55                  79                0.000000      1\n",
      "491             63                   1                0.000000      1\n",
      "492             63                   2                0.000000      1\n",
      "493             67                   1                0.000000      1\n",
      "\n",
      "[494 rows x 4 columns]\n",
      "Team: 1610612765\n",
      "     SHOT_DISTANCE  EVENTMSGACTIONTYPE  MEAN_SHOT_SUCCESS_RATE  COUNT\n",
      "0                0                   3                0.500000      2\n",
      "1                0                   5                0.772727     22\n",
      "2                0                   6                0.787879     33\n",
      "3                0                   7                0.952381     21\n",
      "4                0                   9                0.846154     13\n",
      "..             ...                 ...                     ...    ...\n",
      "465             64                  79                0.000000      1\n",
      "466             65                   1                0.000000      1\n",
      "467             72                   1                0.000000      1\n",
      "468             80                   1                0.000000      1\n",
      "469             84                   1                0.000000      1\n",
      "\n",
      "[470 rows x 4 columns]\n",
      "Team: 1610612766\n",
      "     SHOT_DISTANCE  EVENTMSGACTIONTYPE  MEAN_SHOT_SUCCESS_RATE  COUNT\n",
      "0                0                   1                0.000000      1\n",
      "1                0                   3                0.000000      1\n",
      "2                0                   5                0.800000     20\n",
      "3                0                   6                0.595745     47\n",
      "4                0                   7                0.909091     11\n",
      "..             ...                 ...                     ...    ...\n",
      "466             59                  79                0.000000      2\n",
      "467             60                  79                0.000000      1\n",
      "468             63                   1                0.000000      1\n",
      "469             76                   1                0.000000      1\n",
      "470             79                   1                0.000000      1\n",
      "\n",
      "[471 rows x 4 columns]\n"
     ]
    }
   ],
   "source": [
    "# Step 1: Create a team shot profile based on shot distance and shot type\n",
    "team_profiles = {}\n",
    "\n",
    "# Group data by team_id\n",
    "for team_id, df in sznFILTdf.groupby('TEAM_ID'):\n",
    "    # Get shot distance and shot type stats per team\n",
    "    shot_stats = df.groupby(['SHOT_DISTANCE', 'EVENTMSGACTIONTYPE']).agg({\n",
    "        'SHOT_MADE_FLAG': ['mean', 'count']  # Mean shot success rate and count of attempts\n",
    "    }).reset_index()\n",
    "    \n",
    "    # Rename columns for clarity\n",
    "    shot_stats.columns = ['SHOT_DISTANCE', 'EVENTMSGACTIONTYPE', 'MEAN_SHOT_SUCCESS_RATE', 'COUNT']\n",
    "    \n",
    "    # Store the profile in the dictionary\n",
    "    team_profiles[team_id] = shot_stats\n",
    "\n",
    "# Example to show the output\n",
    "for team_id, profile in team_profiles.items():\n",
    "    print(f\"Team: {team_id}\")\n",
    "    print(profile)  # Displaying only the first few rows for brevity\n"
   ]
  },
  {
   "cell_type": "code",
   "execution_count": 89,
   "id": "5ef91883-f9c3-4752-bc1b-25b6a7c3fd94",
   "metadata": {
    "scrolled": true
   },
   "outputs": [
    {
     "name": "stdout",
     "output_type": "stream",
     "text": [
      "           GAME_ID  SHOT_DISTANCE  SHOT_MADE_FLAG  EVENTNUM  \\\n",
      "0       0022300018              6               1        12   \n",
      "1       0022300018             26               1        16   \n",
      "2       0022300018             15               1        25   \n",
      "3       0022300018              3               1        28   \n",
      "4       0022300018              2               1        32   \n",
      "...            ...            ...             ...       ...   \n",
      "218698  0022301216              2               1       587   \n",
      "218699  0022301216             23               1       596   \n",
      "218700  0022301216             26               1       598   \n",
      "218701  0022301216              7               0       617   \n",
      "218702  0022301216             22               1       621   \n",
      "\n",
      "        EVENTMSGACTIONTYPE  PERIOD     TEAM_ID  FITS_PROFILE  \n",
      "0                       78       1  1610612737             1  \n",
      "1                        1       1  1610612737             0  \n",
      "2                       79       1  1610612737             1  \n",
      "3                        5       1  1610612737             0  \n",
      "4                        5       1  1610612737             0  \n",
      "...                    ...     ...         ...           ...  \n",
      "218698                   6       4  1610612766             1  \n",
      "218699                  79       4  1610612766             0  \n",
      "218700                   1       4  1610612766             0  \n",
      "218701                 101       4  1610612766             0  \n",
      "218702                  80       4  1610612766             1  \n",
      "\n",
      "[218703 rows x 8 columns]\n"
     ]
    }
   ],
   "source": [
    "# Step 2: Define a function to compare a shot to a team's profile (including shot type)\n",
    "def does_shot_fit_profile(shot, team_id, team_profiles):\n",
    "    shot_distance = shot['SHOT_DISTANCE']\n",
    "    shot_type = shot['EVENTMSGACTIONTYPE']\n",
    "    \n",
    "    # Get the team's profile for shot distance and type\n",
    "    team_profile = team_profiles.get(team_id)\n",
    "    \n",
    "    if team_profile is not None:\n",
    "        # Match both shot distance and shot type\n",
    "        closest_match = team_profile[\n",
    "            (team_profile['SHOT_DISTANCE'] == shot_distance) & \n",
    "            (team_profile['EVENTMSGACTIONTYPE'] == shot_type)\n",
    "        ]\n",
    "        \n",
    "        if not closest_match.empty:\n",
    "            # Define the rule for fitting the profile (e.g., success rate > 50%)\n",
    "            if closest_match['MEAN_SHOT_SUCCESS_RATE'].values[0] > 0.42:  # Example rule\n",
    "                return 1  # Shot fits the profile\n",
    "            else:\n",
    "                return 0  # Shot does not fit\n",
    "    return 0  # Default: Does not fit\n",
    "\n",
    "# Step 3: Apply the function to generate the target column 'FITS_PROFILE'\n",
    "def generate_profile_labels(df, team_profiles):\n",
    "    df['FITS_PROFILE'] = df.apply(lambda row: does_shot_fit_profile(row, row['TEAM_ID'], team_profiles), axis=1)\n",
    "    return df\n",
    "\n",
    "# Apply to the whole dataset (sznFILTdf)\n",
    "# Group data by team_id\n",
    "team_profiles = {}\n",
    "\n",
    "for team_id, df in sznFILTdf.groupby('TEAM_ID'):\n",
    "    # Get shot distance and shot type stats per team\n",
    "    shot_stats = df.groupby(['SHOT_DISTANCE', 'EVENTMSGACTIONTYPE']).agg({\n",
    "        'SHOT_MADE_FLAG': ['mean', 'count']  # Mean shot success rate and count of attempts\n",
    "    }).reset_index()\n",
    "    \n",
    "    # Rename columns for clarity\n",
    "    shot_stats.columns = ['SHOT_DISTANCE', 'EVENTMSGACTIONTYPE', 'MEAN_SHOT_SUCCESS_RATE', 'COUNT']\n",
    "    \n",
    "    # Store the profile in the dictionary\n",
    "    team_profiles[team_id] = shot_stats\n",
    "\n",
    "# Apply to the whole dataset (sznFILTdf)\n",
    "sznFILTdf = generate_profile_labels(sznFILTdf, team_profiles)\n",
    "\n",
    "# Check the results\n",
    "print(sznFILTdf)\n"
   ]
  },
  {
   "cell_type": "code",
   "execution_count": 90,
   "id": "dc1d7802-7d4d-4596-9939-4cefdb6d4611",
   "metadata": {},
   "outputs": [
    {
     "name": "stdout",
     "output_type": "stream",
     "text": [
      "FITS_PROFILE\n",
      "0    112461\n",
      "1    106242\n",
      "Name: count, dtype: int64 0.48578208803720113\n"
     ]
    }
   ],
   "source": [
    "# Check the number of instances where shots fit the profile\n",
    "fit_counts = sznFILTdf['FITS_PROFILE'].value_counts()\n",
    "\n",
    "# Print the counts and ratio\n",
    "print(fit_counts, fit_counts[1]/(fit_counts[0]+fit_counts[1]))"
   ]
  },
  {
   "cell_type": "markdown",
   "id": "f938c956-5e37-4aff-9f97-1bebd5a517a7",
   "metadata": {},
   "source": [
    "shots that fit a teams shot profile are those that have high rates of makes. These shots stand out above the rest and theoretically should be valued even more highly when considering strategy."
   ]
  },
  {
   "cell_type": "code",
   "execution_count": 95,
   "id": "64777006-dcf6-4ab3-8e8f-d951176fbaf1",
   "metadata": {},
   "outputs": [],
   "source": [
    "sznFILTdf.to_csv('nbaShotsFiltered2324.csv',index=False)"
   ]
  },
  {
   "cell_type": "code",
   "execution_count": null,
   "id": "c1dc8505-2191-4a11-8d59-7cf913086d47",
   "metadata": {},
   "outputs": [],
   "source": []
  },
  {
   "cell_type": "code",
   "execution_count": 93,
   "id": "bae326fd-6d72-459b-b7c4-99c8b6050eb3",
   "metadata": {},
   "outputs": [],
   "source": [
    "cont_names = ['SHOT_DISTANCE']  # Continuous variables\n",
    "cat_names = ['EVENTMSGACTIONTYPE', 'PERIOD','TEAM_ID']  # Categorical variables including team_id\n",
    "y_names = 'FITS_PROFILE'  # Target variable\n",
    "\n",
    "\n",
    "# Create DataLoaders\n",
    "dataloaders = TabularDataLoaders.from_df(sznFILTdf, \n",
    "                                         path='.', \n",
    "                                         procs=[Categorify,FillMissing], \n",
    "                                         cat_names=cat_names, \n",
    "                                         cont_names=cont_names, \n",
    "                                         y_names=y_names,\n",
    "                                         valid_pct=0.2,\n",
    "                                         test_pct=.1,\n",
    "                                         bs=128)  # Adjust batch size as needed\n"
   ]
  },
  {
   "cell_type": "code",
   "execution_count": 94,
   "id": "d79d1f9f-8276-45c3-9d10-0b7484e18e36",
   "metadata": {},
   "outputs": [
    {
     "data": {
      "text/html": [
       "\n",
       "<style>\n",
       "    /* Turns off some styling */\n",
       "    progress {\n",
       "        /* gets rid of default border in Firefox and Opera. */\n",
       "        border: none;\n",
       "        /* Needs to be in here for Safari polyfill so background images work as expected. */\n",
       "        background-size: auto;\n",
       "    }\n",
       "    progress:not([value]), progress:not([value])::-webkit-progress-bar {\n",
       "        background: repeating-linear-gradient(45deg, #7e7e7e, #7e7e7e 10px, #5c5c5c 10px, #5c5c5c 20px);\n",
       "    }\n",
       "    .progress-bar-interrupted, .progress-bar-interrupted::-webkit-progress-bar {\n",
       "        background: #F44336;\n",
       "    }\n",
       "</style>\n"
      ],
      "text/plain": [
       "<IPython.core.display.HTML object>"
      ]
     },
     "metadata": {},
     "output_type": "display_data"
    },
    {
     "data": {
      "text/html": [
       "<table border=\"1\" class=\"dataframe\">\n",
       "  <thead>\n",
       "    <tr style=\"text-align: left;\">\n",
       "      <th>epoch</th>\n",
       "      <th>train_loss</th>\n",
       "      <th>valid_loss</th>\n",
       "      <th>accuracy</th>\n",
       "      <th>time</th>\n",
       "    </tr>\n",
       "  </thead>\n",
       "  <tbody>\n",
       "    <tr>\n",
       "      <td>0</td>\n",
       "      <td>0.123172</td>\n",
       "      <td>0.118963</td>\n",
       "      <td>0.514152</td>\n",
       "      <td>00:13</td>\n",
       "    </tr>\n",
       "    <tr>\n",
       "      <td>1</td>\n",
       "      <td>0.116747</td>\n",
       "      <td>0.115860</td>\n",
       "      <td>0.514152</td>\n",
       "      <td>00:13</td>\n",
       "    </tr>\n",
       "    <tr>\n",
       "      <td>2</td>\n",
       "      <td>0.110367</td>\n",
       "      <td>0.106754</td>\n",
       "      <td>0.514152</td>\n",
       "      <td>00:13</td>\n",
       "    </tr>\n",
       "    <tr>\n",
       "      <td>3</td>\n",
       "      <td>0.102153</td>\n",
       "      <td>0.100407</td>\n",
       "      <td>0.514152</td>\n",
       "      <td>00:13</td>\n",
       "    </tr>\n",
       "    <tr>\n",
       "      <td>4</td>\n",
       "      <td>0.100728</td>\n",
       "      <td>0.112152</td>\n",
       "      <td>0.514152</td>\n",
       "      <td>00:13</td>\n",
       "    </tr>\n",
       "  </tbody>\n",
       "</table>"
      ],
      "text/plain": [
       "<IPython.core.display.HTML object>"
      ]
     },
     "metadata": {},
     "output_type": "display_data"
    }
   ],
   "source": [
    "# Create a TabularLearner\n",
    "learn = tabular_learner(dataloaders,\n",
    "                        metrics=accuracy)  # You can use different metrics as needed\n",
    "\n",
    "# Train the model\n",
    "learn.fit_one_cycle(5)  # Number of epochs\n"
   ]
  },
  {
   "cell_type": "code",
   "execution_count": 53,
   "id": "091bcc50-d984-4ad7-aa02-e71a06e1d756",
   "metadata": {
    "scrolled": true
   },
   "outputs": [
    {
     "data": {
      "text/html": [
       "\n",
       "<style>\n",
       "    /* Turns off some styling */\n",
       "    progress {\n",
       "        /* gets rid of default border in Firefox and Opera. */\n",
       "        border: none;\n",
       "        /* Needs to be in here for Safari polyfill so background images work as expected. */\n",
       "        background-size: auto;\n",
       "    }\n",
       "    progress:not([value]), progress:not([value])::-webkit-progress-bar {\n",
       "        background: repeating-linear-gradient(45deg, #7e7e7e, #7e7e7e 10px, #5c5c5c 10px, #5c5c5c 20px);\n",
       "    }\n",
       "    .progress-bar-interrupted, .progress-bar-interrupted::-webkit-progress-bar {\n",
       "        background: #F44336;\n",
       "    }\n",
       "</style>\n"
      ],
      "text/plain": [
       "<IPython.core.display.HTML object>"
      ]
     },
     "metadata": {},
     "output_type": "display_data"
    },
    {
     "data": {
      "text/html": [],
      "text/plain": [
       "<IPython.core.display.HTML object>"
      ]
     },
     "metadata": {},
     "output_type": "display_data"
    },
    {
     "data": {
      "text/html": [
       "<table border=\"1\" class=\"dataframe\">\n",
       "  <thead>\n",
       "    <tr style=\"text-align: right;\">\n",
       "      <th></th>\n",
       "      <th>EVENTMSGACTIONTYPE</th>\n",
       "      <th>PERIOD</th>\n",
       "      <th>TEAM_ID</th>\n",
       "      <th>SHOT_DISTANCE</th>\n",
       "      <th>FITS_PROFILE</th>\n",
       "      <th>FITS_PROFILE_pred</th>\n",
       "    </tr>\n",
       "  </thead>\n",
       "  <tbody>\n",
       "    <tr>\n",
       "      <th>0</th>\n",
       "      <td>35.0</td>\n",
       "      <td>4.0</td>\n",
       "      <td>15.0</td>\n",
       "      <td>0.0</td>\n",
       "      <td>1.0</td>\n",
       "      <td>0.943578</td>\n",
       "    </tr>\n",
       "    <tr>\n",
       "      <th>1</th>\n",
       "      <td>16.0</td>\n",
       "      <td>2.0</td>\n",
       "      <td>15.0</td>\n",
       "      <td>4.0</td>\n",
       "      <td>1.0</td>\n",
       "      <td>0.247982</td>\n",
       "    </tr>\n",
       "    <tr>\n",
       "      <th>2</th>\n",
       "      <td>27.0</td>\n",
       "      <td>3.0</td>\n",
       "      <td>6.0</td>\n",
       "      <td>12.0</td>\n",
       "      <td>0.0</td>\n",
       "      <td>0.445141</td>\n",
       "    </tr>\n",
       "    <tr>\n",
       "      <th>3</th>\n",
       "      <td>27.0</td>\n",
       "      <td>1.0</td>\n",
       "      <td>20.0</td>\n",
       "      <td>10.0</td>\n",
       "      <td>1.0</td>\n",
       "      <td>0.675533</td>\n",
       "    </tr>\n",
       "    <tr>\n",
       "      <th>4</th>\n",
       "      <td>27.0</td>\n",
       "      <td>4.0</td>\n",
       "      <td>13.0</td>\n",
       "      <td>13.0</td>\n",
       "      <td>0.0</td>\n",
       "      <td>0.278604</td>\n",
       "    </tr>\n",
       "    <tr>\n",
       "      <th>5</th>\n",
       "      <td>1.0</td>\n",
       "      <td>4.0</td>\n",
       "      <td>29.0</td>\n",
       "      <td>26.0</td>\n",
       "      <td>0.0</td>\n",
       "      <td>-0.013689</td>\n",
       "    </tr>\n",
       "    <tr>\n",
       "      <th>6</th>\n",
       "      <td>28.0</td>\n",
       "      <td>4.0</td>\n",
       "      <td>3.0</td>\n",
       "      <td>25.0</td>\n",
       "      <td>0.0</td>\n",
       "      <td>0.051666</td>\n",
       "    </tr>\n",
       "    <tr>\n",
       "      <th>7</th>\n",
       "      <td>27.0</td>\n",
       "      <td>1.0</td>\n",
       "      <td>22.0</td>\n",
       "      <td>29.0</td>\n",
       "      <td>0.0</td>\n",
       "      <td>0.019143</td>\n",
       "    </tr>\n",
       "    <tr>\n",
       "      <th>8</th>\n",
       "      <td>36.0</td>\n",
       "      <td>2.0</td>\n",
       "      <td>21.0</td>\n",
       "      <td>1.0</td>\n",
       "      <td>1.0</td>\n",
       "      <td>0.950865</td>\n",
       "    </tr>\n",
       "  </tbody>\n",
       "</table>"
      ],
      "text/plain": [
       "<IPython.core.display.HTML object>"
      ]
     },
     "metadata": {},
     "output_type": "display_data"
    },
    {
     "data": {
      "text/html": [
       "\n",
       "<style>\n",
       "    /* Turns off some styling */\n",
       "    progress {\n",
       "        /* gets rid of default border in Firefox and Opera. */\n",
       "        border: none;\n",
       "        /* Needs to be in here for Safari polyfill so background images work as expected. */\n",
       "        background-size: auto;\n",
       "    }\n",
       "    progress:not([value]), progress:not([value])::-webkit-progress-bar {\n",
       "        background: repeating-linear-gradient(45deg, #7e7e7e, #7e7e7e 10px, #5c5c5c 10px, #5c5c5c 20px);\n",
       "    }\n",
       "    .progress-bar-interrupted, .progress-bar-interrupted::-webkit-progress-bar {\n",
       "        background: #F44336;\n",
       "    }\n",
       "</style>\n"
      ],
      "text/plain": [
       "<IPython.core.display.HTML object>"
      ]
     },
     "metadata": {},
     "output_type": "display_data"
    },
    {
     "data": {
      "text/html": [],
      "text/plain": [
       "<IPython.core.display.HTML object>"
      ]
     },
     "metadata": {},
     "output_type": "display_data"
    },
    {
     "ename": "AttributeError",
     "evalue": "vocab",
     "output_type": "error",
     "traceback": [
      "\u001b[0;31m---------------------------------------------------------------------------\u001b[0m",
      "\u001b[0;31mAttributeError\u001b[0m                            Traceback (most recent call last)",
      "Cell \u001b[0;32mIn[53], line 5\u001b[0m\n\u001b[1;32m      2\u001b[0m learn\u001b[38;5;241m.\u001b[39mshow_results()\n\u001b[1;32m      4\u001b[0m \u001b[38;5;66;03m# Plot confusion matrix\u001b[39;00m\n\u001b[0;32m----> 5\u001b[0m interp \u001b[38;5;241m=\u001b[39m ClassificationInterpretation\u001b[38;5;241m.\u001b[39mfrom_learner(learn)\n\u001b[1;32m      6\u001b[0m interp\u001b[38;5;241m.\u001b[39mplot_confusion_matrix()\n",
      "File \u001b[0;32m~/anaconda3/lib/python3.11/site-packages/fastai/interpret.py:56\u001b[0m, in \u001b[0;36mInterpretation.from_learner\u001b[0;34m(cls, learn, ds_idx, dl, act)\u001b[0m\n\u001b[1;32m     53\u001b[0m \u001b[38;5;28;01mif\u001b[39;00m dl \u001b[38;5;129;01mis\u001b[39;00m \u001b[38;5;28;01mNone\u001b[39;00m: dl \u001b[38;5;241m=\u001b[39m learn\u001b[38;5;241m.\u001b[39mdls[ds_idx]\u001b[38;5;241m.\u001b[39mnew(shuffle\u001b[38;5;241m=\u001b[39m\u001b[38;5;28;01mFalse\u001b[39;00m, drop_last\u001b[38;5;241m=\u001b[39m\u001b[38;5;28;01mFalse\u001b[39;00m)\n\u001b[1;32m     54\u001b[0m _,_,losses \u001b[38;5;241m=\u001b[39m learn\u001b[38;5;241m.\u001b[39mget_preds(dl\u001b[38;5;241m=\u001b[39mdl, with_input\u001b[38;5;241m=\u001b[39m\u001b[38;5;28;01mFalse\u001b[39;00m, with_loss\u001b[38;5;241m=\u001b[39m\u001b[38;5;28;01mTrue\u001b[39;00m, with_decoded\u001b[38;5;241m=\u001b[39m\u001b[38;5;28;01mFalse\u001b[39;00m,\n\u001b[1;32m     55\u001b[0m                              with_preds\u001b[38;5;241m=\u001b[39m\u001b[38;5;28;01mFalse\u001b[39;00m, with_targs\u001b[38;5;241m=\u001b[39m\u001b[38;5;28;01mFalse\u001b[39;00m, act\u001b[38;5;241m=\u001b[39mact)\n\u001b[0;32m---> 56\u001b[0m \u001b[38;5;28;01mreturn\u001b[39;00m \u001b[38;5;28mcls\u001b[39m(learn, dl, losses, act)\n",
      "File \u001b[0;32m~/anaconda3/lib/python3.11/site-packages/fastai/interpret.py:110\u001b[0m, in \u001b[0;36mClassificationInterpretation.__init__\u001b[0;34m(self, learn, dl, losses, act)\u001b[0m\n\u001b[1;32m    103\u001b[0m \u001b[38;5;28;01mdef\u001b[39;00m \u001b[38;5;21m__init__\u001b[39m(\u001b[38;5;28mself\u001b[39m, \n\u001b[1;32m    104\u001b[0m     learn:Learner, \n\u001b[1;32m    105\u001b[0m     dl:DataLoader, \u001b[38;5;66;03m# `DataLoader` to run inference over\u001b[39;00m\n\u001b[1;32m    106\u001b[0m     losses:TensorBase, \u001b[38;5;66;03m# Losses calculated from `dl`\u001b[39;00m\n\u001b[1;32m    107\u001b[0m     act\u001b[38;5;241m=\u001b[39m\u001b[38;5;28;01mNone\u001b[39;00m \u001b[38;5;66;03m# Activation function for prediction\u001b[39;00m\n\u001b[1;32m    108\u001b[0m ):\n\u001b[1;32m    109\u001b[0m     \u001b[38;5;28msuper\u001b[39m()\u001b[38;5;241m.\u001b[39m\u001b[38;5;21m__init__\u001b[39m(learn, dl, losses, act)\n\u001b[0;32m--> 110\u001b[0m     \u001b[38;5;28mself\u001b[39m\u001b[38;5;241m.\u001b[39mvocab \u001b[38;5;241m=\u001b[39m \u001b[38;5;28mself\u001b[39m\u001b[38;5;241m.\u001b[39mdl\u001b[38;5;241m.\u001b[39mvocab\n\u001b[1;32m    111\u001b[0m     \u001b[38;5;28;01mif\u001b[39;00m is_listy(\u001b[38;5;28mself\u001b[39m\u001b[38;5;241m.\u001b[39mvocab): \u001b[38;5;28mself\u001b[39m\u001b[38;5;241m.\u001b[39mvocab \u001b[38;5;241m=\u001b[39m \u001b[38;5;28mself\u001b[39m\u001b[38;5;241m.\u001b[39mvocab[\u001b[38;5;241m-\u001b[39m\u001b[38;5;241m1\u001b[39m]\n",
      "File \u001b[0;32m~/anaconda3/lib/python3.11/site-packages/fastcore/basics.py:527\u001b[0m, in \u001b[0;36mGetAttr.__getattr__\u001b[0;34m(self, k)\u001b[0m\n\u001b[1;32m    525\u001b[0m \u001b[38;5;28;01mif\u001b[39;00m \u001b[38;5;28mself\u001b[39m\u001b[38;5;241m.\u001b[39m_component_attr_filter(k):\n\u001b[1;32m    526\u001b[0m     attr \u001b[38;5;241m=\u001b[39m \u001b[38;5;28mgetattr\u001b[39m(\u001b[38;5;28mself\u001b[39m,\u001b[38;5;28mself\u001b[39m\u001b[38;5;241m.\u001b[39m_default,\u001b[38;5;28;01mNone\u001b[39;00m)\n\u001b[0;32m--> 527\u001b[0m     \u001b[38;5;28;01mif\u001b[39;00m attr \u001b[38;5;129;01mis\u001b[39;00m \u001b[38;5;129;01mnot\u001b[39;00m \u001b[38;5;28;01mNone\u001b[39;00m: \u001b[38;5;28;01mreturn\u001b[39;00m \u001b[38;5;28mgetattr\u001b[39m(attr,k)\n\u001b[1;32m    528\u001b[0m \u001b[38;5;28;01mraise\u001b[39;00m \u001b[38;5;167;01mAttributeError\u001b[39;00m(k)\n",
      "File \u001b[0;32m~/anaconda3/lib/python3.11/site-packages/fastcore/basics.py:527\u001b[0m, in \u001b[0;36mGetAttr.__getattr__\u001b[0;34m(self, k)\u001b[0m\n\u001b[1;32m    525\u001b[0m \u001b[38;5;28;01mif\u001b[39;00m \u001b[38;5;28mself\u001b[39m\u001b[38;5;241m.\u001b[39m_component_attr_filter(k):\n\u001b[1;32m    526\u001b[0m     attr \u001b[38;5;241m=\u001b[39m \u001b[38;5;28mgetattr\u001b[39m(\u001b[38;5;28mself\u001b[39m,\u001b[38;5;28mself\u001b[39m\u001b[38;5;241m.\u001b[39m_default,\u001b[38;5;28;01mNone\u001b[39;00m)\n\u001b[0;32m--> 527\u001b[0m     \u001b[38;5;28;01mif\u001b[39;00m attr \u001b[38;5;129;01mis\u001b[39;00m \u001b[38;5;129;01mnot\u001b[39;00m \u001b[38;5;28;01mNone\u001b[39;00m: \u001b[38;5;28;01mreturn\u001b[39;00m \u001b[38;5;28mgetattr\u001b[39m(attr,k)\n\u001b[1;32m    528\u001b[0m \u001b[38;5;28;01mraise\u001b[39;00m \u001b[38;5;167;01mAttributeError\u001b[39;00m(k)\n",
      "File \u001b[0;32m~/anaconda3/lib/python3.11/site-packages/fastcore/transform.py:214\u001b[0m, in \u001b[0;36mPipeline.__getattr__\u001b[0;34m(self, k)\u001b[0m\n\u001b[1;32m    212\u001b[0m \u001b[38;5;28;01mdef\u001b[39;00m \u001b[38;5;21m__getitem__\u001b[39m(\u001b[38;5;28mself\u001b[39m,i): \u001b[38;5;28;01mreturn\u001b[39;00m \u001b[38;5;28mself\u001b[39m\u001b[38;5;241m.\u001b[39mfs[i]\n\u001b[1;32m    213\u001b[0m \u001b[38;5;28;01mdef\u001b[39;00m \u001b[38;5;21m__setstate__\u001b[39m(\u001b[38;5;28mself\u001b[39m,data): \u001b[38;5;28mself\u001b[39m\u001b[38;5;241m.\u001b[39m\u001b[38;5;18m__dict__\u001b[39m\u001b[38;5;241m.\u001b[39mupdate(data)\n\u001b[0;32m--> 214\u001b[0m \u001b[38;5;28;01mdef\u001b[39;00m \u001b[38;5;21m__getattr__\u001b[39m(\u001b[38;5;28mself\u001b[39m,k): \u001b[38;5;28;01mreturn\u001b[39;00m gather_attrs(\u001b[38;5;28mself\u001b[39m, k, \u001b[38;5;124m'\u001b[39m\u001b[38;5;124mfs\u001b[39m\u001b[38;5;124m'\u001b[39m)\n\u001b[1;32m    215\u001b[0m \u001b[38;5;28;01mdef\u001b[39;00m \u001b[38;5;21m__dir__\u001b[39m(\u001b[38;5;28mself\u001b[39m): \u001b[38;5;28;01mreturn\u001b[39;00m \u001b[38;5;28msuper\u001b[39m()\u001b[38;5;241m.\u001b[39m\u001b[38;5;21m__dir__\u001b[39m() \u001b[38;5;241m+\u001b[39m gather_attr_names(\u001b[38;5;28mself\u001b[39m, \u001b[38;5;124m'\u001b[39m\u001b[38;5;124mfs\u001b[39m\u001b[38;5;124m'\u001b[39m)\n\u001b[1;32m    217\u001b[0m \u001b[38;5;28;01mdef\u001b[39;00m \u001b[38;5;21mdecode\u001b[39m  (\u001b[38;5;28mself\u001b[39m, o, full\u001b[38;5;241m=\u001b[39m\u001b[38;5;28;01mTrue\u001b[39;00m):\n",
      "File \u001b[0;32m~/anaconda3/lib/python3.11/site-packages/fastcore/transform.py:175\u001b[0m, in \u001b[0;36mgather_attrs\u001b[0;34m(o, k, nm)\u001b[0m\n\u001b[1;32m    173\u001b[0m att \u001b[38;5;241m=\u001b[39m \u001b[38;5;28mgetattr\u001b[39m(o,nm)\n\u001b[1;32m    174\u001b[0m res \u001b[38;5;241m=\u001b[39m [t \u001b[38;5;28;01mfor\u001b[39;00m t \u001b[38;5;129;01min\u001b[39;00m att\u001b[38;5;241m.\u001b[39mattrgot(k) \u001b[38;5;28;01mif\u001b[39;00m t \u001b[38;5;129;01mis\u001b[39;00m \u001b[38;5;129;01mnot\u001b[39;00m \u001b[38;5;28;01mNone\u001b[39;00m]\n\u001b[0;32m--> 175\u001b[0m \u001b[38;5;28;01mif\u001b[39;00m \u001b[38;5;129;01mnot\u001b[39;00m res: \u001b[38;5;28;01mraise\u001b[39;00m \u001b[38;5;167;01mAttributeError\u001b[39;00m(k)\n\u001b[1;32m    176\u001b[0m \u001b[38;5;28;01mreturn\u001b[39;00m res[\u001b[38;5;241m0\u001b[39m] \u001b[38;5;28;01mif\u001b[39;00m \u001b[38;5;28mlen\u001b[39m(res)\u001b[38;5;241m==\u001b[39m\u001b[38;5;241m1\u001b[39m \u001b[38;5;28;01melse\u001b[39;00m L(res)\n",
      "\u001b[0;31mAttributeError\u001b[0m: vocab"
     ]
    }
   ],
   "source": [
    "# Check accuracy\n",
    "learn.show_results()\n",
    "\n",
    "# Plot confusion matrix\n",
    "interp = ClassificationInterpretation.from_learner(learn)\n",
    "interp.plot_confusion_matrix()\n"
   ]
  },
  {
   "cell_type": "code",
   "execution_count": 77,
   "id": "0378aef5-c25b-4091-91ff-84ae340cfc87",
   "metadata": {},
   "outputs": [
    {
     "data": {
      "text/html": [
       "\n",
       "<style>\n",
       "    /* Turns off some styling */\n",
       "    progress {\n",
       "        /* gets rid of default border in Firefox and Opera. */\n",
       "        border: none;\n",
       "        /* Needs to be in here for Safari polyfill so background images work as expected. */\n",
       "        background-size: auto;\n",
       "    }\n",
       "    progress:not([value]), progress:not([value])::-webkit-progress-bar {\n",
       "        background: repeating-linear-gradient(45deg, #7e7e7e, #7e7e7e 10px, #5c5c5c 10px, #5c5c5c 20px);\n",
       "    }\n",
       "    .progress-bar-interrupted, .progress-bar-interrupted::-webkit-progress-bar {\n",
       "        background: #F44336;\n",
       "    }\n",
       "</style>\n"
      ],
      "text/plain": [
       "<IPython.core.display.HTML object>"
      ]
     },
     "metadata": {},
     "output_type": "display_data"
    },
    {
     "data": {
      "text/html": [],
      "text/plain": [
       "<IPython.core.display.HTML object>"
      ]
     },
     "metadata": {},
     "output_type": "display_data"
    },
    {
     "name": "stdout",
     "output_type": "stream",
     "text": [
      "tensor([[-0.1230]])\n"
     ]
    }
   ],
   "source": [
    "# Example of making predictions\n",
    "new_data = pd.DataFrame({\n",
    "    'SHOT_DISTANCE': [14],\n",
    "    'EVENTMSGACTIONTYPE': [97],\n",
    "    'PERIOD': [3],\n",
    "    'TEAM_ID':[15.0]\n",
    "})\n",
    "\n",
    "# Convert to DataLoader format\n",
    "new_dl = learn.dls.test_dl(new_data)\n",
    "\n",
    "# Make predictions\n",
    "preds, _ = learn.get_preds(dl=new_dl)\n",
    "print(preds)\n"
   ]
  },
  {
   "cell_type": "code",
   "execution_count": null,
   "id": "2843a820-2396-4a73-98b2-7ba5b9f5365c",
   "metadata": {},
   "outputs": [],
   "source": [
    "shotLab={\n",
    "\n",
    "    1: \"Jump Shot\",\n",
    "    2: \"Running Jump Shot\",\n",
    "    3: \"Hook Shot\",\n",
    "    5: \"Layup\",\n",
    "    6: \"Driving Layup\",\n",
    "    7: \"Dunk\",  \n",
    "    41: \"Running Layup\",\n",
    "    43: \"Alley Oop Layup\",\n",
    "    44: \"Reverse Layup\",\n",
    "    47: \"Turnaround Jump Shot\",\n",
    "    50: \"Running Dunk\",  \n",
    "    52: \"Alley Oop Dunk\",\n",
    "    58: \"Turnaround Hook Shot\",  \n",
    "    63: \"Fadeaway Jumper\",\n",
    "    66: \"Jump Bank Shot\",\n",
    "    71: \"Finger Roll Layup\",\n",
    "    72: \"Putback Layup\",  \n",
    "    73: \"Driving Reverse Layup\",\n",
    "    75: \"Driving Finger Roll Layup\",\n",
    "    76: \"Running Finger Roll Layup\",\n",
    "    78: \"Floating Jump Shot\",\n",
    "    79: \"Pullup Jump Shot\",\n",
    "    80: \"Step Back Jump Shot\",\n",
    "    86: \"Turnaround Fadeaway\",\n",
    "    97: \"Tip Layup Shot\",\n",
    "    98: \"Cutting Layup Shot\",\n",
    "    99: \"Cutting Finger Roll Layup Shot\",  \n",
    "    105: \"Turnaround Fadeaway Bank Jump Shot\",\n",
    "    107: \"Tip Dunk Shot\",\n",
    "    108: \"Cutting Dunk Shot\"  \n",
    "\n",
    "}"
   ]
  },
  {
   "cell_type": "code",
   "execution_count": 98,
   "id": "f6e79252-c413-413c-921c-c9002488aae3",
   "metadata": {},
   "outputs": [
    {
     "data": {
      "text/plain": [
       "array(['Right Side Center(RC)', 'Right Side(R)', 'Left Side Center(LC)',\n",
       "       'Center(C)', 'Left Side(L)', 'Back Court(BC)'], dtype=object)"
      ]
     },
     "execution_count": 98,
     "metadata": {},
     "output_type": "execute_result"
    }
   ],
   "source": [
    "season_data[tid]['SHOT_ZONE_AREA'].unique()"
   ]
  },
  {
   "cell_type": "code",
   "execution_count": null,
   "id": "b93b0467-40aa-4491-bab6-a8bc824b9d05",
   "metadata": {},
   "outputs": [],
   "source": []
  }
 ],
 "metadata": {
  "kernelspec": {
   "display_name": "Python 3 (ipykernel)",
   "language": "python",
   "name": "python3"
  },
  "language_info": {
   "codemirror_mode": {
    "name": "ipython",
    "version": 3
   },
   "file_extension": ".py",
   "mimetype": "text/x-python",
   "name": "python",
   "nbconvert_exporter": "python",
   "pygments_lexer": "ipython3",
   "version": "3.11.5"
  }
 },
 "nbformat": 4,
 "nbformat_minor": 5
}
