{
 "cells": [
  {
   "cell_type": "code",
   "execution_count": 30,
   "id": "0d8e7142-6f2e-42d6-8682-14584ec426cb",
   "metadata": {},
   "outputs": [],
   "source": [
    "import cv2\n",
    "import requests\n",
    "import numpy as np\n",
    "import os\n",
    "import time\n",
    "from nba_api.stats.endpoints import leaguegamefinder"
   ]
  },
  {
   "cell_type": "code",
   "execution_count": 4,
   "id": "731c9187-a192-41f6-bfdb-55dd78633c28",
   "metadata": {},
   "outputs": [
    {
     "data": {
      "text/plain": [
       "array(['0041900406', '0041900405', '0041900404', ..., '0011900002',\n",
       "       '0011900004', '0011900001'], dtype=object)"
      ]
     },
     "execution_count": 4,
     "metadata": {},
     "output_type": "execute_result"
    }
   ],
   "source": [
    "def get_season_games(season_year='2019-20'):\n",
    "    gamefinder = leaguegamefinder.LeagueGameFinder(season_nullable=season_year)\n",
    "    games_df = gamefinder.get_data_frames()[0]\n",
    "    return games_df['GAME_ID'].unique()\n",
    "\n",
    "game_ids = get_season_games('2019-20')\n",
    "game_ids"
   ]
  },
  {
   "cell_type": "code",
   "execution_count": 24,
   "id": "f8b2f131-d441-44ca-b929-1cdedb3f48ba",
   "metadata": {},
   "outputs": [
    {
     "name": "stdout",
     "output_type": "stream",
     "text": [
      "['2021900513' '2021900509' '0021900883' '0021900879' '0021900884']\n"
     ]
    }
   ],
   "source": [
    "subsetGMs=game_ids[350:360:2]\n",
    "print(subsetGMs)"
   ]
  },
  {
   "cell_type": "code",
   "execution_count": 35,
   "id": "a67dbc9e-6148-4992-a706-1326ca27299b",
   "metadata": {},
   "outputs": [],
   "source": [
    "headers = {\n",
    "    'Host': 'stats.nba.com',\n",
    "    'User-Agent': 'Mozilla/5.0 (Windows NT 10.0; Win64; x64; rv:72.0) Gecko/20100101 Firefox/72.0',\n",
    "    'Accept': 'application/json, text/plain, */*',\n",
    "    'Accept-Language': 'en-US,en;q=0.5',\n",
    "    'Accept-Encoding': 'gzip, deflate, br',\n",
    "    'x-nba-stats-origin': 'stats',\n",
    "    'x-nba-stats-token': 'true',\n",
    "    'Connection': 'keep-alive',\n",
    "    'Referer': 'https://stats.nba.com/',\n",
    "    'Pragma': 'no-cache',\n",
    "    'Cache-Control': 'no-cache'\n",
    "}"
   ]
  },
  {
   "cell_type": "code",
   "execution_count": 49,
   "id": "3e069ad2-a1cb-43ed-9a50-bf11d3273d86",
   "metadata": {},
   "outputs": [
    {
     "name": "stdout",
     "output_type": "stream",
     "text": [
      "25.0% of 2021900513 complete\n",
      "50.0% of 2021900513 complete\n",
      "75.0% of 2021900513 complete\n",
      "100.0% of 2021900513 complete\n",
      "25.0% of 2021900509 complete\n",
      "50.0% of 2021900509 complete\n",
      "75.0% of 2021900509 complete\n",
      "100.0% of 2021900509 complete\n",
      "25.0% of 0021900883 complete\n",
      "50.0% of 0021900883 complete\n",
      "75.0% of 0021900883 complete\n",
      "100.0% of 0021900883 complete\n",
      "25.0% of 0021900879 complete\n",
      "50.0% of 0021900879 complete\n",
      "75.0% of 0021900879 complete\n",
      "100.0% of 0021900879 complete\n",
      "25.0% of 0021900884 complete\n",
      "50.0% of 0021900884 complete\n",
      "75.0% of 0021900884 complete\n",
      "100.0% of 0021900884 complete\n"
     ]
    }
   ],
   "source": [
    "successful_video_eventssuccessful_video_events=[]\n",
    "for gid in subsetGMs:\n",
    "    for i in range(200):\n",
    "        time.sleep(.2)\n",
    "        if (i+1)%50 == 0:\n",
    "            print(str((i+1)/2)+'% of', gid ,'complete')\n",
    "        video_count=0\n",
    "        event_id = i\n",
    "        game_id = gid\n",
    "        url = 'https://stats.nba.com/stats/videoeventsasset?GameEventID={}&GameID={}'.format(\n",
    "            event_id, game_id)\n",
    "        try:\n",
    "            r = requests.get(url, headers=headers)\n",
    "            json = r.json()\n",
    "            video_urls = json['resultSets']['Meta'].get('videoUrls', [])\n",
    "            playlist = json['resultSets'].get('playlist', [])\n",
    "            \n",
    "            if video_urls and playlist:  # Ensure there are items before accessing\n",
    "                video_event = {'video': video_urls[0]['lurl'], 'desc': playlist[0]['dsc']}\n",
    "                successful_video_events.append(video_event)\n",
    "    \n",
    "        except KeyError as e:\n",
    "            print(f\"KeyError encountered for event ID {event_id}: {e}\")\n",
    "        except Exception as e:\n",
    "            print(f\"An error occurred for event ID {event_id}: {e}\")"
   ]
  },
  {
   "cell_type": "code",
   "execution_count": 51,
   "id": "d3888d0c-50ae-4992-ae6e-194c708d6e38",
   "metadata": {},
   "outputs": [],
   "source": [
    "sve=successful_video_events"
   ]
  },
  {
   "cell_type": "code",
   "execution_count": 57,
   "id": "113e3011-96ca-4011-8600-222c9913e471",
   "metadata": {},
   "outputs": [
    {
     "name": "stdout",
     "output_type": "stream",
     "text": [
      "940 940\n"
     ]
    }
   ],
   "source": [
    "sve_backup=sve\n",
    "print(len(sve),len(sve_backup))"
   ]
  },
  {
   "cell_type": "code",
   "execution_count": 59,
   "id": "7ccab988-c6c4-45fc-96f7-40e1eb22790d",
   "metadata": {},
   "outputs": [
    {
     "name": "stdout",
     "output_type": "stream",
     "text": [
      "before pruning: 940\n",
      "after pruning: 842 \n",
      " makes: 540 \n",
      " miss: 204\n"
     ]
    }
   ],
   "source": [
    "print('before pruning:',len(sve))\n",
    "\n",
    "make=[]\n",
    "miss=[]\n",
    "\n",
    "for i in sve:\n",
    "    if not i['video']:\n",
    "        sve.remove(i)\n",
    "    else:\n",
    "        if 'MISS' in i['desc']:\n",
    "            miss.append(i)\n",
    "        else:\n",
    "            make.append(i)\n",
    "print('after pruning:',len(sve),'\\n makes:',len(make),'\\n miss:',len(miss))"
   ]
  },
  {
   "cell_type": "code",
   "execution_count": 63,
   "id": "755b045c-4c00-402b-963a-0de8d00a7918",
   "metadata": {},
   "outputs": [
    {
     "name": "stdout",
     "output_type": "stream",
     "text": [
      "0\n"
     ]
    }
   ],
   "source": [
    "count=0\n",
    "for m in make:\n",
    "    if 'Shot' in make:\n",
    "        count+=1\n",
    "print(count)"
   ]
  },
  {
   "cell_type": "code",
   "execution_count": null,
   "id": "ab8cf593-9d6d-460e-9162-2145ee663ef3",
   "metadata": {},
   "outputs": [],
   "source": []
  }
 ],
 "metadata": {
  "kernelspec": {
   "display_name": "Python 3 (ipykernel)",
   "language": "python",
   "name": "python3"
  },
  "language_info": {
   "codemirror_mode": {
    "name": "ipython",
    "version": 3
   },
   "file_extension": ".py",
   "mimetype": "text/x-python",
   "name": "python",
   "nbconvert_exporter": "python",
   "pygments_lexer": "ipython3",
   "version": "3.11.5"
  }
 },
 "nbformat": 4,
 "nbformat_minor": 5
}
